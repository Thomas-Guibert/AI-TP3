{
  "nbformat": 4,
  "nbformat_minor": 0,
  "metadata": {
    "colab": {
      "name": "AI - TP3.ipynb",
      "provenance": [],
      "collapsed_sections": [],
      "toc_visible": true,
      "include_colab_link": true
    },
    "kernelspec": {
      "name": "python3",
      "display_name": "Python 3"
    },
    "language_info": {
      "name": "python"
    }
  },
  "cells": [
    {
      "cell_type": "markdown",
      "metadata": {
        "id": "view-in-github",
        "colab_type": "text"
      },
      "source": [
        "<a href=\"https://colab.research.google.com/github/Thomas-Guibert/AI-TP3/blob/main/AI_TP3.ipynb\" target=\"_parent\"><img src=\"https://colab.research.google.com/assets/colab-badge.svg\" alt=\"Open In Colab\"/></a>"
      ]
    },
    {
      "cell_type": "markdown",
      "metadata": {
        "id": "6xz5twyhwjiJ"
      },
      "source": [
        "# TP Machine Learning avec Scikit Learn\n",
        "\n"
      ]
    },
    {
      "cell_type": "markdown",
      "metadata": {
        "id": "HcqD9PRiSLNx"
      },
      "source": [
        "## Exercice 1: Échauffement avec le dataset Hearthstone\n"
      ]
    },
    {
      "cell_type": "markdown",
      "metadata": {
        "id": "6ubD7R9xSHKn"
      },
      "source": [
        "### A - Les données\n"
      ]
    },
    {
      "cell_type": "markdown",
      "metadata": {
        "id": "q0H6g2GE8xc9"
      },
      "source": [
        "L'objectif de cette premiere partie est de prendre en main le traitement des données ainsi que la prise en main de colab.\n",
        "Pour ce faire nous allons utiliser des dataset de partie de Heartstone bien plus complete que celle utiliser pour le TP précédent."
      ]
    },
    {
      "cell_type": "code",
      "metadata": {
        "colab": {
          "base_uri": "https://localhost:8080/"
        },
        "id": "90McDWpgz67S",
        "outputId": "b6f0592d-7e1e-45fa-843b-cbe2f20460e8"
      },
      "source": [
        "from google.colab import drive\n",
        "drive.mount('/content/drive')"
      ],
      "execution_count": 30,
      "outputs": [
        {
          "output_type": "stream",
          "text": [
            "Drive already mounted at /content/drive; to attempt to forcibly remount, call drive.mount(\"/content/drive\", force_remount=True).\n"
          ],
          "name": "stdout"
        }
      ]
    },
    {
      "cell_type": "markdown",
      "metadata": {
        "id": "R2nVs16n0_QT"
      },
      "source": [
        "C'est premiere ligne servent uniquement a colab pour aller chercher les ressource presnte dans le drive."
      ]
    },
    {
      "cell_type": "code",
      "metadata": {
        "colab": {
          "base_uri": "https://localhost:8080/"
        },
        "id": "gOn2Zv3-0WW3",
        "outputId": "6a9a9c76-c30c-44f4-f443-fa28d73b47bb"
      },
      "source": [
        "import pandas as pd  # charge le module pandas et le renomme pd\n",
        "data = pd.read_csv(\"/content/drive/MyDrive/Université/M1/S8/IA/TP3/full_dataset.csv\")\n",
        "\n",
        "#Affichage des attribut\n",
        "print(data.columns)\n",
        "print(\"\")\n",
        "#Resumer des donnée\n",
        "print(data)\n",
        "\n",
        "print(\"\")\n",
        "help(len)"
      ],
      "execution_count": 31,
      "outputs": [
        {
          "output_type": "stream",
          "text": [
            "Index(['game_id', 'me_playing', 'my_board_nb_creatures',\n",
            "       'my_board_total_attack', 'my_board_total_health', 'my_class', 'my_hand',\n",
            "       'my_health', 'opponent_board_nb_creatures',\n",
            "       'opponent_board_total_attack', 'opponent_board_total_health',\n",
            "       'opponent_class', 'opponent_hand', 'opponent_health', 'result',\n",
            "       'turn_id', 'turns_to_end'],\n",
            "      dtype='object')\n",
            "\n",
            "       game_id  me_playing  ...  turn_id  turns_to_end\n",
            "0          434       False  ...        1            10\n",
            "1          434        True  ...        2             9\n",
            "2          434       False  ...        3             8\n",
            "3          434        True  ...        4             7\n",
            "4          434       False  ...        5             6\n",
            "...        ...         ...  ...      ...           ...\n",
            "36143      728       False  ...       17             4\n",
            "36144      728        True  ...       18             3\n",
            "36145      728       False  ...       19             2\n",
            "36146      728        True  ...       20             1\n",
            "36147      728       False  ...       21             0\n",
            "\n",
            "[36148 rows x 17 columns]\n",
            "\n",
            "Help on built-in function len in module builtins:\n",
            "\n",
            "len(obj, /)\n",
            "    Return the number of items in a container.\n",
            "\n"
          ],
          "name": "stdout"
        }
      ]
    },
    {
      "cell_type": "markdown",
      "metadata": {
        "id": "clqDfFq883nA"
      },
      "source": [
        "L'objet data permet d'avoir accès a l'objet full_dataset.csv qui contient nos donnée. Grace a lui nous ponvons accéder facilement au donnée et attribut qu'elle contient.\n",
        "Nous allons voir plusieurs façon de recolter ces attribut.\n",
        "\n",
        "premierement pour avoir la liste des attribut de data il suffit de faire data.columns, a ou un simpl data suffit pour recupere un resumer des données (Pour chaque ligne récupérer les valeur de tout les attribut, soit 36148 ligne pour 17 columns).\n",
        "\n",
        "On peut noté la presence de la commande spécial help qui permet d'avoir la documentation de la fonction donnée, dans notre exemple il s'agit de la fonction len."
      ]
    },
    {
      "cell_type": "code",
      "metadata": {
        "colab": {
          "base_uri": "https://localhost:8080/"
        },
        "id": "Kwme0JO73C7Y",
        "outputId": "7862d859-55ec-49a6-be74-e469adb10122"
      },
      "source": [
        "print(\"taille des donnée, nombre de ligne\")\n",
        "print(len(data))\n",
        "print(\"\")\n",
        "print(\"\")\n",
        "print(\"taille des donnée, nombre de ligne\")\n",
        "print(\"premier attribut des données\")\n",
        "print(\"    \"+data.columns[0])\n",
        "print(\"troisième attribut des données\")\n",
        "print(\"    \"+data.columns[2])\n",
        "print(\"derniere attribut des données\")\n",
        "print(\"    \"+data.columns[-1]) \n",
        "print(\"\")\n",
        "print(\"\")\n",
        "print(\"Nombre de ligne et nombre de colone\")\n",
        "print(data.shape) \n",
        "print(\"\")\n",
        "print(\"\")\n",
        "print(\"Recuperation de la valeur de tout les attribut du premier element\")\n",
        "print(data.iloc[0])\n",
        "print(\"\")\n",
        "print(\"\")\n",
        "print(\"Recuperation de la valeur de tout les attributs des 5 premiere ligne\")\n",
        "print(data[0:5])\n",
        "print(\"\")\n",
        "print(\"Recuperation de la valeur de tout les attributs des 5 derniere ligne\")\n",
        "print(data[-5:-1])\n",
        "print(\"\")\n",
        "print(\"Recuperation de la valeur de tout les attributs qui sont des multiple de trois et inferieur a 10\")\n",
        "print(data[0:10:3])\n",
        "\n",
        "print(\"\")\n",
        "print(\"\")\n",
        "print(\"Affiche l'attribut de la santé de toutes les lignes\")\n",
        "print(data[\"my_health\"])\n",
        "print(\"\")\n",
        "print(\"\")\n",
        "print(\"Affiche les attribut my_health et my_hand des ligne 0 a 5\")\n",
        "print(data[[\"my_health\",\"my_hand\"]][0:5])"
      ],
      "execution_count": 32,
      "outputs": [
        {
          "output_type": "stream",
          "text": [
            "taille des donnée, nombre de ligne\n",
            "36148\n",
            "\n",
            "\n",
            "taille des donnée, nombre de ligne\n",
            "premier attribut des données\n",
            "    game_id\n",
            "troisième attribut des données\n",
            "    my_board_nb_creatures\n",
            "derniere attribut des données\n",
            "    turns_to_end\n",
            "\n",
            "\n",
            "Nombre de ligne et nombre de colone\n",
            "(36148, 17)\n",
            "\n",
            "\n",
            "Recuperation de la valeur de tout les attribut du premier element\n",
            "game_id                            434\n",
            "me_playing                       False\n",
            "my_board_nb_creatures                0\n",
            "my_board_total_attack                0\n",
            "my_board_total_health                0\n",
            "my_class                          Mage\n",
            "my_hand                              5\n",
            "my_health                           30\n",
            "opponent_board_nb_creatures          2\n",
            "opponent_board_total_attack          6\n",
            "opponent_board_total_health          3\n",
            "opponent_class                 Warlock\n",
            "opponent_hand                        3\n",
            "opponent_health                     27\n",
            "result                               0\n",
            "turn_id                              1\n",
            "turns_to_end                        10\n",
            "Name: 0, dtype: object\n",
            "\n",
            "\n",
            "Recuperation de la valeur de tout les attributs des 5 premiere ligne\n",
            "   game_id  me_playing  my_board_nb_creatures  ...  result  turn_id turns_to_end\n",
            "0      434       False                      0  ...       0        1           10\n",
            "1      434        True                      2  ...       0        2            9\n",
            "2      434       False                      0  ...       0        3            8\n",
            "3      434        True                      1  ...       0        4            7\n",
            "4      434       False                      0  ...       0        5            6\n",
            "\n",
            "[5 rows x 17 columns]\n",
            "\n",
            "Recuperation de la valeur de tout les attributs des 5 derniere ligne\n",
            "       game_id  me_playing  ...  turn_id  turns_to_end\n",
            "36143      728       False  ...       17             4\n",
            "36144      728        True  ...       18             3\n",
            "36145      728       False  ...       19             2\n",
            "36146      728        True  ...       20             1\n",
            "\n",
            "[4 rows x 17 columns]\n",
            "\n",
            "Recuperation de la valeur de tout les attributs qui sont des multiple de trois et inferieur a 10\n",
            "   game_id  me_playing  my_board_nb_creatures  ...  result  turn_id turns_to_end\n",
            "0      434       False                      0  ...       0        1           10\n",
            "3      434        True                      1  ...       0        4            7\n",
            "6      434       False                      0  ...       0        7            4\n",
            "9      434        True                      2  ...       0       10            1\n",
            "\n",
            "[4 rows x 17 columns]\n",
            "\n",
            "\n",
            "Affiche l'attribut de la santé de toutes les lignes\n",
            "0        30\n",
            "1        30\n",
            "2        29\n",
            "3        29\n",
            "4        29\n",
            "         ..\n",
            "36143    14\n",
            "36144    16\n",
            "36145    16\n",
            "36146    20\n",
            "36147    20\n",
            "Name: my_health, Length: 36148, dtype: int64\n",
            "\n",
            "\n",
            "Affiche les attribut my_health et my_hand des ligne 0 a 5\n",
            "   my_health  my_hand\n",
            "0         30        5\n",
            "1         30        3\n",
            "2         29        3\n",
            "3         29        3\n",
            "4         29        3\n"
          ],
          "name": "stdout"
        }
      ]
    },
    {
      "cell_type": "markdown",
      "metadata": {
        "id": "xHLl7NWt_W6f"
      },
      "source": [
        "Comme le dit la commande help len sert a obtenir la taille des donnée, c'est a dire le nombres de ligne soit 36148.\n",
        "\n",
        "Pour avoir l'attribut corespondant a une colone, on peut faire data.columns[nb de la colone].\n",
        "On peut aussi recupere le nombre de columne et de ligne avec data.shape\n",
        "\n",
        "Avec data.iloc[nb] on peut recupere la valeur de tout les attributs de la ligne donnée.\n",
        "\n",
        "Grace a data[0:5] on peut faire comme iloc mais ici on recupere tout les attribut des ligne compris dans l'interval donnée. Les nombre négatif permet d'aler recupere les derniere lignes.\n",
        "Il existe la variante data[0:10:3] qui fait exactement la meme chose mais cette fois elle prendre les ligne mulitple du troisième nombre rentrer dans l'intervalle former avec les deux premiers chiffre rentrer.\n",
        "\n",
        "Les derniere commande permetais de recupere des lignes, avec data[attribut] on recupèr l'entièreter des valeur que l'attribut a pour chaqu'un des lignes.\n",
        "\n",
        "On peut aussi combiner plusieurs commande et avoir ce genre de chose : (data[[\"my_health\",\"my_hand\"]][0:5]) :\n",
        "Cela permet de recupere la valeu des deux attribut renseigner pour les ligne de l'intervale donnée.\n"
      ]
    },
    {
      "cell_type": "code",
      "metadata": {
        "colab": {
          "base_uri": "https://localhost:8080/"
        },
        "id": "vs479Nm-9O_A",
        "outputId": "f2eda67c-7070-4445-a806-080a3fea96e8"
      },
      "source": [
        "turns_before_end = 4   # 4 tours avant la fin\n",
        "\n",
        "print(\"nombre de ligne ou est egal a 4\")\n",
        "turn_df = data[data[\"turns_to_end\"]==turns_before_end]\n",
        "print(len(turn_df))"
      ],
      "execution_count": 33,
      "outputs": [
        {
          "output_type": "stream",
          "text": [
            "nombre de ligne ou est egal a 4\n",
            "2049\n"
          ],
          "name": "stdout"
        }
      ]
    },
    {
      "cell_type": "markdown",
      "metadata": {
        "id": "tp6C7YcKRXCn"
      },
      "source": [
        "Dans notre étude nous allons analyser les partie ou il ne reste que 4 tours a joué avant la fin de la partie. Il nous faut donc faire un tri sur les données, la ligne suivant : data[data[\"turns_to_end\"]==turns_before_end] , permet de recupere les ligne pour lesquels l'attribut \"turns_before_end\" est égale à 4.\n",
        "\n",
        "En combinant cela avec len on recupere le nombre de ligne ou il ne reste que 4 tour avant la fin de la partie."
      ]
    },
    {
      "cell_type": "code",
      "metadata": {
        "colab": {
          "base_uri": "https://localhost:8080/"
        },
        "id": "1j1CNcgX9mau",
        "outputId": "28373768-634d-4d65-94e1-31cc7d555ffc"
      },
      "source": [
        "features_cols = [\"my_health\", \"opponent_health\", \"my_hand\", \"opponent_hand\", \"my_board_nb_creatures\",\n",
        "     \"my_board_total_health\", \"my_board_total_attack\", \"opponent_board_nb_creatures\",\n",
        "     \"opponent_board_total_health\", \"opponent_board_total_attack\", \"me_playing\"]\n",
        " \n",
        "pred_col = \"result\"\n",
        " \n",
        "X = turn_df[features_cols]\n",
        "Y = turn_df[pred_col]\n",
        "#Description des ligne ou il n'y a plus que 4 tour avant la fin\n",
        "print(X)\n",
        "#Affichage d'uniquement le resultat pour chacune\n",
        "print(Y)"
      ],
      "execution_count": 34,
      "outputs": [
        {
          "output_type": "stream",
          "text": [
            "       my_health  opponent_health  ...  opponent_board_total_attack  me_playing\n",
            "6             23               27  ...                         11.0       False\n",
            "13            27               30  ...                          6.0        True\n",
            "28             8               28  ...                         13.0       False\n",
            "45            24                9  ...                          4.0        True\n",
            "65            18               20  ...                         17.0       False\n",
            "...          ...              ...  ...                          ...         ...\n",
            "36086         22               23  ...                          0.0       False\n",
            "36096         26               28  ...                          5.0        True\n",
            "36108         23               15  ...                          3.0       False\n",
            "36122         30               30  ...                          6.0        True\n",
            "36143         14               23  ...                          6.0       False\n",
            "\n",
            "[2049 rows x 11 columns]\n",
            "6        0\n",
            "13       0\n",
            "28       0\n",
            "45       1\n",
            "65       0\n",
            "        ..\n",
            "36086    1\n",
            "36096    1\n",
            "36108    1\n",
            "36122    1\n",
            "36143    0\n",
            "Name: result, Length: 2049, dtype: int64\n"
          ],
          "name": "stdout"
        }
      ]
    },
    {
      "cell_type": "markdown",
      "metadata": {
        "id": "Ds8D9pePb0-H"
      },
      "source": [
        "Les ligne au dessus permet d'afficher le contenu des ligne ou il ne reste que 4 tour avant la fin de la partie. \n",
        "avec turn_df[\"result\"] on affiche le resultat de victoire ou non de la partie."
      ]
    },
    {
      "cell_type": "markdown",
      "metadata": {
        "id": "h4e5ZesTDJJU"
      },
      "source": [
        "### B - Affichage"
      ]
    },
    {
      "cell_type": "markdown",
      "metadata": {
        "id": "nxlj-XaMf0ZK"
      },
      "source": [
        "Pour afficher les donnée de maniere a bien les visualiser, nous utiliserons matplotlib.pyplot."
      ]
    },
    {
      "cell_type": "code",
      "metadata": {
        "colab": {
          "base_uri": "https://localhost:8080/",
          "height": 296
        },
        "id": "8MQGZdxzDgBg",
        "outputId": "0128350e-d1de-4834-cfb9-0df01e991571"
      },
      "source": [
        "from matplotlib import pyplot as plt # alias the name \"pyplot\" by \"plt\" \n",
        " \n",
        "x_col=\"my_health\"\n",
        "y_col=\"opponent_health\"\n",
        " \n",
        "plt.xlabel(x_col) # all the functions defined in a given library should be prefixed by the name of the library\n",
        "plt.ylabel(y_col)\n",
        "plt.title(\"Hearthstone data: health\")\n",
        "\n",
        "plt.scatter(X[x_col], X[y_col],c=Y)\n",
        "plt.show() "
      ],
      "execution_count": 35,
      "outputs": [
        {
          "output_type": "display_data",
          "data": {
            "image/png": "[encoded data removed]",
            "text/plain": [
              "<Figure size 432x288 with 1 Axes>"
            ]
          },
          "metadata": {
            "tags": [],
            "needs_background": "light"
          }
        }
      ]
    },
    {
      "cell_type": "markdown",
      "metadata": {
        "id": "cYIZCzyirZVs"
      },
      "source": [
        "Ici on peut visualiser le nombre de vie de chaqu'un des joueur au moment ou il n'y a plus que 4 tour a jouer, et on voit si la partie a ete gagner ou pas."
      ]
    },
    {
      "cell_type": "code",
      "metadata": {
        "colab": {
          "base_uri": "https://localhost:8080/",
          "height": 707
        },
        "id": "0KaNeHJgZ_Jv",
        "outputId": "0285dedd-7202-46cb-c69b-60762015e4c2"
      },
      "source": [
        "#Remplace les 0 et 1 des resultat par True et False\n",
        "print(Y==0)\n",
        "#fait la meme chose mais en affichant tout les autre attribut\n",
        "print(X[Y==0])\n",
        "\n",
        "plt.scatter(X[Y==0][x_col], X[Y==0][y_col], color=\"red\",label=\"lose\")\n",
        "plt.scatter(X[Y==1][x_col], X[Y==1][y_col], color=\"green\",label=\"win\") \n",
        "\n",
        "plt.legend()\n",
        "plt.show()"
      ],
      "execution_count": 36,
      "outputs": [
        {
          "output_type": "stream",
          "text": [
            "6         True\n",
            "13        True\n",
            "28        True\n",
            "45       False\n",
            "65        True\n",
            "         ...  \n",
            "36086    False\n",
            "36096    False\n",
            "36108    False\n",
            "36122    False\n",
            "36143     True\n",
            "Name: result, Length: 2049, dtype: bool\n",
            "       my_health  opponent_health  ...  opponent_board_total_attack  me_playing\n",
            "6             23               27  ...                         11.0       False\n",
            "13            27               30  ...                          6.0        True\n",
            "28             8               28  ...                         13.0       False\n",
            "65            18               20  ...                         17.0       False\n",
            "79            26               26  ...                          7.0        True\n",
            "...          ...              ...  ...                          ...         ...\n",
            "35913         28               18  ...                         13.0       False\n",
            "35932         13               30  ...                         11.0       False\n",
            "35962         13               14  ...                          0.0        True\n",
            "36034          9               15  ...                          6.0       False\n",
            "36143         14               23  ...                          6.0       False\n",
            "\n",
            "[920 rows x 11 columns]\n"
          ],
          "name": "stdout"
        },
        {
          "output_type": "display_data",
          "data": {
            "image/png": "[encoded data removed]",
            "text/plain": [
              "<Figure size 432x288 with 1 Axes>"
            ]
          },
          "metadata": {
            "tags": [],
            "needs_background": "light"
          }
        }
      ]
    },
    {
      "cell_type": "markdown",
      "metadata": {
        "id": "qB7_X-kZvSI_"
      },
      "source": [
        "Grace a Y==0 on peut remplacer les 0 et les 1 de resultat par un boolean\n",
        "En appliquans cela a X on remplace les nombres de la colomns Resultat par des boolean en gardant toutes les autre colomnes intacte\n",
        "\n",
        "En passant a des boolean,nous pouvons indiquer la couleur et le label associer au element respectant la condition donnée qui est que le resultat soit faux pour rouge et vrai pour vert.\n",
        "Une fois les regle de traitement de donnée mis en place, il suffit d'affiche la legend et le diagramme avec les deux derniere ligne du code ci-dessus pour avoir les resultat avec un code couleur plus parlant"
      ]
    },
    {
      "cell_type": "code",
      "metadata": {
        "colab": {
          "base_uri": "https://localhost:8080/",
          "height": 296
        },
        "id": "QamGOgpqumI8",
        "outputId": "89adbcda-fdb0-4398-96c4-d57c98d7f572"
      },
      "source": [
        "# TP3prog1.py\n",
        " \n",
        "import pandas as pd\n",
        "from matplotlib import pyplot as plt\n",
        "from numpy.random import random\n",
        " \n",
        "data = pd.read_csv(\"/content/drive/MyDrive/Université/M1/S8/IA/TP3/full_dataset.csv\")\n",
        " \n",
        "features_cols = [\"my_health\", \"opponent_health\", \"my_hand\", \"opponent_hand\", \"my_board_nb_creatures\",\n",
        "     \"my_board_total_health\", \"my_board_total_attack\", \"opponent_board_nb_creatures\",\n",
        "     \"opponent_board_total_health\", \"opponent_board_total_attack\", \"me_playing\"]\n",
        " \n",
        "pred_col = \"result\"\n",
        " \n",
        "turns_before_end = 4\n",
        " \n",
        "turn_df = data[data[\"turns_to_end\"] == turns_before_end]\n",
        "X = turn_df[features_cols]\n",
        "Y = turn_df[pred_col]\n",
        " \n",
        "x_col=\"my_health\"\n",
        "y_col=\"opponent_health\"\n",
        " \n",
        "colors=[\"red\", \"green\"]\n",
        "labels=[\"loose\", \"win\"]\n",
        "for i in range(2):\n",
        "    indices = Y==i\n",
        "    nb_rows = sum(indices)\n",
        "    plt.scatter(X[indices][x_col] + 0.5*(random(nb_rows)-0.5),\n",
        "                X[indices][y_col] + 0.5*(random(nb_rows)-0.5),\n",
        "                color=colors[i],label=labels[i],s=2)\n",
        "plt.legend()\n",
        "plt.xlabel(x_col) \n",
        "plt.ylabel(y_col)\n",
        "plt.title(\"Hearthstone data: health\") \n",
        "plt.show()"
      ],
      "execution_count": 37,
      "outputs": [
        {
          "output_type": "display_data",
          "data": {
            "image/png": "[encoded data removed]",
            "text/plain": [
              "<Figure size 432x288 with 1 Axes>"
            ]
          },
          "metadata": {
            "tags": [],
            "needs_background": "light"
          }
        }
      ]
    },
    {
      "cell_type": "markdown",
      "metadata": {
        "id": "cTPXzidc5Uv0"
      },
      "source": [
        "Le diagramme ci-dessus est gener par l'execution du code de TP3prog1.py.\n",
        "\n",
        "À quoi sert le nombre aléatoire ajouté avec random ?\n",
        "\n",
        "Le nombre random permet de faire des petit décalage pour chaque point car plusieurs point de differente couleur se supperposais dans le diagramme précédant.\n",
        "\n",
        "Cette visualisation est-elle plus informative que la précédente ?\n",
        "Cette visualisation est donc bien plus informative car on va plus clairement les différents point et leurs appartenance (victoire ou défaite)."
      ]
    },
    {
      "cell_type": "markdown",
      "metadata": {
        "id": "F8uv9AHoSYL8"
      },
      "source": [
        "## Exercice 2 : Classification KNN sur Hearthstone\n"
      ]
    },
    {
      "cell_type": "markdown",
      "metadata": {
        "id": "zL4uyfUT5jmy"
      },
      "source": [
        "Dans cette partie nous allons utiliser la classificateur des \"k plus proche voisin\" utilisable abec l'import neighbors.\n",
        "Cette import donne un certaine nombre de commande permet d'avoir des information precise sur notre classification, tel que classifier des exemple, definir la probabilite de la classification ou encore le score globale du classificateur."
      ]
    },
    {
      "cell_type": "code",
      "metadata": {
        "colab": {
          "base_uri": "https://localhost:8080/"
        },
        "id": "SYcsIyEl5iRQ",
        "outputId": "fe43cf1e-00c9-416f-9b54-caff7cf75c79"
      },
      "source": [
        "from sklearn import neighbors\n",
        "nb_neighb = 45\n",
        "\n",
        "# pour de l’aide taper: help(neighbors.KNeighborsClassifier)\n",
        "clf = neighbors.KNeighborsClassifier(nb_neighb)\n",
        "\n",
        "# pour de l’aide taper: help(clf.fit)\n",
        "clf.fit(X, Y) #on suppose de X et Y sont définis comme dans la partie précédente\n",
        "\n",
        "# pour de l’aide taper: help(clf.predict) \n",
        "print(clf.predict(X[0:5])) \n",
        "\n",
        "print(clf.predict_proba(X[0:5])) \n",
        "print(clf.score(X,Y)) "
      ],
      "execution_count": 38,
      "outputs": [
        {
          "output_type": "stream",
          "text": [
            "[0 0 0 1 0]\n",
            "[[0.93333333 0.06666667]\n",
            " [0.68888889 0.31111111]\n",
            " [0.95555556 0.04444444]\n",
            " [0.17777778 0.82222222]\n",
            " [0.82222222 0.17777778]]\n",
            "0.7837969741337237\n"
          ],
          "name": "stdout"
        }
      ]
    },
    {
      "cell_type": "markdown",
      "metadata": {
        "id": "Wwu7-9-QRxYA"
      },
      "source": [
        "La premiere ligne \"neighbors.KNeighborsClassifier(nb_neighb)\" permet de faire une classification des K plus proche voisin, on donne en paramettre le nombre de voisin a prendre en compte.\n",
        "\n",
        "Avec clf.fit(X, Y), on défini les donnée d'entrainement ainsi que les valeur cible. Ici les donnée d'entrainement sont les donnée de notre partie de Heartstone quand il ne reste que 4 tour avant la fin de la partie. Pour les donnée cible on prend la valeur qui indique si la partie est gagner ou non.\n",
        "\n",
        "Une fois cela mis en place ou peut utiliser predicte pour avoir un certaine nombre de valeur :\n",
        "\n",
        "-Avec clf.predict(X[0:5]) on optient l'etiquete majoritaire. Ici pour les resultat l'etiquette \"0\" qui correspond a perdu est majoritaire pour presque tout les donnée rentrer, seul la 4eme valeur indique que l'on gagne.\n",
        "\n",
        "-clf.predict_proba(X[0:5]) va plus loin en donnant directement la probabilité, par exemple dans la premiere partie au 4eme tour avant la fin, le joueur adverse avait 93.33% de chance de gagner contre 06.66% pour l'autre. Alors que pour la partie 4 le joueur adverse avait 17.77% de chance de gagner contre 82.22% pour l'autre joueur.\n",
        "\n",
        "-Enfin clf.score(X,Y) donne la précision moyenne des résultat obtenu a partir des donnée test et des étiquettes données.\n",
        "\n",
        "\n",
        "Esseyons maintenant avec K = 1 et K = 1000\n",
        "\n",
        "###- K = 1\n"
      ]
    },
    {
      "cell_type": "code",
      "metadata": {
        "colab": {
          "base_uri": "https://localhost:8080/"
        },
        "id": "JNaZ5pBvbrrW",
        "outputId": "10bd612a-de19-460c-c427-ff34e4b4512e"
      },
      "source": [
        "nb_neighb = 1\n",
        "\n",
        "# pour de l’aide taper: help(neighbors.KNeighborsClassifier)\n",
        "clf = neighbors.KNeighborsClassifier(nb_neighb)\n",
        "\n",
        "# pour de l’aide taper: help(clf.fit)\n",
        "clf.fit(X, Y) #on suppose de X et Y sont définis comme dans la partie précédente\n",
        "\n",
        "# pour de l’aide taper: help(clf.predict) \n",
        "print(clf.predict(X[0:5])) \n",
        "\n",
        "print(clf.predict_proba(X[0:5])) \n",
        "print(clf.score(X,Y)) "
      ],
      "execution_count": 39,
      "outputs": [
        {
          "output_type": "stream",
          "text": [
            "[0 0 0 1 0]\n",
            "[[1. 0.]\n",
            " [1. 0.]\n",
            " [1. 0.]\n",
            " [0. 1.]\n",
            " [1. 0.]]\n",
            "1.0\n"
          ],
          "name": "stdout"
        }
      ]
    },
    {
      "cell_type": "markdown",
      "metadata": {
        "id": "KEe9efvdbufN"
      },
      "source": [
        "Sans surprise avec K=1 on ne regarde qu'un seul voisin donc les prediction ne donne que du 0% ou du 100% de chance de gagner. La précision est aussi toucher , elle est de 100% avec cette technique.\n",
        "\n",
        "###- K=1000"
      ]
    },
    {
      "cell_type": "code",
      "metadata": {
        "colab": {
          "base_uri": "https://localhost:8080/"
        },
        "id": "meWWmTKZcMNL",
        "outputId": "73e753cb-8933-426c-abb5-1fe2e072d7af"
      },
      "source": [
        "nb_neighb = 1000\n",
        "\n",
        "# pour de l’aide taper: help(neighbors.KNeighborsClassifier)\n",
        "clf = neighbors.KNeighborsClassifier(nb_neighb)\n",
        "\n",
        "# pour de l’aide taper: help(clf.fit)\n",
        "clf.fit(X, Y) #on suppose de X et Y sont définis comme dans la partie précédente\n",
        "\n",
        "# pour de l’aide taper: help(clf.predict) \n",
        "print(clf.predict(X[0:5])) \n",
        "\n",
        "print(clf.predict_proba(X[0:5])) \n",
        "print(clf.score(X,Y)) "
      ],
      "execution_count": 60,
      "outputs": [
        {
          "output_type": "stream",
          "text": [
            "[0 1 0 1 0]\n",
            "[[0.633 0.367]\n",
            " [0.461 0.539]\n",
            " [0.674 0.326]\n",
            " [0.29  0.71 ]\n",
            " [0.635 0.365]]\n",
            "0.7510980966325037\n"
          ],
          "name": "stdout"
        }
      ]
    },
    {
      "cell_type": "markdown",
      "metadata": {
        "id": "goed-Y7WcWDK"
      },
      "source": [
        "Avec k=1000 on remarque un changement sur la seconde partie, il y a plus de partie perdante pour l'adverser dans les 1000 voisin les plus proche. Les pourcentage passe alors a 46.10% pour l'adverse. On remarque aussi que les pourcentage sont de maniere general plus proche du 50% que avec k=45.\n",
        "Prendre un tels nombre de voisin fait aussi légerement baisser la précision, ce qui est normal.\n",
        "\n",
        "\n",
        "\n",
        "\n",
        "On veux maintenant separer le jeux de donnée en deux pour avoir des donnée d'entrenement et des donnée de test indépandante l'une de l'autre. Cependant, il faut un certain nombre de donnée pour les tests car comme nous avons peu le voir pour K=1 précédement, trop peut de donnée ne peut pas donnée des tests convenable.\n",
        "Le module \"model_selection.train_test_split\" va nous permetre ici de séparer les donnée."
      ]
    },
    {
      "cell_type": "code",
      "metadata": {
        "colab": {
          "base_uri": "https://localhost:8080/"
        },
        "id": "y5BH2vvTfsXG",
        "outputId": "faff6b4e-d3c5-4e98-e7c2-dba654b99338"
      },
      "source": [
        "from sklearn.model_selection import train_test_split \n",
        "# pour de l’aide taper: help(train_test_split)\n",
        "X_train,X_test,Y_train,Y_test=train_test_split(X,Y,test_size=0.3) \n",
        "\n",
        "print(len(X_train))\n",
        "print(len(X_test))\n",
        "print(len(X_train[Y_train==0]))\n",
        "print(len(X_train[Y_train==1]))\n",
        "print()\n",
        "\n",
        "nb_neighb = 45\n",
        "clf = neighbors.KNeighborsClassifier(nb_neighb)\n",
        "clf.fit(X_train, Y_train)\n",
        " \n",
        "Y_pred = clf.predict(X_test) \n",
        " \n",
        "from sklearn.metrics import confusion_matrix\n",
        "cm = confusion_matrix(Y_test, Y_pred)\n",
        "\n",
        "print(cm)"
      ],
      "execution_count": 69,
      "outputs": [
        {
          "output_type": "stream",
          "text": [
            "1434\n",
            "615\n",
            "629\n",
            "805\n",
            "\n",
            "[[210  81]\n",
            " [ 55 269]]\n"
          ],
          "name": "stdout"
        }
      ]
    },
    {
      "cell_type": "markdown",
      "metadata": {
        "id": "AVvp-e7Sg_oK"
      },
      "source": [
        "Encore une fois nous avons nos donnée X et Y. Grace a \"train_test_split(X,Y,test_size=0.3)\" on sépare les donnée X et Y en deux, On précise 0.3 pour séparer les données de cette manière : 70% train et 30% test.\n",
        "\n",
        "-len(X_train) donne la taille des donnée d'entrainement pour X\n",
        "\n",
        "-len(X_test) donne la taille des donnée des test pour X\n",
        "\n",
        "-len(X_train[Y_train==0]) donne le nombre de partie perdante dans les donnée d'entrainement de X.\n",
        "\n",
        "-et enfin len(X_train[Y_train==1]) le nombre de partie gagnante dans les donnée d'entrainement de X.\n",
        "\n",
        "\n",
        "Par la suite nous faisons exactement la meme chose que précédament, c'est a dire faire une classification mais cette fois sur les donnée d'entrainement X et Y.\n",
        "\n",
        "A la fin nous utilisons Confusion_matrix sur les donnée de test de Y et les prediction pour Y. cette matrice permet de visualiser l'exactitude de la classification.Plus précisement elle nous montrer :\n",
        "les VraiPositif = 192\n",
        "les FauxPositif = 84\n",
        "les FauxNegatif = 63\n",
        "et les VraiNegatif = 276\n",
        "On peut donc voir qui y a quand meme en certaine nombre de Faux possitif et de faux negatif, mais comparer au nombre de vraiPositif et surtout de VraiNegatif cela reste correct.\n",
        "Ceci etait pour k = 45, maintenant voyons les resultat pour k = 1 et k = 1000\n"
      ]
    },
    {
      "cell_type": "markdown",
      "metadata": {
        "id": "Q8uXrwi_d0WL"
      },
      "source": [
        "### - K = 1"
      ]
    },
    {
      "cell_type": "code",
      "metadata": {
        "colab": {
          "base_uri": "https://localhost:8080/"
        },
        "id": "oc18gjLTd9gN",
        "outputId": "a5cd8fae-2ddc-4deb-8146-6667d0d4bd65"
      },
      "source": [
        "from sklearn.model_selection import train_test_split \n",
        "X_train,X_test,Y_train,Y_test=train_test_split(X,Y,test_size=0.3) \n",
        "\n",
        "print(len(X_train))\n",
        "print(len(X_test))\n",
        "print(len(X_train[Y_train==0]))\n",
        "print(len(X_train[Y_train==1]))\n",
        "print()\n",
        "\n",
        "nb_neighb1 = 1\n",
        "clf1 = neighbors.KNeighborsClassifier(nb_neighb1)\n",
        "clf1.fit(X_train, Y_train)\n",
        " \n",
        "Y_pred1 = clf1.predict(X_test) \n",
        "from sklearn.metrics import confusion_matrix\n",
        "cm = confusion_matrix(Y_test, Y_pred1)\n",
        "print(cm)"
      ],
      "execution_count": 91,
      "outputs": [
        {
          "output_type": "stream",
          "text": [
            "1434\n",
            "615\n",
            "641\n",
            "793\n",
            "\n",
            "[[190  89]\n",
            " [ 78 258]]\n"
          ],
          "name": "stdout"
        }
      ]
    },
    {
      "cell_type": "markdown",
      "metadata": {
        "id": "pnIB3Qrleoyl"
      },
      "source": [
        "Avec k = 1, On peut voir que la précision est legerement moins bonne. Il y a un peu moins de VraiPositif et de VraiNegatif ainsi que plus de FauxPositif et de FauxNegatif.\n",
        "\n",
        "### - K = 1000"
      ]
    },
    {
      "cell_type": "code",
      "metadata": {
        "colab": {
          "base_uri": "https://localhost:8080/"
        },
        "id": "YPsrYsPberlJ",
        "outputId": "6b444b1e-4138-48bc-f90f-70c8b76903c0"
      },
      "source": [
        "from sklearn.model_selection import train_test_split \n",
        "X_train,X_test,Y_train,Y_test=train_test_split(X,Y,test_size=0.3) \n",
        "\n",
        "print(len(X_train))\n",
        "print(len(X_test))\n",
        "print(len(X_train[Y_train==0]))\n",
        "print(len(X_train[Y_train==1]))\n",
        "print()\n",
        "\n",
        "nb_neighb2 = 1000\n",
        "clf2 = neighbors.KNeighborsClassifier(nb_neighb2)\n",
        "clf2.fit(X_train, Y_train)\n",
        " \n",
        "Y_pred2 = clf2.predict(X_test) \n",
        " \n",
        "from sklearn.metrics import confusion_matrix\n",
        "cm = confusion_matrix(Y_test, Y_pred2)\n",
        "print(cm)"
      ],
      "execution_count": 92,
      "outputs": [
        {
          "output_type": "stream",
          "text": [
            "1434\n",
            "615\n",
            "647\n",
            "787\n",
            "\n",
            "[[109 164]\n",
            " [ 18 324]]\n"
          ],
          "name": "stdout"
        }
      ]
    },
    {
      "cell_type": "markdown",
      "metadata": {
        "id": "-j17Zih4evGV"
      },
      "source": [
        "Avec K = 1000 y il y a beaucoup plus de FauxNegatif et de FauxPositif. On peut voir qu'il y a beaucoup plus de VraiPositif que de FauxPositif ce qu'il n'est pas correct."
      ]
    },
    {
      "cell_type": "code",
      "metadata": {
        "colab": {
          "base_uri": "https://localhost:8080/"
        },
        "id": "IeMtbspHmJEU",
        "outputId": "fa81f2d7-46e5-4372-cd86-a195b371dac2"
      },
      "source": [
        "from sklearn.model_selection import KFold\n",
        "kf=KFold(n_splits=10,shuffle=True)\n",
        "for learn,test in kf.split(X):\n",
        "        print(\"app : \",learn,\" test \",test)"
      ],
      "execution_count": 99,
      "outputs": [
        {
          "output_type": "stream",
          "text": [
            "app :  [   0    1    2 ... 2045 2047 2048]  test  [  37   84   97  109  118  120  133  149  156  162  169  182  185  194\n",
            "  195  196  204  214  227  230  243  251  259  281  284  296  301  306\n",
            "  312  317  318  320  321  333  336  352  353  354  374  377  382  386\n",
            "  394  395  446  450  495  507  512  515  519  526  535  546  550  552\n",
            "  570  577  594  597  600  608  621  633  645  657  662  663  673  682\n",
            "  690  700  711  713  718  727  736  743  753  778  792  800  821  824\n",
            "  829  833  845  847  876  879  897  904  908  929  941  955  967  976\n",
            "  986  995 1000 1004 1007 1012 1014 1017 1034 1060 1079 1092 1101 1122\n",
            " 1126 1134 1144 1156 1164 1170 1187 1190 1206 1212 1220 1221 1227 1248\n",
            " 1251 1252 1276 1287 1290 1296 1312 1320 1362 1374 1383 1385 1405 1409\n",
            " 1415 1420 1421 1432 1450 1466 1482 1492 1533 1557 1560 1566 1571 1585\n",
            " 1603 1622 1624 1635 1648 1655 1659 1665 1685 1692 1696 1705 1708 1711\n",
            " 1713 1728 1734 1743 1744 1747 1748 1749 1751 1760 1762 1788 1789 1798\n",
            " 1825 1838 1861 1864 1871 1897 1898 1904 1906 1918 1924 1937 1938 1950\n",
            " 1952 1958 1966 1983 1986 2001 2026 2044 2046]\n",
            "app :  [   0    1    2 ... 2046 2047 2048]  test  [  10   12   39   47   59   60   61   66   73   74   92   94  102  104\n",
            "  110  117  123  124  129  130  135  137  146  153  155  166  213  234\n",
            "  236  248  249  254  266  275  289  291  313  325  329  330  331  340\n",
            "  350  351  357  368  373  391  392  403  408  415  435  439  449  466\n",
            "  472  473  479  529  537  543  564  568  593  595  609  612  615  617\n",
            "  623  634  648  675  693  696  720  744  749  754  766  781  799  803\n",
            "  808  814  836  839  840  843  864  891  909  910  911  912  925  931\n",
            "  939  954  981  982 1028 1039 1043 1044 1063 1075 1090 1124 1140 1148\n",
            " 1195 1209 1231 1237 1240 1254 1258 1260 1273 1280 1281 1282 1307 1327\n",
            " 1332 1336 1358 1365 1375 1384 1394 1407 1425 1438 1446 1461 1474 1475\n",
            " 1486 1488 1501 1517 1523 1528 1547 1548 1552 1554 1555 1559 1599 1608\n",
            " 1613 1617 1651 1667 1670 1688 1689 1690 1718 1724 1726 1732 1741 1758\n",
            " 1759 1767 1780 1782 1786 1791 1802 1809 1832 1834 1851 1853 1854 1859\n",
            " 1866 1870 1875 1883 1884 1885 1901 1913 1916 1917 1935 1956 1962 1971\n",
            " 1975 1977 1987 2005 2006 2008 2015 2029 2045]\n",
            "app :  [   0    1    2 ... 2046 2047 2048]  test  [  24   28   33   40   43   51   53   55   85  100  112  121  128  143\n",
            "  144  148  154  157  164  181  183  192  201  205  212  216  221  226\n",
            "  235  238  247  258  280  290  298  303  315  322  323  341  342  363\n",
            "  380  388  396  412  418  421  424  454  477  491  493  497  502  506\n",
            "  510  527  533  541  549  553  576  579  599  607  618  619  664  667\n",
            "  669  674  680  702  709  719  758  768  769  779  795  801  816  820\n",
            "  825  832  848  850  851  883  893  907  916  921  933  940  943  948\n",
            "  957  961  963  968  988  993 1019 1025 1038 1040 1045 1047 1071 1087\n",
            " 1099 1107 1110 1112 1128 1130 1153 1163 1171 1180 1188 1203 1207 1211\n",
            " 1226 1243 1245 1250 1268 1270 1300 1304 1305 1306 1314 1325 1329 1348\n",
            " 1349 1353 1354 1391 1392 1404 1410 1416 1433 1449 1452 1458 1464 1473\n",
            " 1489 1498 1507 1510 1518 1542 1563 1568 1578 1579 1587 1592 1598 1604\n",
            " 1609 1612 1632 1639 1641 1652 1673 1674 1679 1693 1716 1720 1754 1797\n",
            " 1799 1807 1811 1823 1826 1827 1842 1845 1867 1907 1912 1919 1926 1940\n",
            " 1944 1945 1979 1993 2000 2002 2022 2027 2034]\n",
            "app :  [   0    1    3 ... 2045 2046 2048]  test  [   2    4    9   21   26   32   35   64   77   78   82   99  101  116\n",
            "  134  152  165  186  190  199  207  209  239  240  252  256  257  261\n",
            "  276  278  287  307  308  314  326  328  335  344  346  356  359  369\n",
            "  376  387  405  410  419  423  432  433  438  451  469  508  575  580\n",
            "  585  596  628  630  637  650  661  689  726  732  734  767  770  775\n",
            "  782  784  786  796  812  828  852  856  870  872  915  926  927  930\n",
            "  946  952  959  973  991 1002 1010 1016 1024 1029 1052 1068 1074 1078\n",
            " 1086 1095 1102 1117 1152 1158 1161 1174 1176 1182 1185 1193 1198 1199\n",
            " 1204 1218 1223 1255 1257 1289 1294 1297 1316 1344 1345 1360 1361 1364\n",
            " 1369 1377 1381 1386 1402 1412 1417 1418 1423 1440 1451 1455 1462 1476\n",
            " 1481 1503 1505 1520 1522 1529 1531 1553 1562 1590 1601 1607 1615 1625\n",
            " 1637 1644 1646 1649 1666 1668 1672 1677 1684 1686 1699 1702 1710 1717\n",
            " 1722 1737 1739 1745 1750 1765 1770 1794 1795 1796 1804 1813 1817 1818\n",
            " 1848 1865 1880 1889 1892 1921 1939 1959 1965 1967 1974 1984 1992 1995\n",
            " 1996 2004 2014 2020 2023 2025 2039 2042 2047]\n",
            "app :  [   2    3    4 ... 2046 2047 2048]  test  [   0    1    6    7   13   16   18   30   41   48   72   91   93   95\n",
            "  105  111  113  115  122  125  141  142  147  161  217  219  229  263\n",
            "  277  286  302  304  311  332  381  385  402  416  429  437  444  456\n",
            "  460  475  483  485  490  500  520  528  534  536  540  565  567  588\n",
            "  589  610  613  627  629  631  641  649  654  658  665  687  695  707\n",
            "  710  714  717  730  731  737  741  745  747  755  760  763  764  787\n",
            "  793  794  817  822  835  841  855  869  888  889  890  899  905  906\n",
            "  920  924  934  950  953  958  977  992  994  997 1001 1011 1015 1023\n",
            " 1055 1065 1070 1072 1077 1081 1097 1098 1104 1114 1115 1125 1129 1131\n",
            " 1183 1194 1215 1217 1228 1253 1259 1261 1272 1278 1293 1313 1318 1328\n",
            " 1333 1340 1346 1371 1372 1382 1388 1400 1413 1419 1424 1430 1435 1442\n",
            " 1443 1444 1465 1478 1500 1534 1546 1551 1577 1589 1591 1593 1595 1605\n",
            " 1623 1640 1656 1657 1658 1669 1676 1694 1697 1700 1707 1723 1725 1735\n",
            " 1756 1774 1787 1790 1820 1821 1833 1857 1862 1863 1872 1891 1896 1922\n",
            " 1933 1943 1994 1999 2003 2010 2032 2033 2038]\n",
            "app :  [   0    1    2 ... 2046 2047 2048]  test  [   5   14   19   45   46   54   56   62   67   75   81   87   90  103\n",
            "  119  126  150  151  158  160  163  171  178  224  225  231  255  260\n",
            "  271  272  279  293  305  339  347  355  358  360  378  401  407  409\n",
            "  411  417  420  440  463  464  478  484  489  501  503  509  522  524\n",
            "  532  545  557  566  571  581  587  591  592  604  605  642  646  677\n",
            "  679  692  698  704  724  725  746  748  750  761  772  791  807  818\n",
            "  819  823  827  849  859  863  873  896  898  900  932  935  944  964\n",
            "  984 1005 1020 1030 1032 1035 1049 1059 1061 1080 1085 1094 1100 1133\n",
            " 1137 1138 1157 1159 1168 1177 1192 1197 1229 1234 1247 1249 1262 1271\n",
            " 1285 1286 1288 1295 1298 1301 1309 1310 1315 1319 1331 1341 1342 1355\n",
            " 1366 1368 1378 1390 1406 1422 1427 1439 1448 1453 1454 1472 1485 1487\n",
            " 1490 1502 1504 1513 1515 1526 1536 1561 1565 1584 1596 1597 1600 1610\n",
            " 1618 1626 1628 1638 1650 1662 1671 1683 1691 1695 1706 1709 1715 1736\n",
            " 1769 1775 1784 1792 1812 1814 1815 1837 1840 1843 1902 1905 1908 1909\n",
            " 1925 1942 1949 1951 1955 1957 2007 2011 2017]\n",
            "app :  [   0    1    2 ... 2046 2047 2048]  test  [  25   27   31   42   58   70   80   83   89   98  108  131  173  188\n",
            "  189  193  203  215  218  223  233  237  241  264  273  274  282  285\n",
            "  294  297  299  300  310  338  362  371  379  390  393  398  400  422\n",
            "  426  427  431  434  442  445  448  462  481  486  511  521  523  525\n",
            "  551  555  559  573  578  582  598  603  606  614  616  632  635  638\n",
            "  660  666  668  670  671  676  678  694  703  705  708  716  722  729\n",
            "  733  752  771  776  788  805  838  846  853  914  918  937  945  966\n",
            "  970  974  975  978  987  989  998 1021 1022 1037 1053 1057 1062 1064\n",
            " 1066 1084 1093 1096 1103 1105 1106 1120 1139 1149 1151 1162 1186 1196\n",
            " 1202 1216 1232 1241 1242 1244 1266 1275 1277 1279 1284 1299 1317 1322\n",
            " 1326 1352 1373 1376 1380 1387 1395 1396 1399 1408 1411 1426 1456 1457\n",
            " 1459 1467 1470 1471 1483 1514 1535 1543 1545 1550 1567 1570 1572 1575\n",
            " 1581 1614 1620 1621 1630 1643 1647 1704 1752 1764 1766 1768 1771 1773\n",
            " 1777 1785 1800 1803 1810 1824 1839 1860 1877 1887 1888 1900 1914 1915\n",
            " 1920 1931 1976 1985 1988 2016 2018 2024 2043]\n",
            "app :  [   0    1    2 ... 2045 2046 2047]  test  [  15   23   29   36   44   50   57   63   69   76   88   96  106  114\n",
            "  140  159  180  184  202  206  228  232  242  246  262  265  269  309\n",
            "  343  345  372  389  414  457  458  459  461  465  468  471  476  494\n",
            "  496  513  514  516  518  538  539  542  558  560  563  586  622  625\n",
            "  653  659  683  697  699  706  735  740  756  759  762  774  777  780\n",
            "  785  790  798  804  810  815  842  844  861  862  875  877  878  880\n",
            "  881  885  895  917  919  922  938  956  962  990  996  999 1003 1009\n",
            " 1013 1031 1033 1036 1046 1050 1051 1056 1111 1113 1118 1119 1135 1136\n",
            " 1141 1154 1165 1166 1169 1181 1184 1205 1210 1224 1233 1236 1246 1256\n",
            " 1267 1274 1292 1308 1311 1334 1347 1350 1351 1397 1414 1429 1436 1441\n",
            " 1477 1480 1493 1499 1506 1512 1519 1524 1538 1541 1558 1588 1594 1606\n",
            " 1611 1636 1642 1645 1654 1661 1664 1675 1687 1701 1703 1714 1731 1740\n",
            " 1742 1757 1761 1778 1808 1828 1830 1831 1835 1836 1841 1844 1846 1849\n",
            " 1855 1869 1873 1878 1881 1894 1910 1928 1947 1948 1953 1961 1964 1972\n",
            " 1973 1978 1982 1991 1997 2009 2035 2036 2048]\n",
            "app :  [   0    1    2 ... 2046 2047 2048]  test  [   8   11   20   38   52   68   71  107  127  138  139  145  167  170\n",
            "  172  177  187  191  197  208  210  211  220  222  253  268  270  283\n",
            "  288  292  295  324  327  334  337  364  367  397  413  425  436  441\n",
            "  447  455  467  480  487  488  504  505  517  530  556  561  569  583\n",
            "  584  590  601  626  636  639  640  651  656  672  685  701  723  728\n",
            "  738  751  765  773  802  806  809  826  830  831  834  854  857  858\n",
            "  860  871  874  882  884  892  894  901  902  923  928  942  960  965\n",
            "  969  972  985 1006 1018 1027 1048 1058 1067 1073 1083 1091 1109 1123\n",
            " 1132 1142 1145 1155 1172 1178 1189 1191 1201 1213 1214 1219 1222 1225\n",
            " 1230 1238 1239 1263 1291 1321 1323 1330 1335 1337 1338 1339 1343 1356\n",
            " 1363 1367 1370 1389 1403 1428 1431 1434 1445 1468 1479 1491 1508 1525\n",
            " 1527 1537 1544 1569 1574 1582 1583 1619 1627 1629 1633 1653 1660 1678\n",
            " 1698 1712 1721 1727 1729 1730 1733 1738 1763 1772 1779 1781 1806 1816\n",
            " 1829 1850 1856 1868 1876 1879 1886 1890 1893 1895 1911 1930 1941 1963\n",
            " 1968 1969 1980 1989 1990 2012 2028 2031 2041]\n",
            "app :  [   0    1    2 ... 2046 2047 2048]  test  [   3   17   22   34   49   65   79   86  132  136  168  174  175  176\n",
            "  179  198  200  244  245  250  267  316  319  348  349  361  365  366\n",
            "  370  375  383  384  399  404  406  428  430  443  452  453  470  474\n",
            "  482  492  498  499  531  544  547  548  554  562  572  574  602  611\n",
            "  620  624  643  644  647  652  655  681  684  686  688  691  712  715\n",
            "  721  739  742  757  783  789  797  811  813  837  865  866  867  868\n",
            "  886  887  903  913  936  947  949  951  971  979  980  983 1008 1026\n",
            " 1041 1042 1054 1069 1076 1082 1088 1089 1108 1116 1121 1127 1143 1146\n",
            " 1147 1150 1160 1167 1173 1175 1179 1200 1208 1235 1264 1265 1269 1283\n",
            " 1302 1303 1324 1357 1359 1379 1393 1398 1401 1437 1447 1460 1463 1469\n",
            " 1484 1494 1495 1496 1497 1509 1511 1516 1521 1530 1532 1539 1540 1549\n",
            " 1556 1564 1573 1576 1580 1586 1602 1616 1631 1634 1663 1680 1681 1682\n",
            " 1719 1746 1753 1755 1776 1783 1793 1801 1805 1819 1822 1847 1852 1858\n",
            " 1874 1882 1899 1903 1923 1927 1929 1932 1934 1936 1946 1954 1960 1970\n",
            " 1981 1998 2013 2019 2021 2030 2037 2040]\n"
          ],
          "name": "stdout"
        }
      ]
    },
    {
      "cell_type": "markdown",
      "metadata": {
        "id": "SWBCcFpYyo7E"
      },
      "source": [
        "La boucle si dessus permet de donner les indice des element dans l'ensemble d'apprentissage et de test. Ici on crée 10 séparation de donnée differente"
      ]
    },
    {
      "cell_type": "code",
      "metadata": {
        "colab": {
          "base_uri": "https://localhost:8080/"
        },
        "id": "ssuYL08w05hs",
        "outputId": "a1bcf1e1-d2af-4258-e39b-fff509ac2e38"
      },
      "source": [
        "from sklearn.model_selection import KFold\n",
        "kf=KFold(n_splits=10,shuffle=False)\n",
        "for learn,test in kf.split(X):\n",
        "        print(\"app : \",learn,\" test \",test)"
      ],
      "execution_count": 100,
      "outputs": [
        {
          "output_type": "stream",
          "text": [
            "app :  [ 205  206  207 ... 2046 2047 2048]  test  [  0   1   2   3   4   5   6   7   8   9  10  11  12  13  14  15  16  17\n",
            "  18  19  20  21  22  23  24  25  26  27  28  29  30  31  32  33  34  35\n",
            "  36  37  38  39  40  41  42  43  44  45  46  47  48  49  50  51  52  53\n",
            "  54  55  56  57  58  59  60  61  62  63  64  65  66  67  68  69  70  71\n",
            "  72  73  74  75  76  77  78  79  80  81  82  83  84  85  86  87  88  89\n",
            "  90  91  92  93  94  95  96  97  98  99 100 101 102 103 104 105 106 107\n",
            " 108 109 110 111 112 113 114 115 116 117 118 119 120 121 122 123 124 125\n",
            " 126 127 128 129 130 131 132 133 134 135 136 137 138 139 140 141 142 143\n",
            " 144 145 146 147 148 149 150 151 152 153 154 155 156 157 158 159 160 161\n",
            " 162 163 164 165 166 167 168 169 170 171 172 173 174 175 176 177 178 179\n",
            " 180 181 182 183 184 185 186 187 188 189 190 191 192 193 194 195 196 197\n",
            " 198 199 200 201 202 203 204]\n",
            "app :  [   0    1    2 ... 2046 2047 2048]  test  [205 206 207 208 209 210 211 212 213 214 215 216 217 218 219 220 221 222\n",
            " 223 224 225 226 227 228 229 230 231 232 233 234 235 236 237 238 239 240\n",
            " 241 242 243 244 245 246 247 248 249 250 251 252 253 254 255 256 257 258\n",
            " 259 260 261 262 263 264 265 266 267 268 269 270 271 272 273 274 275 276\n",
            " 277 278 279 280 281 282 283 284 285 286 287 288 289 290 291 292 293 294\n",
            " 295 296 297 298 299 300 301 302 303 304 305 306 307 308 309 310 311 312\n",
            " 313 314 315 316 317 318 319 320 321 322 323 324 325 326 327 328 329 330\n",
            " 331 332 333 334 335 336 337 338 339 340 341 342 343 344 345 346 347 348\n",
            " 349 350 351 352 353 354 355 356 357 358 359 360 361 362 363 364 365 366\n",
            " 367 368 369 370 371 372 373 374 375 376 377 378 379 380 381 382 383 384\n",
            " 385 386 387 388 389 390 391 392 393 394 395 396 397 398 399 400 401 402\n",
            " 403 404 405 406 407 408 409]\n",
            "app :  [   0    1    2 ... 2046 2047 2048]  test  [410 411 412 413 414 415 416 417 418 419 420 421 422 423 424 425 426 427\n",
            " 428 429 430 431 432 433 434 435 436 437 438 439 440 441 442 443 444 445\n",
            " 446 447 448 449 450 451 452 453 454 455 456 457 458 459 460 461 462 463\n",
            " 464 465 466 467 468 469 470 471 472 473 474 475 476 477 478 479 480 481\n",
            " 482 483 484 485 486 487 488 489 490 491 492 493 494 495 496 497 498 499\n",
            " 500 501 502 503 504 505 506 507 508 509 510 511 512 513 514 515 516 517\n",
            " 518 519 520 521 522 523 524 525 526 527 528 529 530 531 532 533 534 535\n",
            " 536 537 538 539 540 541 542 543 544 545 546 547 548 549 550 551 552 553\n",
            " 554 555 556 557 558 559 560 561 562 563 564 565 566 567 568 569 570 571\n",
            " 572 573 574 575 576 577 578 579 580 581 582 583 584 585 586 587 588 589\n",
            " 590 591 592 593 594 595 596 597 598 599 600 601 602 603 604 605 606 607\n",
            " 608 609 610 611 612 613 614]\n",
            "app :  [   0    1    2 ... 2046 2047 2048]  test  [615 616 617 618 619 620 621 622 623 624 625 626 627 628 629 630 631 632\n",
            " 633 634 635 636 637 638 639 640 641 642 643 644 645 646 647 648 649 650\n",
            " 651 652 653 654 655 656 657 658 659 660 661 662 663 664 665 666 667 668\n",
            " 669 670 671 672 673 674 675 676 677 678 679 680 681 682 683 684 685 686\n",
            " 687 688 689 690 691 692 693 694 695 696 697 698 699 700 701 702 703 704\n",
            " 705 706 707 708 709 710 711 712 713 714 715 716 717 718 719 720 721 722\n",
            " 723 724 725 726 727 728 729 730 731 732 733 734 735 736 737 738 739 740\n",
            " 741 742 743 744 745 746 747 748 749 750 751 752 753 754 755 756 757 758\n",
            " 759 760 761 762 763 764 765 766 767 768 769 770 771 772 773 774 775 776\n",
            " 777 778 779 780 781 782 783 784 785 786 787 788 789 790 791 792 793 794\n",
            " 795 796 797 798 799 800 801 802 803 804 805 806 807 808 809 810 811 812\n",
            " 813 814 815 816 817 818 819]\n",
            "app :  [   0    1    2 ... 2046 2047 2048]  test  [ 820  821  822  823  824  825  826  827  828  829  830  831  832  833\n",
            "  834  835  836  837  838  839  840  841  842  843  844  845  846  847\n",
            "  848  849  850  851  852  853  854  855  856  857  858  859  860  861\n",
            "  862  863  864  865  866  867  868  869  870  871  872  873  874  875\n",
            "  876  877  878  879  880  881  882  883  884  885  886  887  888  889\n",
            "  890  891  892  893  894  895  896  897  898  899  900  901  902  903\n",
            "  904  905  906  907  908  909  910  911  912  913  914  915  916  917\n",
            "  918  919  920  921  922  923  924  925  926  927  928  929  930  931\n",
            "  932  933  934  935  936  937  938  939  940  941  942  943  944  945\n",
            "  946  947  948  949  950  951  952  953  954  955  956  957  958  959\n",
            "  960  961  962  963  964  965  966  967  968  969  970  971  972  973\n",
            "  974  975  976  977  978  979  980  981  982  983  984  985  986  987\n",
            "  988  989  990  991  992  993  994  995  996  997  998  999 1000 1001\n",
            " 1002 1003 1004 1005 1006 1007 1008 1009 1010 1011 1012 1013 1014 1015\n",
            " 1016 1017 1018 1019 1020 1021 1022 1023 1024]\n",
            "app :  [   0    1    2 ... 2046 2047 2048]  test  [1025 1026 1027 1028 1029 1030 1031 1032 1033 1034 1035 1036 1037 1038\n",
            " 1039 1040 1041 1042 1043 1044 1045 1046 1047 1048 1049 1050 1051 1052\n",
            " 1053 1054 1055 1056 1057 1058 1059 1060 1061 1062 1063 1064 1065 1066\n",
            " 1067 1068 1069 1070 1071 1072 1073 1074 1075 1076 1077 1078 1079 1080\n",
            " 1081 1082 1083 1084 1085 1086 1087 1088 1089 1090 1091 1092 1093 1094\n",
            " 1095 1096 1097 1098 1099 1100 1101 1102 1103 1104 1105 1106 1107 1108\n",
            " 1109 1110 1111 1112 1113 1114 1115 1116 1117 1118 1119 1120 1121 1122\n",
            " 1123 1124 1125 1126 1127 1128 1129 1130 1131 1132 1133 1134 1135 1136\n",
            " 1137 1138 1139 1140 1141 1142 1143 1144 1145 1146 1147 1148 1149 1150\n",
            " 1151 1152 1153 1154 1155 1156 1157 1158 1159 1160 1161 1162 1163 1164\n",
            " 1165 1166 1167 1168 1169 1170 1171 1172 1173 1174 1175 1176 1177 1178\n",
            " 1179 1180 1181 1182 1183 1184 1185 1186 1187 1188 1189 1190 1191 1192\n",
            " 1193 1194 1195 1196 1197 1198 1199 1200 1201 1202 1203 1204 1205 1206\n",
            " 1207 1208 1209 1210 1211 1212 1213 1214 1215 1216 1217 1218 1219 1220\n",
            " 1221 1222 1223 1224 1225 1226 1227 1228 1229]\n",
            "app :  [   0    1    2 ... 2046 2047 2048]  test  [1230 1231 1232 1233 1234 1235 1236 1237 1238 1239 1240 1241 1242 1243\n",
            " 1244 1245 1246 1247 1248 1249 1250 1251 1252 1253 1254 1255 1256 1257\n",
            " 1258 1259 1260 1261 1262 1263 1264 1265 1266 1267 1268 1269 1270 1271\n",
            " 1272 1273 1274 1275 1276 1277 1278 1279 1280 1281 1282 1283 1284 1285\n",
            " 1286 1287 1288 1289 1290 1291 1292 1293 1294 1295 1296 1297 1298 1299\n",
            " 1300 1301 1302 1303 1304 1305 1306 1307 1308 1309 1310 1311 1312 1313\n",
            " 1314 1315 1316 1317 1318 1319 1320 1321 1322 1323 1324 1325 1326 1327\n",
            " 1328 1329 1330 1331 1332 1333 1334 1335 1336 1337 1338 1339 1340 1341\n",
            " 1342 1343 1344 1345 1346 1347 1348 1349 1350 1351 1352 1353 1354 1355\n",
            " 1356 1357 1358 1359 1360 1361 1362 1363 1364 1365 1366 1367 1368 1369\n",
            " 1370 1371 1372 1373 1374 1375 1376 1377 1378 1379 1380 1381 1382 1383\n",
            " 1384 1385 1386 1387 1388 1389 1390 1391 1392 1393 1394 1395 1396 1397\n",
            " 1398 1399 1400 1401 1402 1403 1404 1405 1406 1407 1408 1409 1410 1411\n",
            " 1412 1413 1414 1415 1416 1417 1418 1419 1420 1421 1422 1423 1424 1425\n",
            " 1426 1427 1428 1429 1430 1431 1432 1433 1434]\n",
            "app :  [   0    1    2 ... 2046 2047 2048]  test  [1435 1436 1437 1438 1439 1440 1441 1442 1443 1444 1445 1446 1447 1448\n",
            " 1449 1450 1451 1452 1453 1454 1455 1456 1457 1458 1459 1460 1461 1462\n",
            " 1463 1464 1465 1466 1467 1468 1469 1470 1471 1472 1473 1474 1475 1476\n",
            " 1477 1478 1479 1480 1481 1482 1483 1484 1485 1486 1487 1488 1489 1490\n",
            " 1491 1492 1493 1494 1495 1496 1497 1498 1499 1500 1501 1502 1503 1504\n",
            " 1505 1506 1507 1508 1509 1510 1511 1512 1513 1514 1515 1516 1517 1518\n",
            " 1519 1520 1521 1522 1523 1524 1525 1526 1527 1528 1529 1530 1531 1532\n",
            " 1533 1534 1535 1536 1537 1538 1539 1540 1541 1542 1543 1544 1545 1546\n",
            " 1547 1548 1549 1550 1551 1552 1553 1554 1555 1556 1557 1558 1559 1560\n",
            " 1561 1562 1563 1564 1565 1566 1567 1568 1569 1570 1571 1572 1573 1574\n",
            " 1575 1576 1577 1578 1579 1580 1581 1582 1583 1584 1585 1586 1587 1588\n",
            " 1589 1590 1591 1592 1593 1594 1595 1596 1597 1598 1599 1600 1601 1602\n",
            " 1603 1604 1605 1606 1607 1608 1609 1610 1611 1612 1613 1614 1615 1616\n",
            " 1617 1618 1619 1620 1621 1622 1623 1624 1625 1626 1627 1628 1629 1630\n",
            " 1631 1632 1633 1634 1635 1636 1637 1638 1639]\n",
            "app :  [   0    1    2 ... 2046 2047 2048]  test  [1640 1641 1642 1643 1644 1645 1646 1647 1648 1649 1650 1651 1652 1653\n",
            " 1654 1655 1656 1657 1658 1659 1660 1661 1662 1663 1664 1665 1666 1667\n",
            " 1668 1669 1670 1671 1672 1673 1674 1675 1676 1677 1678 1679 1680 1681\n",
            " 1682 1683 1684 1685 1686 1687 1688 1689 1690 1691 1692 1693 1694 1695\n",
            " 1696 1697 1698 1699 1700 1701 1702 1703 1704 1705 1706 1707 1708 1709\n",
            " 1710 1711 1712 1713 1714 1715 1716 1717 1718 1719 1720 1721 1722 1723\n",
            " 1724 1725 1726 1727 1728 1729 1730 1731 1732 1733 1734 1735 1736 1737\n",
            " 1738 1739 1740 1741 1742 1743 1744 1745 1746 1747 1748 1749 1750 1751\n",
            " 1752 1753 1754 1755 1756 1757 1758 1759 1760 1761 1762 1763 1764 1765\n",
            " 1766 1767 1768 1769 1770 1771 1772 1773 1774 1775 1776 1777 1778 1779\n",
            " 1780 1781 1782 1783 1784 1785 1786 1787 1788 1789 1790 1791 1792 1793\n",
            " 1794 1795 1796 1797 1798 1799 1800 1801 1802 1803 1804 1805 1806 1807\n",
            " 1808 1809 1810 1811 1812 1813 1814 1815 1816 1817 1818 1819 1820 1821\n",
            " 1822 1823 1824 1825 1826 1827 1828 1829 1830 1831 1832 1833 1834 1835\n",
            " 1836 1837 1838 1839 1840 1841 1842 1843 1844]\n",
            "app :  [   0    1    2 ... 1842 1843 1844]  test  [1845 1846 1847 1848 1849 1850 1851 1852 1853 1854 1855 1856 1857 1858\n",
            " 1859 1860 1861 1862 1863 1864 1865 1866 1867 1868 1869 1870 1871 1872\n",
            " 1873 1874 1875 1876 1877 1878 1879 1880 1881 1882 1883 1884 1885 1886\n",
            " 1887 1888 1889 1890 1891 1892 1893 1894 1895 1896 1897 1898 1899 1900\n",
            " 1901 1902 1903 1904 1905 1906 1907 1908 1909 1910 1911 1912 1913 1914\n",
            " 1915 1916 1917 1918 1919 1920 1921 1922 1923 1924 1925 1926 1927 1928\n",
            " 1929 1930 1931 1932 1933 1934 1935 1936 1937 1938 1939 1940 1941 1942\n",
            " 1943 1944 1945 1946 1947 1948 1949 1950 1951 1952 1953 1954 1955 1956\n",
            " 1957 1958 1959 1960 1961 1962 1963 1964 1965 1966 1967 1968 1969 1970\n",
            " 1971 1972 1973 1974 1975 1976 1977 1978 1979 1980 1981 1982 1983 1984\n",
            " 1985 1986 1987 1988 1989 1990 1991 1992 1993 1994 1995 1996 1997 1998\n",
            " 1999 2000 2001 2002 2003 2004 2005 2006 2007 2008 2009 2010 2011 2012\n",
            " 2013 2014 2015 2016 2017 2018 2019 2020 2021 2022 2023 2024 2025 2026\n",
            " 2027 2028 2029 2030 2031 2032 2033 2034 2035 2036 2037 2038 2039 2040\n",
            " 2041 2042 2043 2044 2045 2046 2047 2048]\n"
          ],
          "name": "stdout"
        }
      ]
    },
    {
      "cell_type": "markdown",
      "metadata": {
        "id": "tCZpgkd5qRmY"
      },
      "source": [
        "Mettre Shuffle a False permet de ne pas mélanger les données, Nous avons donc les indices trier par ordre croissant. Dans nos donnée il vaut mieux les mélanger pour avoir plus de diversité entre les ensembles."
      ]
    },
    {
      "cell_type": "code",
      "metadata": {
        "colab": {
          "base_uri": "https://localhost:8080/",
          "height": 296
        },
        "id": "70Lm2NrFnW6k",
        "outputId": "80607a23-81f1-44cf-81a8-906e6bdf7917"
      },
      "source": [
        "# TP3prog2.py\n",
        " \n",
        "import pandas as pd\n",
        "from matplotlib import pyplot as plt\n",
        " \n",
        "data = pd.read_csv(\"/content/drive/MyDrive/Université/M1/S8/IA/TP3/full_dataset.csv\")\n",
        " \n",
        "features_cols = [\"my_health\", \"opponent_health\", \"my_hand\", \"opponent_hand\", \"my_board_nb_creatures\",\n",
        "     \"my_board_total_health\", \"my_board_total_attack\", \"opponent_board_nb_creatures\",\n",
        "     \"opponent_board_total_health\", \"opponent_board_total_attack\", \"me_playing\"]\n",
        "pred_col = \"result\"\n",
        " \n",
        "turns_before_end = 4\n",
        "turn_df = data[data[\"turns_to_end\"] == turns_before_end]\n",
        "X = turn_df[features_cols]\n",
        "Y = turn_df[pred_col]\n",
        " \n",
        "from sklearn import neighbors\n",
        "from sklearn.model_selection import KFold\n",
        "kf=KFold(n_splits=10,shuffle=True)\n",
        "scores=[]\n",
        "k_values = range(1,100,1)\n",
        "for k in k_values:\n",
        "    print(\"Computing... %d %%\"%(int(100*(k-k_values[0])/k_values[-1])), end='\\r')\n",
        "    score=0\n",
        "    clf = neighbors.KNeighborsClassifier(k)\n",
        "    for learn,test in kf.split(X):\n",
        "        X_train=X.iloc[learn]\n",
        "        Y_train=Y.iloc[learn]\n",
        "        clf.fit(X_train, Y_train)\n",
        "        X_test=X.iloc[test]\n",
        "        Y_test=Y.iloc[test]\n",
        "        score += clf.score(X_test,Y_test) / kf.n_splits\n",
        "    scores.append(score)\n",
        "\n",
        "best_score, best_k = max([(v, k_values[i]) for (i,v) in enumerate(scores)])\n",
        "print(\"best k:\",best_k, \" score=\",best_score)\n",
        "plt.plot(k_values, scores)\n",
        "plt.xlabel(\"k\") \n",
        "plt.ylabel(\"score\")\n",
        "plt.plot(best_k, best_score, 'or')\n",
        "plt.plot([0,best_k,best_k], [best_score,best_score,min(scores)], ':r')\n",
        "plt.show()"
      ],
      "execution_count": 103,
      "outputs": [
        {
          "output_type": "stream",
          "text": [
            "best k: 51  score= 0.7828216164514585\n"
          ],
          "name": "stdout"
        },
        {
          "output_type": "display_data",
          "data": {
            "image/png": "[encoded data removed]",
            "text/plain": [
              "<Figure size 432x288 with 1 Axes>"
            ]
          },
          "metadata": {
            "tags": [],
            "needs_background": "light"
          }
        }
      ]
    },
    {
      "cell_type": "markdown",
      "metadata": {
        "id": "GYaBehuR5pwL"
      },
      "source": [
        "Le code suivant affiche le graffe des score de précision moyenne des résultat. Le diagramme montre pour quel k le score est le plus élever.\n",
        "Ici , le score le plus elever est généralement contenu dans 40-50 k."
      ]
    },
    {
      "cell_type": "code",
      "metadata": {
        "colab": {
          "base_uri": "https://localhost:8080/",
          "height": 296
        },
        "id": "FJBbQH1z2Ehc",
        "outputId": "194b4bd5-7f80-4f17-b041-291e90dce251"
      },
      "source": [
        "import pandas as pd\n",
        "from matplotlib import pyplot as plt\n",
        " \n",
        "data = pd.read_csv(\"/content/drive/MyDrive/Université/M1/S8/IA/TP3/full_dataset.csv\")\n",
        " \n",
        "features_cols = [\"my_health\", \"opponent_health\", \"my_hand\", \"opponent_hand\", \"my_board_nb_creatures\",\n",
        "     \"my_board_total_health\", \"my_board_total_attack\", \"opponent_board_nb_creatures\",\n",
        "     \"opponent_board_total_health\", \"opponent_board_total_attack\", \"me_playing\"]\n",
        "pred_col = \"result\"\n",
        " \n",
        "turns_before_end = 4\n",
        "turn_df = data[data[\"turns_to_end\"] == turns_before_end]\n",
        "X = turn_df[features_cols]\n",
        "Y = turn_df[pred_col]\n",
        " \n",
        "from sklearn import neighbors\n",
        "from sklearn.model_selection import KFold\n",
        "kf=KFold(n_splits=10,shuffle=True)\n",
        "scores=[]\n",
        "k_values = range(1,1800,100)\n",
        "for k in k_values:\n",
        "    print(\"Computing... %d %%\"%(int(100*(k-k_values[0])/k_values[-1])), end='\\r')\n",
        "    score=0\n",
        "    clf = neighbors.KNeighborsClassifier(k)\n",
        "    for learn,test in kf.split(X):\n",
        "        X_train=X.iloc[learn]\n",
        "        Y_train=Y.iloc[learn]\n",
        "        clf.fit(X_train, Y_train)\n",
        "        X_test=X.iloc[test]\n",
        "        Y_test=Y.iloc[test]\n",
        "        score += clf.score(X_test,Y_test) / kf.n_splits\n",
        "    scores.append(score)\n",
        "\n",
        "best_score, best_k = max([(v, k_values[i]) for (i,v) in enumerate(scores)])\n",
        "print(\"best k:\",best_k, \" score=\",best_score)\n",
        "plt.plot(k_values, scores)\n",
        "plt.xlabel(\"k\") \n",
        "plt.ylabel(\"score\")\n",
        "plt.plot(best_k, best_score, 'or')\n",
        "plt.plot([0,best_k,best_k], [best_score,best_score,min(scores)], ':r')\n",
        "plt.show()"
      ],
      "execution_count": 109,
      "outputs": [
        {
          "output_type": "stream",
          "text": [
            "best k: 201  score= 0.7774605451936871\n"
          ],
          "name": "stdout"
        },
        {
          "output_type": "display_data",
          "data": {
            "image/png": "[encoded data removed]",
            "text/plain": [
              "<Figure size 432x288 with 1 Axes>"
            ]
          },
          "metadata": {
            "tags": [],
            "needs_background": "light"
          }
        }
      ]
    },
    {
      "cell_type": "markdown",
      "metadata": {
        "id": "wdgaD3YX7ZMe"
      },
      "source": [
        "On modifie l'espace des k pour la recherche, en l'élargissant jusqu'au 1800 k. le meilleur est ici situer entre 100 et 200 k. La courbe est décroissante quand on tend vers 1800 car comme nous avons pus le voir dans la premiere partie, quand un ensemble devient trop grand la précision est impacter. Donc il est normal que dans les grand ensemble de k a 1600-1800 la présision soit très basse."
      ]
    },
    {
      "cell_type": "markdown",
      "metadata": {
        "id": "Jf1Aa6O_SR7l"
      },
      "source": [
        "## Exercice 3 : Régression linéaire\n",
        "Dans cette  derniere partie le but n'est plus de prédire a 4 tour avant la fin si c'est une victoire au non, mais prédire le nombre de tours restants avant la fin d’une partie d’Hearthstone. On ce place cette fois au 10ème tours de la partie avant de faire nos prédiction."
      ]
    },
    {
      "cell_type": "code",
      "metadata": {
        "colab": {
          "base_uri": "https://localhost:8080/"
        },
        "id": "cNqZK3Fnn6bJ",
        "outputId": "d9e60eff-a1d9-4f9c-c12b-90531ef34777"
      },
      "source": [
        "import pandas as pd\n",
        " \n",
        "data = pd.read_csv(\"/content/drive/MyDrive/Université/M1/S8/IA/TP3/full_dataset.csv\")\n",
        " \n",
        "features_cols = [\"my_health\", \"opponent_health\", \"my_hand\", \"opponent_hand\", \"my_board_nb_creatures\",\n",
        "     \"my_board_total_health\", \"my_board_total_attack\", \"opponent_board_nb_creatures\",\n",
        "     \"opponent_board_total_health\", \"opponent_board_total_attack\"]\n",
        " \n",
        "pred_col = \"turns_to_end\"\n",
        " \n",
        "current_turn = 10\n",
        " \n",
        "turn_df = data[data[\"turn_id\"] == current_turn]\n",
        "X = turn_df[features_cols]\n",
        "Y = turn_df[pred_col]\n",
        "\n",
        "print(len(X))"
      ],
      "execution_count": 15,
      "outputs": [
        {
          "output_type": "stream",
          "text": [
            "1909\n"
          ],
          "name": "stdout"
        }
      ]
    },
    {
      "cell_type": "markdown",
      "metadata": {
        "id": "Ex_9mA9o-GHa"
      },
      "source": [
        "Ce code simple permet de récupere les lignes ou le nombre de tour est de 10."
      ]
    },
    {
      "cell_type": "markdown",
      "metadata": {
        "id": "GWOmTqeWoN1H"
      },
      "source": [
        "### 1 - Séparation des donnée de jeu"
      ]
    },
    {
      "cell_type": "code",
      "metadata": {
        "colab": {
          "base_uri": "https://localhost:8080/"
        },
        "id": "yB_1kIQGowqZ",
        "outputId": "c12ea227-5746-4514-b72b-9f119cb3ca9c"
      },
      "source": [
        "data = pd.read_csv(\"/content/drive/MyDrive/Université/M1/S8/IA/TP3/full_dataset.csv\")\n",
        " \n",
        "features_cols = [\"my_health\", \"opponent_health\", \"my_hand\", \"opponent_hand\", \"my_board_nb_creatures\",\n",
        "     \"my_board_total_health\", \"my_board_total_attack\", \"opponent_board_nb_creatures\",\n",
        "     \"opponent_board_total_health\", \"opponent_board_total_attack\"]\n",
        " \n",
        "\n",
        "pred_col = \"turns_to_end\"\n",
        " \n",
        "current_turn = 10\n",
        " \n",
        "turn_df = data[data[\"turn_id\"] == current_turn]\n",
        "X = turn_df[features_cols]\n",
        "Y = turn_df[pred_col]\n",
        "print(\"Taille des donnée : \")\n",
        "print(len(X))\n",
        "print()\n",
        "X_train,X_test,Y_train,Y_test=train_test_split(X,Y,test_size=0.3) \n",
        "print(\"Taille des donnée séparer, d'entrainement et de test :\")\n",
        "print(len(X_train))\n",
        "print(len(X_test))\n"
      ],
      "execution_count": 115,
      "outputs": [
        {
          "output_type": "stream",
          "text": [
            "Taille des donnée : \n",
            "1909\n",
            "\n",
            "Taille des donnée séparer, d'entrainement et de test :\n",
            "1336\n",
            "573\n"
          ],
          "name": "stdout"
        }
      ]
    },
    {
      "cell_type": "markdown",
      "metadata": {
        "id": "w3l5Xc0w-G-i"
      },
      "source": [
        "Comme dans la partie précédante nous utilisons train_test_split pour séparer les données en données d'entrainement et de test. ici on sépare de cette maniere:\n",
        "-70% des données pour l'entrainement \n",
        "-30% des données pour le test"
      ]
    },
    {
      "cell_type": "markdown",
      "metadata": {
        "id": "x8fExqqapL-H"
      },
      "source": [
        "###2 - Implémentation de la régression linéaire"
      ]
    },
    {
      "cell_type": "code",
      "metadata": {
        "id": "gnnDOm07pjIM",
        "colab": {
          "base_uri": "https://localhost:8080/"
        },
        "outputId": "0784a6b3-028f-46a2-c91a-5d2c52f5cdf2"
      },
      "source": [
        "from sklearn import linear_model \n",
        "lr = linear_model.LinearRegression()\n",
        "lr.fit(X_train, Y_train)\n"
      ],
      "execution_count": 132,
      "outputs": [
        {
          "output_type": "execute_result",
          "data": {
            "text/plain": [
              "LinearRegression(copy_X=True, fit_intercept=True, n_jobs=None, normalize=False)"
            ]
          },
          "metadata": {
            "tags": []
          },
          "execution_count": 132
        }
      ]
    },
    {
      "cell_type": "markdown",
      "metadata": {
        "id": "cl0O1Av0-ITp"
      },
      "source": [
        "LinearRegression permet d'avoir les paramettres du model de la regression linéaire:\n",
        "\n",
        "-Copy: indique si X est copier ou écraser, ici il est copier\n",
        "\n",
        "-fit_intercept: indique si on calcul l'intersection du model. Ici on ne s'attend pas a ce que les donnée soit centrer.\n",
        "\n",
        "-n_jobs : indique le nombre de jobs a utiliser pour le calcu, none signifie qu'un seul.\n",
        "\n",
        "-normalize: Paramettre qui indique si la regression est normaliser ou non. Ici ce n'est pas le cas.\n",
        "\n",
        "Tout les paramettres données ici sont les paramettres par défault."
      ]
    },
    {
      "cell_type": "markdown",
      "metadata": {
        "id": "P8oZWTIUpjZx"
      },
      "source": [
        "###3 - Evaluation du modèle sur le jeu de test\n"
      ]
    },
    {
      "cell_type": "code",
      "metadata": {
        "id": "292Ws2D0p49U"
      },
      "source": [
        "from sklearn.metrics import mean_squared_error\n",
        "\n",
        "#Y_pred = clf.predict(Y_test) "
      ],
      "execution_count": 137,
      "outputs": []
    },
    {
      "cell_type": "markdown",
      "metadata": {
        "id": "1C49DPXL-I08"
      },
      "source": [
        ""
      ]
    },
    {
      "cell_type": "markdown",
      "metadata": {
        "id": "VVU-UPQlp5Tc"
      },
      "source": [
        "###4 - Visualiser l’erreur de prédiction"
      ]
    },
    {
      "cell_type": "code",
      "metadata": {
        "id": "yX44N97Pp-yG",
        "colab": {
          "base_uri": "https://localhost:8080/",
          "height": 296
        },
        "outputId": "4d11d664-02f2-4918-fa3c-02c48b4fa288"
      },
      "source": [
        "from numpy.random import random\n",
        "from matplotlib import pyplot as plt\n",
        "\n",
        "plt.scatter(Y_test + 0.5*(random(len(Y_test))-0.5), lr.predict(X_test), color='black', s=1)\n",
        "\n",
        "plt.plot([0,20], [0,20])\n",
        "plt.xlabel(\"True Y\") \n",
        "plt.ylabel(\"Prediction\")"
      ],
      "execution_count": 136,
      "outputs": [
        {
          "output_type": "execute_result",
          "data": {
            "text/plain": [
              "Text(0, 0.5, 'Prediction')"
            ]
          },
          "metadata": {
            "tags": []
          },
          "execution_count": 136
        },
        {
          "output_type": "display_data",
          "data": {
            "image/png": "[encoded data removed]",
            "text/plain": [
              "<Figure size 432x288 with 1 Axes>"
            ]
          },
          "metadata": {
            "tags": [],
            "needs_background": "light"
          }
        }
      ]
    },
    {
      "cell_type": "markdown",
      "metadata": {
        "id": "cIC3egB9-NFP"
      },
      "source": [
        ""
      ]
    },
    {
      "cell_type": "markdown",
      "metadata": {
        "id": "Y0bFT12ap94p"
      },
      "source": [
        "###5 - Fichier TP3prog3.py complet et Question\n",
        "\n",
        "Voici le contenu final du fichier TP3prog3.py :"
      ]
    },
    {
      "cell_type": "code",
      "metadata": {
        "colab": {
          "base_uri": "https://localhost:8080/",
          "height": 296
        },
        "id": "e9jWl9aeH-Ig",
        "outputId": "defff50e-1189-4ade-944c-30d947288a59"
      },
      "source": [
        "#Séparation\n",
        "data = pd.read_csv(\"/content/drive/MyDrive/Université/M1/S8/IA/TP3/full_dataset.csv\")\n",
        "features_cols = [\"my_health\", \"opponent_health\", \"my_hand\", \"opponent_hand\", \"my_board_nb_creatures\",\n",
        "     \"my_board_total_health\", \"my_board_total_attack\", \"opponent_board_nb_creatures\",\n",
        "     \"opponent_board_total_health\", \"opponent_board_total_attack\"]\n",
        "pred_col = \"turns_to_end\"\n",
        "current_turn = 10\n",
        "turn_df = data[data[\"turn_id\"] == current_turn]\n",
        "X = turn_df[features_cols]\n",
        "Y = turn_df[pred_col]\n",
        "X_train,X_test,Y_train,Y_test=train_test_split(X,Y,test_size=0.3) \n",
        "\n",
        "\n",
        "#Régression linéaire\n",
        "from sklearn import linear_model \n",
        "lr = linear_model.LinearRegression()\n",
        "lr.fit(X_train, Y_train)\n",
        "\n",
        "\n",
        "from sklearn.metrics import mean_squared_error\n",
        "\n",
        "\n",
        "#Visualisation\n",
        "from numpy.random import random\n",
        "from matplotlib import pyplot as plt\n",
        "\n",
        "plt.scatter(Y_test + 0.5*(random(len(Y_test))-0.5), lr.predict(X_test), color='black', s=1)\n",
        "\n",
        "plt.plot([0,20], [0,20])\n",
        "plt.xlabel(\"True Y\") \n",
        "plt.ylabel(\"Prediction\")"
      ],
      "execution_count": 122,
      "outputs": [
        {
          "output_type": "execute_result",
          "data": {
            "text/plain": [
              "Text(0, 0.5, 'Prediction')"
            ]
          },
          "metadata": {
            "tags": []
          },
          "execution_count": 122
        },
        {
          "output_type": "display_data",
          "data": {
            "image/png": "[encoded data removed]",
            "text/plain": [
              "<Figure size 432x288 with 1 Axes>"
            ]
          },
          "metadata": {
            "tags": [],
            "needs_background": "light"
          }
        }
      ]
    },
    {
      "cell_type": "markdown",
      "metadata": {
        "id": "pZkjbw5NH-g5"
      },
      "source": [
        "Ce modèle de prédiction vous paraît-il performant ? \n",
        "\n",
        "...\n",
        "\n",
        "Quelles sont les raisons qui peuvent expliquer les erreurs de \n",
        "prédiction ?\n",
        "\n",
        "..."
      ]
    }
  ]
}