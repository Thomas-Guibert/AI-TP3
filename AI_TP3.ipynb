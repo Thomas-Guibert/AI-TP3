{
  "nbformat": 4,
  "nbformat_minor": 0,
  "metadata": {
    "colab": {
      "name": "AI - TP3.ipynb",
      "provenance": [],
      "collapsed_sections": [],
      "toc_visible": true,
      "include_colab_link": true
    },
    "kernelspec": {
      "name": "python3",
      "display_name": "Python 3"
    },
    "language_info": {
      "name": "python"
    }
  },
  "cells": [
    {
      "cell_type": "markdown",
      "metadata": {
        "id": "view-in-github",
        "colab_type": "text"
      },
      "source": [
        "<a href=\"https://colab.research.google.com/github/Thomas-Guibert/AI-TP3/blob/main/AI_TP3.ipynb\" target=\"_parent\"><img src=\"https://colab.research.google.com/assets/colab-badge.svg\" alt=\"Open In Colab\"/></a>"
      ]
    },
    {
      "cell_type": "markdown",
      "metadata": {
        "id": "6xz5twyhwjiJ"
      },
      "source": [
        "# TP Machine Learning avec Scikit Learn\n",
        "\n",
        "## Exercice 1: Échauffement avec le dataset Hearthstone"
      ]
    },
    {
      "cell_type": "code",
      "metadata": {
        "colab": {
          "base_uri": "https://localhost:8080/"
        },
        "id": "90McDWpgz67S",
        "outputId": "2ecd7cd1-df30-41d6-b575-0a723ec579ab"
      },
      "source": [
        "from google.colab import drive\n",
        "drive.mount('/content/drive')"
      ],
      "execution_count": null,
      "outputs": [
        {
          "output_type": "stream",
          "text": [
            "Mounted at /content/drive\n"
          ],
          "name": "stdout"
        }
      ]
    },
    {
      "cell_type": "markdown",
      "metadata": {
        "id": "R2nVs16n0_QT"
      },
      "source": [
        "L'objectif de cette premiere partie est de prendre en main le traitement des données ainsi que la prise en main de colab. "
      ]
    },
    {
      "cell_type": "code",
      "metadata": {
        "colab": {
          "base_uri": "https://localhost:8080/"
        },
        "id": "gOn2Zv3-0WW3",
        "outputId": "3608dfd9-759c-44f6-ef2d-15da5f5f94d4"
      },
      "source": [
        "import pandas as pd  # charge le module pandas et le renomme pd\n",
        "data = pd.read_csv(\"/content/drive/MyDrive/Université/M1/S8/IA/TP3/full_dataset.csv\")\n",
        "\n",
        "#Affichage des attribut\n",
        "print(data.columns)\n",
        "print(\"\")\n",
        "#Resumer des donnée\n",
        "print(data)\n",
        "\n",
        "print(\"\")\n",
        "help(len)"
      ],
      "execution_count": 10,
      "outputs": [
        {
          "output_type": "stream",
          "text": [
            "Index(['game_id', 'me_playing', 'my_board_nb_creatures',\n",
            "       'my_board_total_attack', 'my_board_total_health', 'my_class', 'my_hand',\n",
            "       'my_health', 'opponent_board_nb_creatures',\n",
            "       'opponent_board_total_attack', 'opponent_board_total_health',\n",
            "       'opponent_class', 'opponent_hand', 'opponent_health', 'result',\n",
            "       'turn_id', 'turns_to_end'],\n",
            "      dtype='object')\n",
            "\n",
            "       game_id  me_playing  ...  turn_id  turns_to_end\n",
            "0          434       False  ...        1            10\n",
            "1          434        True  ...        2             9\n",
            "2          434       False  ...        3             8\n",
            "3          434        True  ...        4             7\n",
            "4          434       False  ...        5             6\n",
            "...        ...         ...  ...      ...           ...\n",
            "36143      728       False  ...       17             4\n",
            "36144      728        True  ...       18             3\n",
            "36145      728       False  ...       19             2\n",
            "36146      728        True  ...       20             1\n",
            "36147      728       False  ...       21             0\n",
            "\n",
            "[36148 rows x 17 columns]\n",
            "\n",
            "Help on built-in function len in module builtins:\n",
            "\n",
            "len(obj, /)\n",
            "    Return the number of items in a container.\n",
            "\n"
          ],
          "name": "stdout"
        }
      ]
    },
    {
      "cell_type": "code",
      "metadata": {
        "colab": {
          "base_uri": "https://localhost:8080/"
        },
        "id": "Kwme0JO73C7Y",
        "outputId": "6dc359b0-9752-4d74-84fe-cc8bc953ca59"
      },
      "source": [
        "print(\"taille des donnée, nombre de ligne\")\n",
        "print(len(data))\n",
        "print(\"\")\n",
        "print(\"\")\n",
        "print(\"taille des donnée, nombre de ligne\")\n",
        "print(\"premier attribut des données\")\n",
        "print(\"    \"+data.columns[0])\n",
        "print(\"second attribut des données\")\n",
        "print(\"    \"+data.columns[2])\n",
        "print(\"derniere attribut des données\")\n",
        "print(\"    \"+data.columns[-1]) \n",
        "print(\"\")\n",
        "print(\"\")\n",
        "print(\"Nombre de ligne et nombre de colone\")\n",
        "print(data.shape) \n",
        "print(\"\")\n",
        "print(\"\")\n",
        "print(\"Recuperation de la valeur de tout les attribut du premier element\")\n",
        "print(data.iloc[0])\n",
        "print(\"\")\n",
        "print(\"\")\n",
        "print(\"Recuperation de la valeur de tout les attributs des 5 premier attribut\")\n",
        "print(data[0:5])\n",
        "print(\"\")\n",
        "print(\"Recuperation de la valeur de tout les attributs des 5 derniere attribut\")\n",
        "print(data[-5:-1])\n",
        "print(\"\")\n",
        "print(\"Recuperation de la valeur de tout les attributs qui sont des multiple de trois et inferieur a 10\")\n",
        "print(data[0:10:3])\n",
        "\n",
        "print(\"\")\n",
        "print(\"\")\n",
        "print(\"Affiche l'attribut de la santé de toutes les lignes\")\n",
        "print(data[\"my_health\"])\n",
        "print(\"\")\n",
        "print(\"\")\n",
        "print(\"Affiche les attribut my_health et my_hand des ligne 0 a 5\")\n",
        "print(data[[\"my_health\",\"my_hand\"]][0:5])"
      ],
      "execution_count": 21,
      "outputs": [
        {
          "output_type": "stream",
          "text": [
            "taille des donnée, nombre de ligne\n",
            "36148\n",
            "\n",
            "\n",
            "taille des donnée, nombre de ligne\n",
            "premier attribut des données\n",
            "    game_id\n",
            "second attribut des données\n",
            "    my_board_nb_creatures\n",
            "derniere attribut des données\n",
            "    turns_to_end\n",
            "\n",
            "\n",
            "Nombre de ligne et nombre de colone\n",
            "(36148, 17)\n",
            "\n",
            "\n",
            "Recuperation de la valeur de tout les attribut du premier element\n",
            "game_id                            434\n",
            "me_playing                       False\n",
            "my_board_nb_creatures                0\n",
            "my_board_total_attack                0\n",
            "my_board_total_health                0\n",
            "my_class                          Mage\n",
            "my_hand                              5\n",
            "my_health                           30\n",
            "opponent_board_nb_creatures          2\n",
            "opponent_board_total_attack          6\n",
            "opponent_board_total_health          3\n",
            "opponent_class                 Warlock\n",
            "opponent_hand                        3\n",
            "opponent_health                     27\n",
            "result                               0\n",
            "turn_id                              1\n",
            "turns_to_end                        10\n",
            "Name: 0, dtype: object\n",
            "\n",
            "\n",
            "Recuperation de la valeur de tout les attributs des 5 premier attribut\n",
            "   game_id  me_playing  my_board_nb_creatures  ...  result  turn_id turns_to_end\n",
            "0      434       False                      0  ...       0        1           10\n",
            "1      434        True                      2  ...       0        2            9\n",
            "2      434       False                      0  ...       0        3            8\n",
            "3      434        True                      1  ...       0        4            7\n",
            "4      434       False                      0  ...       0        5            6\n",
            "\n",
            "[5 rows x 17 columns]\n",
            "\n",
            "Recuperation de la valeur de tout les attributs des 5 derniere attribut\n",
            "       game_id  me_playing  ...  turn_id  turns_to_end\n",
            "36143      728       False  ...       17             4\n",
            "36144      728        True  ...       18             3\n",
            "36145      728       False  ...       19             2\n",
            "36146      728        True  ...       20             1\n",
            "\n",
            "[4 rows x 17 columns]\n",
            "\n",
            "Recuperation de la valeur de tout les attributs qui sont des multiple de trois et inferieur a 10\n",
            "   game_id  me_playing  my_board_nb_creatures  ...  result  turn_id turns_to_end\n",
            "0      434       False                      0  ...       0        1           10\n",
            "3      434        True                      1  ...       0        4            7\n",
            "6      434       False                      0  ...       0        7            4\n",
            "9      434        True                      2  ...       0       10            1\n",
            "\n",
            "[4 rows x 17 columns]\n",
            "\n",
            "\n",
            "Affiche l'attribut de la santé de toutes les lignes\n",
            "0        30\n",
            "1        30\n",
            "2        29\n",
            "3        29\n",
            "4        29\n",
            "         ..\n",
            "36143    14\n",
            "36144    16\n",
            "36145    16\n",
            "36146    20\n",
            "36147    20\n",
            "Name: my_health, Length: 36148, dtype: int64\n",
            "\n",
            "\n",
            "Affiche les attribut my_health et my_hand des ligne 0 a 5\n",
            "   my_health  my_hand\n",
            "0         30        5\n",
            "1         30        3\n",
            "2         29        3\n",
            "3         29        3\n",
            "4         29        3\n"
          ],
          "name": "stdout"
        }
      ]
    },
    {
      "cell_type": "code",
      "metadata": {
        "colab": {
          "base_uri": "https://localhost:8080/"
        },
        "id": "vs479Nm-9O_A",
        "outputId": "f47fbfb0-1dd3-4dd9-ca4a-4918a0082eba"
      },
      "source": [
        "turns_before_end = 4   # 4 tours avant la fin\n",
        "\n",
        "print(\"nombre de ligne ou eest egal a 4\")\n",
        "turn_df = data[data[\"turns_to_end\"]==turns_before_end]\n",
        "print(len(turn_df))"
      ],
      "execution_count": 24,
      "outputs": [
        {
          "output_type": "stream",
          "text": [
            "nombre de ligne ou eest egal a 4\n",
            "2049\n"
          ],
          "name": "stdout"
        }
      ]
    }
  ]
}