{
  "nbformat": 4,
  "nbformat_minor": 0,
  "metadata": {
    "colab": {
      "name": "AI - TP3.ipynb",
      "provenance": [],
      "collapsed_sections": [],
      "toc_visible": true,
      "include_colab_link": true
    },
    "kernelspec": {
      "name": "python3",
      "display_name": "Python 3"
    },
    "language_info": {
      "name": "python"
    }
  },
  "cells": [
    {
      "cell_type": "markdown",
      "metadata": {
        "id": "view-in-github",
        "colab_type": "text"
      },
      "source": [
        "<a href=\"https://colab.research.google.com/github/Thomas-Guibert/AI-TP3/blob/main/AI_TP3.ipynb\" target=\"_parent\"><img src=\"https://colab.research.google.com/assets/colab-badge.svg\" alt=\"Open In Colab\"/></a>"
      ]
    },
    {
      "cell_type": "markdown",
      "metadata": {
        "id": "6xz5twyhwjiJ"
      },
      "source": [
        "# TP Machine Learning avec Scikit Learn\n",
        "\n"
      ]
    },
    {
      "cell_type": "markdown",
      "metadata": {
        "id": "e-SjPOyzE39o"
      },
      "source": [
        "Lien du git : https://github.com/Thomas-Guibert/AI-TP3/blob/main/AI_TP3.ipynb\n"
      ]
    },
    {
      "cell_type": "markdown",
      "metadata": {
        "id": "HcqD9PRiSLNx"
      },
      "source": [
        "## Exercice 1: Échauffement avec le dataset Hearthstone\n"
      ]
    },
    {
      "cell_type": "markdown",
      "metadata": {
        "id": "6ubD7R9xSHKn"
      },
      "source": [
        "### A - Les données\n"
      ]
    },
    {
      "cell_type": "markdown",
      "metadata": {
        "id": "q0H6g2GE8xc9"
      },
      "source": [
        "L'objectif de cette premiere partie est de prendre en main le traitement des données ainsi que la prise en main de colab.\n",
        "Pour ce faire nous allons utiliser des dataset de partie de Heartstone bien plus complete que celle utiliser pour le TP précédent."
      ]
    },
    {
      "cell_type": "code",
      "metadata": {
        "colab": {
          "base_uri": "https://localhost:8080/"
        },
        "id": "90McDWpgz67S",
        "outputId": "ded130c2-dd3d-4acb-ad4c-853cf45ff114"
      },
      "source": [
        "from google.colab import drive\n",
        "drive.mount('/content/drive')"
      ],
      "execution_count": 6,
      "outputs": [
        {
          "output_type": "stream",
          "text": [
            "Mounted at /content/drive\n"
          ],
          "name": "stdout"
        }
      ]
    },
    {
      "cell_type": "markdown",
      "metadata": {
        "id": "R2nVs16n0_QT"
      },
      "source": [
        "C'est premiere ligne servent uniquement a colab pour aller chercher les ressource presnte dans le drive."
      ]
    },
    {
      "cell_type": "code",
      "metadata": {
        "colab": {
          "base_uri": "https://localhost:8080/"
        },
        "id": "gOn2Zv3-0WW3",
        "outputId": "f2283e31-e4e5-4bc6-a14f-2bb15ac14e4f"
      },
      "source": [
        "import pandas as pd  # charge le module pandas et le renomme pd\n",
        "data = pd.read_csv(\"/content/drive/MyDrive/Université/M1/S8/IA/TP3/full_dataset.csv\")\n",
        "\n",
        "#Affichage des attribut\n",
        "print(data.columns)\n",
        "print(\"\")\n",
        "#Resumer des donnée\n",
        "print(data)\n",
        "\n",
        "print(\"\")\n",
        "help(len)"
      ],
      "execution_count": 7,
      "outputs": [
        {
          "output_type": "stream",
          "text": [
            "Index(['game_id', 'me_playing', 'my_board_nb_creatures',\n",
            "       'my_board_total_attack', 'my_board_total_health', 'my_class', 'my_hand',\n",
            "       'my_health', 'opponent_board_nb_creatures',\n",
            "       'opponent_board_total_attack', 'opponent_board_total_health',\n",
            "       'opponent_class', 'opponent_hand', 'opponent_health', 'result',\n",
            "       'turn_id', 'turns_to_end'],\n",
            "      dtype='object')\n",
            "\n",
            "       game_id  me_playing  ...  turn_id  turns_to_end\n",
            "0          434       False  ...        1            10\n",
            "1          434        True  ...        2             9\n",
            "2          434       False  ...        3             8\n",
            "3          434        True  ...        4             7\n",
            "4          434       False  ...        5             6\n",
            "...        ...         ...  ...      ...           ...\n",
            "36143      728       False  ...       17             4\n",
            "36144      728        True  ...       18             3\n",
            "36145      728       False  ...       19             2\n",
            "36146      728        True  ...       20             1\n",
            "36147      728       False  ...       21             0\n",
            "\n",
            "[36148 rows x 17 columns]\n",
            "\n",
            "Help on built-in function len in module builtins:\n",
            "\n",
            "len(obj, /)\n",
            "    Return the number of items in a container.\n",
            "\n"
          ],
          "name": "stdout"
        }
      ]
    },
    {
      "cell_type": "markdown",
      "metadata": {
        "id": "clqDfFq883nA"
      },
      "source": [
        "L'objet data permet d'avoir accès a l'objet full_dataset.csv qui contient nos donnée. Grace a lui nous ponvons accéder facilement au donnée et attribut qu'elle contient.\n",
        "Nous allons voir plusieurs façon de recolter ces attribut.\n",
        "\n",
        "premierement pour avoir la liste des attribut de data il suffit de faire data.columns, a ou un simpl data suffit pour recupere un resumer des données (Pour chaque ligne récupérer les valeur de tout les attribut, soit 36148 ligne pour 17 columns).\n",
        "\n",
        "On peut noté la presence de la commande spécial help qui permet d'avoir la documentation de la fonction donnée, dans notre exemple il s'agit de la fonction len."
      ]
    },
    {
      "cell_type": "code",
      "metadata": {
        "colab": {
          "base_uri": "https://localhost:8080/"
        },
        "id": "Kwme0JO73C7Y",
        "outputId": "2b496552-7f75-43a3-9327-552bf6f1254d"
      },
      "source": [
        "print(\"taille des donnée, nombre de ligne\")\n",
        "print(len(data))\n",
        "print(\"\")\n",
        "print(\"\")\n",
        "print(\"taille des donnée, nombre de ligne\")\n",
        "print(\"premier attribut des données\")\n",
        "print(\"    \"+data.columns[0])\n",
        "print(\"troisième attribut des données\")\n",
        "print(\"    \"+data.columns[2])\n",
        "print(\"derniere attribut des données\")\n",
        "print(\"    \"+data.columns[-1]) \n",
        "print(\"\")\n",
        "print(\"\")\n",
        "print(\"Nombre de ligne et nombre de colone\")\n",
        "print(data.shape) \n",
        "print(\"\")\n",
        "print(\"\")\n",
        "print(\"Recuperation de la valeur de tout les attribut du premier element\")\n",
        "print(data.iloc[0])\n",
        "print(\"\")\n",
        "print(\"\")\n",
        "print(\"Recuperation de la valeur de tout les attributs des 5 premiere ligne\")\n",
        "print(data[0:5])\n",
        "print(\"\")\n",
        "print(\"Recuperation de la valeur de tout les attributs des 5 derniere ligne\")\n",
        "print(data[-5:-1])\n",
        "print(\"\")\n",
        "print(\"Recuperation de la valeur de tout les attributs qui sont des multiple de trois et inferieur a 10\")\n",
        "print(data[0:10:3])\n",
        "\n",
        "print(\"\")\n",
        "print(\"\")\n",
        "print(\"Affiche l'attribut de la santé de toutes les lignes\")\n",
        "print(data[\"my_health\"])\n",
        "print(\"\")\n",
        "print(\"\")\n",
        "print(\"Affiche les attribut my_health et my_hand des ligne 0 a 5\")\n",
        "print(data[[\"my_health\",\"my_hand\"]][0:5])"
      ],
      "execution_count": 8,
      "outputs": [
        {
          "output_type": "stream",
          "text": [
            "taille des donnée, nombre de ligne\n",
            "36148\n",
            "\n",
            "\n",
            "taille des donnée, nombre de ligne\n",
            "premier attribut des données\n",
            "    game_id\n",
            "troisième attribut des données\n",
            "    my_board_nb_creatures\n",
            "derniere attribut des données\n",
            "    turns_to_end\n",
            "\n",
            "\n",
            "Nombre de ligne et nombre de colone\n",
            "(36148, 17)\n",
            "\n",
            "\n",
            "Recuperation de la valeur de tout les attribut du premier element\n",
            "game_id                            434\n",
            "me_playing                       False\n",
            "my_board_nb_creatures                0\n",
            "my_board_total_attack                0\n",
            "my_board_total_health                0\n",
            "my_class                          Mage\n",
            "my_hand                              5\n",
            "my_health                           30\n",
            "opponent_board_nb_creatures          2\n",
            "opponent_board_total_attack          6\n",
            "opponent_board_total_health          3\n",
            "opponent_class                 Warlock\n",
            "opponent_hand                        3\n",
            "opponent_health                     27\n",
            "result                               0\n",
            "turn_id                              1\n",
            "turns_to_end                        10\n",
            "Name: 0, dtype: object\n",
            "\n",
            "\n",
            "Recuperation de la valeur de tout les attributs des 5 premiere ligne\n",
            "   game_id  me_playing  my_board_nb_creatures  ...  result  turn_id turns_to_end\n",
            "0      434       False                      0  ...       0        1           10\n",
            "1      434        True                      2  ...       0        2            9\n",
            "2      434       False                      0  ...       0        3            8\n",
            "3      434        True                      1  ...       0        4            7\n",
            "4      434       False                      0  ...       0        5            6\n",
            "\n",
            "[5 rows x 17 columns]\n",
            "\n",
            "Recuperation de la valeur de tout les attributs des 5 derniere ligne\n",
            "       game_id  me_playing  ...  turn_id  turns_to_end\n",
            "36143      728       False  ...       17             4\n",
            "36144      728        True  ...       18             3\n",
            "36145      728       False  ...       19             2\n",
            "36146      728        True  ...       20             1\n",
            "\n",
            "[4 rows x 17 columns]\n",
            "\n",
            "Recuperation de la valeur de tout les attributs qui sont des multiple de trois et inferieur a 10\n",
            "   game_id  me_playing  my_board_nb_creatures  ...  result  turn_id turns_to_end\n",
            "0      434       False                      0  ...       0        1           10\n",
            "3      434        True                      1  ...       0        4            7\n",
            "6      434       False                      0  ...       0        7            4\n",
            "9      434        True                      2  ...       0       10            1\n",
            "\n",
            "[4 rows x 17 columns]\n",
            "\n",
            "\n",
            "Affiche l'attribut de la santé de toutes les lignes\n",
            "0        30\n",
            "1        30\n",
            "2        29\n",
            "3        29\n",
            "4        29\n",
            "         ..\n",
            "36143    14\n",
            "36144    16\n",
            "36145    16\n",
            "36146    20\n",
            "36147    20\n",
            "Name: my_health, Length: 36148, dtype: int64\n",
            "\n",
            "\n",
            "Affiche les attribut my_health et my_hand des ligne 0 a 5\n",
            "   my_health  my_hand\n",
            "0         30        5\n",
            "1         30        3\n",
            "2         29        3\n",
            "3         29        3\n",
            "4         29        3\n"
          ],
          "name": "stdout"
        }
      ]
    },
    {
      "cell_type": "markdown",
      "metadata": {
        "id": "xHLl7NWt_W6f"
      },
      "source": [
        "Comme le dit la commande help len sert a obtenir la taille des donnée, c'est a dire le nombres de ligne soit 36148.\n",
        "\n",
        "Pour avoir l'attribut corespondant a une colone, on peut faire data.columns[nb de la colone].\n",
        "On peut aussi recupere le nombre de columne et de ligne avec data.shape\n",
        "\n",
        "Avec data.iloc[nb] on peut recupere la valeur de tout les attributs de la ligne donnée.\n",
        "\n",
        "Grace a data[0:5] on peut faire comme iloc mais ici on recupere tout les attribut des ligne compris dans l'interval donnée. Les nombre négatif permet d'aler recupere les derniere lignes.\n",
        "Il existe la variante data[0:10:3] qui fait exactement la meme chose mais cette fois elle prendre les ligne mulitple du troisième nombre rentrer dans l'intervalle former avec les deux premiers chiffre rentrer.\n",
        "\n",
        "Les derniere commande permetais de recupere des lignes, avec data[attribut] on recupèr l'entièreter des valeur que l'attribut a pour chaqu'un des lignes.\n",
        "\n",
        "On peut aussi combiner plusieurs commande et avoir ce genre de chose : (data[[\"my_health\",\"my_hand\"]][0:5]) :\n",
        "Cela permet de recupere la valeu des deux attribut renseigner pour les ligne de l'intervale donnée.\n"
      ]
    },
    {
      "cell_type": "code",
      "metadata": {
        "colab": {
          "base_uri": "https://localhost:8080/"
        },
        "id": "vs479Nm-9O_A",
        "outputId": "e0428fdd-8843-40be-eb86-31b8b09b521d"
      },
      "source": [
        "turns_before_end = 4   # 4 tours avant la fin\n",
        "\n",
        "print(\"nombre de ligne ou est egal a 4\")\n",
        "turn_df = data[data[\"turns_to_end\"]==turns_before_end]\n",
        "print(len(turn_df))"
      ],
      "execution_count": 9,
      "outputs": [
        {
          "output_type": "stream",
          "text": [
            "nombre de ligne ou est egal a 4\n",
            "2049\n"
          ],
          "name": "stdout"
        }
      ]
    },
    {
      "cell_type": "markdown",
      "metadata": {
        "id": "tp6C7YcKRXCn"
      },
      "source": [
        "Dans notre étude nous allons analyser les partie ou il ne reste que 4 tours a joué avant la fin de la partie. Il nous faut donc faire un tri sur les données, la ligne suivant : data[data[\"turns_to_end\"]==turns_before_end] , permet de recupere les ligne pour lesquels l'attribut \"turns_before_end\" est égale à 4.\n",
        "\n",
        "En combinant cela avec len on recupere le nombre de ligne ou il ne reste que 4 tour avant la fin de la partie."
      ]
    },
    {
      "cell_type": "code",
      "metadata": {
        "colab": {
          "base_uri": "https://localhost:8080/"
        },
        "id": "1j1CNcgX9mau",
        "outputId": "585b19a3-c735-46a7-e4a5-9c7c9b13b585"
      },
      "source": [
        "features_cols = [\"my_health\", \"opponent_health\", \"my_hand\", \"opponent_hand\", \"my_board_nb_creatures\",\n",
        "     \"my_board_total_health\", \"my_board_total_attack\", \"opponent_board_nb_creatures\",\n",
        "     \"opponent_board_total_health\", \"opponent_board_total_attack\", \"me_playing\"]\n",
        " \n",
        "pred_col = \"result\"\n",
        " \n",
        "X = turn_df[features_cols]\n",
        "Y = turn_df[pred_col]\n",
        "#Description des ligne ou il n'y a plus que 4 tour avant la fin\n",
        "print(X)\n",
        "#Affichage d'uniquement le resultat pour chacune\n",
        "print(Y)"
      ],
      "execution_count": 10,
      "outputs": [
        {
          "output_type": "stream",
          "text": [
            "       my_health  opponent_health  ...  opponent_board_total_attack  me_playing\n",
            "6             23               27  ...                         11.0       False\n",
            "13            27               30  ...                          6.0        True\n",
            "28             8               28  ...                         13.0       False\n",
            "45            24                9  ...                          4.0        True\n",
            "65            18               20  ...                         17.0       False\n",
            "...          ...              ...  ...                          ...         ...\n",
            "36086         22               23  ...                          0.0       False\n",
            "36096         26               28  ...                          5.0        True\n",
            "36108         23               15  ...                          3.0       False\n",
            "36122         30               30  ...                          6.0        True\n",
            "36143         14               23  ...                          6.0       False\n",
            "\n",
            "[2049 rows x 11 columns]\n",
            "6        0\n",
            "13       0\n",
            "28       0\n",
            "45       1\n",
            "65       0\n",
            "        ..\n",
            "36086    1\n",
            "36096    1\n",
            "36108    1\n",
            "36122    1\n",
            "36143    0\n",
            "Name: result, Length: 2049, dtype: int64\n"
          ],
          "name": "stdout"
        }
      ]
    },
    {
      "cell_type": "markdown",
      "metadata": {
        "id": "Ds8D9pePb0-H"
      },
      "source": [
        "Les ligne au dessus permet d'afficher le contenu des ligne ou il ne reste que 4 tour avant la fin de la partie. \n",
        "avec turn_df[\"result\"] on affiche le resultat de victoire ou non de la partie."
      ]
    },
    {
      "cell_type": "markdown",
      "metadata": {
        "id": "h4e5ZesTDJJU"
      },
      "source": [
        "### B - Affichage"
      ]
    },
    {
      "cell_type": "markdown",
      "metadata": {
        "id": "nxlj-XaMf0ZK"
      },
      "source": [
        "Pour afficher les donnée de maniere a bien les visualiser, nous utiliserons matplotlib.pyplot."
      ]
    },
    {
      "cell_type": "code",
      "metadata": {
        "colab": {
          "base_uri": "https://localhost:8080/",
          "height": 296
        },
        "id": "8MQGZdxzDgBg",
        "outputId": "3460da2d-714d-44ac-b7fd-77b10b808ada"
      },
      "source": [
        "from matplotlib import pyplot as plt # alias the name \"pyplot\" by \"plt\" \n",
        " \n",
        "x_col=\"my_health\"\n",
        "y_col=\"opponent_health\"\n",
        " \n",
        "plt.xlabel(x_col) # all the functions defined in a given library should be prefixed by the name of the library\n",
        "plt.ylabel(y_col)\n",
        "plt.title(\"Hearthstone data: health\")\n",
        "\n",
        "plt.scatter(X[x_col], X[y_col],c=Y)\n",
        "plt.show() "
      ],
      "execution_count": 11,
      "outputs": [
        {
          "output_type": "display_data",
          "data": {
            "image/png": "[encoded data removed]",
            "text/plain": [
              "<Figure size 432x288 with 1 Axes>"
            ]
          },
          "metadata": {
            "tags": [],
            "needs_background": "light"
          }
        }
      ]
    },
    {
      "cell_type": "markdown",
      "metadata": {
        "id": "cYIZCzyirZVs"
      },
      "source": [
        "Ici on peut visualiser le nombre de vie de chaqu'un des joueur au moment ou il n'y a plus que 4 tour a jouer, et on voit si la partie a ete gagner ou pas."
      ]
    },
    {
      "cell_type": "code",
      "metadata": {
        "colab": {
          "base_uri": "https://localhost:8080/",
          "height": 707
        },
        "id": "0KaNeHJgZ_Jv",
        "outputId": "96618924-0e28-405f-c0a4-e0b92316392f"
      },
      "source": [
        "#Remplace les 0 et 1 des resultat par True et False\n",
        "print(Y==0)\n",
        "#fait la meme chose mais en affichant tout les autre attribut\n",
        "print(X[Y==0])\n",
        "\n",
        "plt.scatter(X[Y==0][x_col], X[Y==0][y_col], color=\"red\",label=\"lose\")\n",
        "plt.scatter(X[Y==1][x_col], X[Y==1][y_col], color=\"green\",label=\"win\") \n",
        "\n",
        "plt.legend()\n",
        "plt.show()"
      ],
      "execution_count": 12,
      "outputs": [
        {
          "output_type": "stream",
          "text": [
            "6         True\n",
            "13        True\n",
            "28        True\n",
            "45       False\n",
            "65        True\n",
            "         ...  \n",
            "36086    False\n",
            "36096    False\n",
            "36108    False\n",
            "36122    False\n",
            "36143     True\n",
            "Name: result, Length: 2049, dtype: bool\n",
            "       my_health  opponent_health  ...  opponent_board_total_attack  me_playing\n",
            "6             23               27  ...                         11.0       False\n",
            "13            27               30  ...                          6.0        True\n",
            "28             8               28  ...                         13.0       False\n",
            "65            18               20  ...                         17.0       False\n",
            "79            26               26  ...                          7.0        True\n",
            "...          ...              ...  ...                          ...         ...\n",
            "35913         28               18  ...                         13.0       False\n",
            "35932         13               30  ...                         11.0       False\n",
            "35962         13               14  ...                          0.0        True\n",
            "36034          9               15  ...                          6.0       False\n",
            "36143         14               23  ...                          6.0       False\n",
            "\n",
            "[920 rows x 11 columns]\n"
          ],
          "name": "stdout"
        },
        {
          "output_type": "display_data",
          "data": {
            "image/png": "[encoded data removed]",
            "text/plain": [
              "<Figure size 432x288 with 1 Axes>"
            ]
          },
          "metadata": {
            "tags": [],
            "needs_background": "light"
          }
        }
      ]
    },
    {
      "cell_type": "markdown",
      "metadata": {
        "id": "qB7_X-kZvSI_"
      },
      "source": [
        "Grace a Y==0 on peut remplacer les 0 et les 1 de resultat par un boolean\n",
        "En appliquans cela a X on remplace les nombres de la colomns Resultat par des boolean en gardant toutes les autre colomnes intacte\n",
        "\n",
        "En passant a des boolean,nous pouvons indiquer la couleur et le label associer au element respectant la condition donnée qui est que le resultat soit faux pour rouge et vrai pour vert.\n",
        "Une fois les regle de traitement de donnée mis en place, il suffit d'affiche la legend et le diagramme avec les deux derniere ligne du code ci-dessus pour avoir les resultat avec un code couleur plus parlant"
      ]
    },
    {
      "cell_type": "code",
      "metadata": {
        "colab": {
          "base_uri": "https://localhost:8080/",
          "height": 296
        },
        "id": "QamGOgpqumI8",
        "outputId": "8ba3ddb2-f309-4507-f1a7-5c6e9d5d9681"
      },
      "source": [
        "# TP3prog1.py\n",
        " \n",
        "import pandas as pd\n",
        "from matplotlib import pyplot as plt\n",
        "from numpy.random import random\n",
        " \n",
        "data = pd.read_csv(\"/content/drive/MyDrive/Université/M1/S8/IA/TP3/full_dataset.csv\")\n",
        " \n",
        "features_cols = [\"my_health\", \"opponent_health\", \"my_hand\", \"opponent_hand\", \"my_board_nb_creatures\",\n",
        "     \"my_board_total_health\", \"my_board_total_attack\", \"opponent_board_nb_creatures\",\n",
        "     \"opponent_board_total_health\", \"opponent_board_total_attack\", \"me_playing\"]\n",
        " \n",
        "pred_col = \"result\"\n",
        " \n",
        "turns_before_end = 4\n",
        " \n",
        "turn_df = data[data[\"turns_to_end\"] == turns_before_end]\n",
        "X = turn_df[features_cols]\n",
        "Y = turn_df[pred_col]\n",
        " \n",
        "x_col=\"my_health\"\n",
        "y_col=\"opponent_health\"\n",
        " \n",
        "colors=[\"red\", \"green\"]\n",
        "labels=[\"loose\", \"win\"]\n",
        "for i in range(2):\n",
        "    indices = Y==i\n",
        "    nb_rows = sum(indices)\n",
        "    plt.scatter(X[indices][x_col] + 0.5*(random(nb_rows)-0.5),\n",
        "                X[indices][y_col] + 0.5*(random(nb_rows)-0.5),\n",
        "                color=colors[i],label=labels[i],s=2)\n",
        "plt.legend()\n",
        "plt.xlabel(x_col) \n",
        "plt.ylabel(y_col)\n",
        "plt.title(\"Hearthstone data: health\") \n",
        "plt.show()"
      ],
      "execution_count": 13,
      "outputs": [
        {
          "output_type": "display_data",
          "data": {
            "image/png": "[encoded data removed]",
            "text/plain": [
              "<Figure size 432x288 with 1 Axes>"
            ]
          },
          "metadata": {
            "tags": [],
            "needs_background": "light"
          }
        }
      ]
    },
    {
      "cell_type": "markdown",
      "metadata": {
        "id": "cTPXzidc5Uv0"
      },
      "source": [
        "Le diagramme ci-dessus est gener par l'execution du code de TP3prog1.py.\n",
        "\n",
        "À quoi sert le nombre aléatoire ajouté avec random ?\n",
        "\n",
        "Le nombre random permet de faire des petit décalage pour chaque point car plusieurs point de differente couleur se supperposais dans le diagramme précédant.\n",
        "\n",
        "Cette visualisation est-elle plus informative que la précédente ?\n",
        "Cette visualisation est donc bien plus informative car on va plus clairement les différents point et leurs appartenance (victoire ou défaite)."
      ]
    },
    {
      "cell_type": "markdown",
      "metadata": {
        "id": "F8uv9AHoSYL8"
      },
      "source": [
        "## Exercice 2 : Classification KNN sur Hearthstone\n"
      ]
    },
    {
      "cell_type": "markdown",
      "metadata": {
        "id": "zL4uyfUT5jmy"
      },
      "source": [
        "Dans cette partie nous allons utiliser la classificateur des \"k plus proche voisin\" utilisable abec l'import neighbors.\n",
        "Cette import donne un certaine nombre de commande permet d'avoir des information precise sur notre classification, tel que classifier des exemple, definir la probabilite de la classification ou encore le score globale du classificateur."
      ]
    },
    {
      "cell_type": "code",
      "metadata": {
        "colab": {
          "base_uri": "https://localhost:8080/"
        },
        "id": "SYcsIyEl5iRQ",
        "outputId": "03943c3d-17e2-4de1-f000-329fe5e7f177"
      },
      "source": [
        "from sklearn import neighbors\n",
        "nb_neighb = 45\n",
        "\n",
        "# pour de l’aide taper: help(neighbors.KNeighborsClassifier)\n",
        "clf = neighbors.KNeighborsClassifier(nb_neighb)\n",
        "\n",
        "# pour de l’aide taper: help(clf.fit)\n",
        "clf.fit(X, Y) #on suppose de X et Y sont définis comme dans la partie précédente\n",
        "\n",
        "# pour de l’aide taper: help(clf.predict) \n",
        "print(clf.predict(X[0:5])) \n",
        "\n",
        "print(clf.predict_proba(X[0:5])) \n",
        "print(clf.score(X,Y)) "
      ],
      "execution_count": 14,
      "outputs": [
        {
          "output_type": "stream",
          "text": [
            "[0 0 0 1 0]\n",
            "[[0.93333333 0.06666667]\n",
            " [0.68888889 0.31111111]\n",
            " [0.95555556 0.04444444]\n",
            " [0.17777778 0.82222222]\n",
            " [0.82222222 0.17777778]]\n",
            "0.7837969741337237\n"
          ],
          "name": "stdout"
        }
      ]
    },
    {
      "cell_type": "markdown",
      "metadata": {
        "id": "Wwu7-9-QRxYA"
      },
      "source": [
        "La premiere ligne \"neighbors.KNeighborsClassifier(nb_neighb)\" permet de faire une classification des K plus proche voisin, on donne en paramettre le nombre de voisin a prendre en compte.\n",
        "\n",
        "Avec clf.fit(X, Y), on défini les donnée d'entrainement ainsi que les valeur cible. Ici les donnée d'entrainement sont les donnée de notre partie de Heartstone quand il ne reste que 4 tour avant la fin de la partie. Pour les donnée cible on prend la valeur qui indique si la partie est gagner ou non.\n",
        "\n",
        "Une fois cela mis en place ou peut utiliser predicte pour avoir un certaine nombre de valeur :\n",
        "\n",
        "-Avec clf.predict(X[0:5]) on optient l'etiquete majoritaire. Ici pour les resultat l'etiquette \"0\" qui correspond a perdu est majoritaire pour presque tout les donnée rentrer, seul la 4eme valeur indique que l'on gagne.\n",
        "\n",
        "-clf.predict_proba(X[0:5]) va plus loin en donnant directement la probabilité, par exemple dans la premiere partie au 4eme tour avant la fin, le joueur adverse avait 93.33% de chance de gagner contre 06.66% pour l'autre. Alors que pour la partie 4 le joueur adverse avait 17.77% de chance de gagner contre 82.22% pour l'autre joueur.\n",
        "\n",
        "-Enfin clf.score(X,Y) donne la précision moyenne des résultat obtenu a partir des donnée test et des étiquettes données.\n",
        "\n",
        "\n",
        "Esseyons maintenant avec K = 1 et K = 1000\n",
        "\n",
        "###- K = 1\n"
      ]
    },
    {
      "cell_type": "code",
      "metadata": {
        "colab": {
          "base_uri": "https://localhost:8080/"
        },
        "id": "JNaZ5pBvbrrW",
        "outputId": "143b5f2a-3679-4238-c769-978a2a012d51"
      },
      "source": [
        "nb_neighb = 1\n",
        "\n",
        "# pour de l’aide taper: help(neighbors.KNeighborsClassifier)\n",
        "clf = neighbors.KNeighborsClassifier(nb_neighb)\n",
        "\n",
        "# pour de l’aide taper: help(clf.fit)\n",
        "clf.fit(X, Y) #on suppose de X et Y sont définis comme dans la partie précédente\n",
        "\n",
        "# pour de l’aide taper: help(clf.predict) \n",
        "print(clf.predict(X[0:5])) \n",
        "\n",
        "print(clf.predict_proba(X[0:5])) \n",
        "print(clf.score(X,Y)) "
      ],
      "execution_count": 15,
      "outputs": [
        {
          "output_type": "stream",
          "text": [
            "[0 0 0 1 0]\n",
            "[[1. 0.]\n",
            " [1. 0.]\n",
            " [1. 0.]\n",
            " [0. 1.]\n",
            " [1. 0.]]\n",
            "1.0\n"
          ],
          "name": "stdout"
        }
      ]
    },
    {
      "cell_type": "markdown",
      "metadata": {
        "id": "KEe9efvdbufN"
      },
      "source": [
        "Sans surprise avec K=1 on ne regarde qu'un seul voisin donc les prediction ne donne que du 0% ou du 100% de chance de gagner. La précision est aussi toucher , elle est de 100% avec cette technique.\n",
        "\n",
        "###- K=1000"
      ]
    },
    {
      "cell_type": "code",
      "metadata": {
        "colab": {
          "base_uri": "https://localhost:8080/"
        },
        "id": "meWWmTKZcMNL",
        "outputId": "e385126f-2116-4f25-c709-5a2b6f1e557c"
      },
      "source": [
        "nb_neighb = 1000\n",
        "\n",
        "# pour de l’aide taper: help(neighbors.KNeighborsClassifier)\n",
        "clf = neighbors.KNeighborsClassifier(nb_neighb)\n",
        "\n",
        "# pour de l’aide taper: help(clf.fit)\n",
        "clf.fit(X, Y) #on suppose de X et Y sont définis comme dans la partie précédente\n",
        "\n",
        "# pour de l’aide taper: help(clf.predict) \n",
        "print(clf.predict(X[0:5])) \n",
        "\n",
        "print(clf.predict_proba(X[0:5])) \n",
        "print(clf.score(X,Y)) "
      ],
      "execution_count": 16,
      "outputs": [
        {
          "output_type": "stream",
          "text": [
            "[0 1 0 1 0]\n",
            "[[0.633 0.367]\n",
            " [0.461 0.539]\n",
            " [0.674 0.326]\n",
            " [0.29  0.71 ]\n",
            " [0.635 0.365]]\n",
            "0.7510980966325037\n"
          ],
          "name": "stdout"
        }
      ]
    },
    {
      "cell_type": "markdown",
      "metadata": {
        "id": "goed-Y7WcWDK"
      },
      "source": [
        "Avec k=1000 on remarque un changement sur la seconde partie, il y a plus de partie perdante pour l'adverser dans les 1000 voisin les plus proche. Les pourcentage passe alors a 46.10% pour l'adverse. On remarque aussi que les pourcentage sont de maniere general plus proche du 50% que avec k=45.\n",
        "Prendre un tels nombre de voisin fait aussi légerement baisser la précision, ce qui est normal.\n",
        "\n",
        "\n",
        "\n",
        "\n",
        "On veux maintenant separer le jeux de donnée en deux pour avoir des donnée d'entrenement et des donnée de test indépandante l'une de l'autre. Cependant, il faut un certain nombre de donnée pour les tests car comme nous avons peu le voir pour K=1 précédement, trop peut de donnée ne peut pas donnée des tests convenable.\n",
        "Le module \"model_selection.train_test_split\" va nous permetre ici de séparer les donnée."
      ]
    },
    {
      "cell_type": "code",
      "metadata": {
        "colab": {
          "base_uri": "https://localhost:8080/"
        },
        "id": "y5BH2vvTfsXG",
        "outputId": "2299cfc6-dee7-49e0-d303-43aaa35a3a6b"
      },
      "source": [
        "from sklearn.model_selection import train_test_split \n",
        "# pour de l’aide taper: help(train_test_split)\n",
        "X_train,X_test,Y_train,Y_test=train_test_split(X,Y,test_size=0.3) \n",
        "\n",
        "print(len(X_train))\n",
        "print(len(X_test))\n",
        "print(len(X_train[Y_train==0]))\n",
        "print(len(X_train[Y_train==1]))\n",
        "print()\n",
        "\n",
        "nb_neighb = 45\n",
        "clf = neighbors.KNeighborsClassifier(nb_neighb)\n",
        "clf.fit(X_train, Y_train)\n",
        " \n",
        "Y_pred = clf.predict(X_test) \n",
        " \n",
        "from sklearn.metrics import confusion_matrix\n",
        "cm = confusion_matrix(Y_test, Y_pred)\n",
        "\n",
        "print(cm)"
      ],
      "execution_count": 17,
      "outputs": [
        {
          "output_type": "stream",
          "text": [
            "1434\n",
            "615\n",
            "659\n",
            "775\n",
            "\n",
            "[[188  73]\n",
            " [ 66 288]]\n"
          ],
          "name": "stdout"
        }
      ]
    },
    {
      "cell_type": "markdown",
      "metadata": {
        "id": "AVvp-e7Sg_oK"
      },
      "source": [
        "Encore une fois nous avons nos donnée X et Y. Grace a \"train_test_split(X,Y,test_size=0.3)\" on sépare les donnée X et Y en deux, On précise 0.3 pour séparer les données de cette manière : 70% train et 30% test.\n",
        "\n",
        "-len(X_train) donne la taille des donnée d'entrainement pour X\n",
        "\n",
        "-len(X_test) donne la taille des donnée des test pour X\n",
        "\n",
        "-len(X_train[Y_train==0]) donne le nombre de partie perdante dans les donnée d'entrainement de X.\n",
        "\n",
        "-et enfin len(X_train[Y_train==1]) le nombre de partie gagnante dans les donnée d'entrainement de X.\n",
        "\n",
        "\n",
        "Par la suite nous faisons exactement la meme chose que précédament, c'est a dire faire une classification mais cette fois sur les donnée d'entrainement X et Y.\n",
        "\n",
        "A la fin nous utilisons Confusion_matrix sur les donnée de test de Y et les prediction pour Y. cette matrice permet de visualiser l'exactitude de la classification.Plus précisement elle nous montrer :\n",
        "les VraiPositif = 192\n",
        "les FauxPositif = 84\n",
        "les FauxNegatif = 63\n",
        "et les VraiNegatif = 276\n",
        "On peut donc voir qui y a quand meme en certaine nombre de Faux possitif et de faux negatif, mais comparer au nombre de vraiPositif et surtout de VraiNegatif cela reste correct.\n",
        "Ceci etait pour k = 45, maintenant voyons les resultat pour k = 1 et k = 1000\n"
      ]
    },
    {
      "cell_type": "markdown",
      "metadata": {
        "id": "Q8uXrwi_d0WL"
      },
      "source": [
        "### - K = 1"
      ]
    },
    {
      "cell_type": "code",
      "metadata": {
        "colab": {
          "base_uri": "https://localhost:8080/"
        },
        "id": "oc18gjLTd9gN",
        "outputId": "026b0aac-57ce-4e7e-cf3c-9886f2c75d16"
      },
      "source": [
        "from sklearn.model_selection import train_test_split \n",
        "X_train,X_test,Y_train,Y_test=train_test_split(X,Y,test_size=0.3) \n",
        "\n",
        "print(len(X_train))\n",
        "print(len(X_test))\n",
        "print(len(X_train[Y_train==0]))\n",
        "print(len(X_train[Y_train==1]))\n",
        "print()\n",
        "\n",
        "nb_neighb1 = 1\n",
        "clf1 = neighbors.KNeighborsClassifier(nb_neighb1)\n",
        "clf1.fit(X_train, Y_train)\n",
        " \n",
        "Y_pred1 = clf1.predict(X_test) \n",
        "from sklearn.metrics import confusion_matrix\n",
        "cm = confusion_matrix(Y_test, Y_pred1)\n",
        "print(cm)"
      ],
      "execution_count": 18,
      "outputs": [
        {
          "output_type": "stream",
          "text": [
            "1434\n",
            "615\n",
            "634\n",
            "800\n",
            "\n",
            "[[213  73]\n",
            " [ 98 231]]\n"
          ],
          "name": "stdout"
        }
      ]
    },
    {
      "cell_type": "markdown",
      "metadata": {
        "id": "pnIB3Qrleoyl"
      },
      "source": [
        "Avec k = 1, On peut voir que la précision est legerement moins bonne. Il y a un peu moins de VraiPositif et de VraiNegatif ainsi que plus de FauxPositif et de FauxNegatif.\n",
        "\n",
        "### - K = 1000"
      ]
    },
    {
      "cell_type": "code",
      "metadata": {
        "colab": {
          "base_uri": "https://localhost:8080/"
        },
        "id": "YPsrYsPberlJ",
        "outputId": "65070bd0-f29f-4429-fb46-c04ded09382d"
      },
      "source": [
        "from sklearn.model_selection import train_test_split \n",
        "X_train,X_test,Y_train,Y_test=train_test_split(X,Y,test_size=0.3) \n",
        "\n",
        "print(len(X_train))\n",
        "print(len(X_test))\n",
        "print(len(X_train[Y_train==0]))\n",
        "print(len(X_train[Y_train==1]))\n",
        "print()\n",
        "\n",
        "nb_neighb2 = 1000\n",
        "clf2 = neighbors.KNeighborsClassifier(nb_neighb2)\n",
        "clf2.fit(X_train, Y_train)\n",
        " \n",
        "Y_pred2 = clf2.predict(X_test) \n",
        " \n",
        "from sklearn.metrics import confusion_matrix\n",
        "cm = confusion_matrix(Y_test, Y_pred2)\n",
        "print(cm)"
      ],
      "execution_count": 19,
      "outputs": [
        {
          "output_type": "stream",
          "text": [
            "1434\n",
            "615\n",
            "642\n",
            "792\n",
            "\n",
            "[[126 152]\n",
            " [ 18 319]]\n"
          ],
          "name": "stdout"
        }
      ]
    },
    {
      "cell_type": "markdown",
      "metadata": {
        "id": "-j17Zih4evGV"
      },
      "source": [
        "Avec K = 1000 y il y a beaucoup plus de FauxNegatif et de FauxPositif. On peut voir qu'il y a beaucoup plus de VraiPositif que de FauxPositif ce qu'il n'est pas correct."
      ]
    },
    {
      "cell_type": "code",
      "metadata": {
        "colab": {
          "base_uri": "https://localhost:8080/"
        },
        "id": "IeMtbspHmJEU",
        "outputId": "6c2e2b96-11e5-4e5f-fba5-499886b79225"
      },
      "source": [
        "from sklearn.model_selection import KFold\n",
        "kf=KFold(n_splits=10,shuffle=True)\n",
        "for learn,test in kf.split(X):\n",
        "        print(\"app : \",learn,\" test \",test)"
      ],
      "execution_count": 20,
      "outputs": [
        {
          "output_type": "stream",
          "text": [
            "app :  [   0    1    2 ... 2045 2047 2048]  test  [   5   15   35   38   43   52   53   56   57   61   70   74   82   90\n",
            "  103  104  120  144  146  149  152  181  198  203  212  216  240  243\n",
            "  276  278  279  282  302  311  319  326  330  337  376  377  390  394\n",
            "  398  399  420  426  454  458  468  472  489  497  501  535  542  543\n",
            "  545  554  558  561  570  581  607  634  637  643  648  656  664  692\n",
            "  699  701  702  723  724  727  736  744  775  776  788  791  801  816\n",
            "  825  833  834  837  845  853  922  939  947  952  957  958  960  965\n",
            "  967  976  984  985 1027 1034 1049 1055 1060 1083 1087 1094 1106 1135\n",
            " 1136 1142 1153 1156 1165 1170 1173 1176 1177 1180 1186 1187 1197 1211\n",
            " 1259 1269 1275 1283 1296 1324 1328 1329 1345 1396 1398 1424 1429 1439\n",
            " 1445 1460 1471 1473 1476 1487 1498 1506 1507 1509 1534 1540 1545 1560\n",
            " 1563 1570 1572 1578 1607 1632 1633 1634 1645 1653 1658 1661 1662 1666\n",
            " 1691 1701 1713 1715 1730 1737 1740 1745 1746 1753 1763 1767 1773 1793\n",
            " 1813 1848 1858 1861 1867 1877 1879 1901 1914 1921 1936 1938 1941 1947\n",
            " 1949 1958 1987 2009 2010 2023 2037 2041 2046]\n",
            "app :  [   0    1    2 ... 2046 2047 2048]  test  [   3    9   11   12   14   21   23   28   32   37   54   62   69  107\n",
            "  111  116  118  119  155  156  195  208  226  231  237  241  247  250\n",
            "  251  259  271  277  280  309  325  327  329  341  361  362  364  383\n",
            "  403  413  418  429  440  441  470  484  490  498  505  506  510  512\n",
            "  513  519  529  531  549  560  565  569  575  580  584  586  600  604\n",
            "  612  618  619  625  633  653  680  687  688  695  749  750  777  790\n",
            "  796  797  799  819  821  823  835  840  848  854  860  871  879  881\n",
            "  892  924  925  933  937  946  953  983  989 1004 1008 1031 1037 1044\n",
            " 1064 1075 1096 1111 1114 1115 1125 1137 1143 1151 1161 1169 1178 1179\n",
            " 1183 1204 1223 1226 1233 1237 1241 1246 1254 1257 1262 1284 1285 1294\n",
            " 1317 1335 1344 1376 1383 1414 1416 1443 1457 1483 1486 1491 1502 1514\n",
            " 1516 1533 1569 1581 1583 1584 1598 1610 1611 1616 1617 1623 1626 1627\n",
            " 1628 1641 1667 1672 1680 1684 1694 1695 1716 1728 1729 1742 1751 1772\n",
            " 1808 1830 1842 1847 1856 1866 1870 1874 1878 1922 1923 1926 1937 1973\n",
            " 1974 1976 1982 1984 1991 1993 2005 2007 2038]\n",
            "app :  [   0    1    2 ... 2046 2047 2048]  test  [  17   25   31   33   36   40   47   48   58   65   76   86   88  105\n",
            "  109  125  128  136  163  173  177  204  209  211  213  215  227  234\n",
            "  281  286  295  303  315  322  323  332  343  350  368  379  432  439\n",
            "  442  453  459  491  495  514  537  553  573  598  606  616  620  629\n",
            "  631  667  671  703  706  708  717  730  739  752  758  764  773  779\n",
            "  798  828  838  846  847  855  872  878  885  887  888  891  893  900\n",
            "  909  938  940  944  948  954  956  959  962  973  978 1043 1047 1069\n",
            " 1084 1091 1100 1109 1120 1132 1144 1146 1152 1174 1188 1193 1194 1199\n",
            " 1201 1210 1217 1242 1252 1264 1277 1304 1320 1364 1375 1390 1394 1399\n",
            " 1401 1402 1403 1406 1409 1411 1412 1415 1420 1421 1422 1423 1438 1453\n",
            " 1467 1474 1484 1499 1508 1517 1521 1528 1546 1553 1556 1575 1585 1603\n",
            " 1604 1620 1630 1638 1647 1654 1655 1660 1677 1686 1719 1720 1723 1724\n",
            " 1726 1734 1736 1743 1755 1760 1766 1768 1776 1777 1786 1797 1806 1815\n",
            " 1857 1860 1881 1893 1896 1897 1898 1903 1911 1924 1952 1961 1970 1981\n",
            " 1985 1988 1989 2008 2021 2026 2031 2033 2040]\n",
            "app :  [   0    1    3 ... 2044 2046 2047]  test  [   2   13   22   41   44   51   59   63   78   79   81   83   91   95\n",
            "   97   99  137  153  160  169  194  199  200  222  230  232  235  236\n",
            "  244  249  252  256  272  287  300  321  328  344  351  352  358  369\n",
            "  423  436  447  455  469  477  482  483  502  518  520  526  540  548\n",
            "  550  552  559  564  567  579  588  595  628  635  649  650  652  662\n",
            "  670  674  682  714  722  772  792  800  806  811  814  818  830  851\n",
            "  858  861  865  867  868  896  901  903  905  916  919  929  990  996\n",
            " 1003 1014 1019 1023 1033 1038 1040 1054 1063 1088 1110 1113 1117 1118\n",
            " 1122 1145 1149 1164 1172 1182 1196 1203 1206 1213 1221 1229 1247 1266\n",
            " 1270 1280 1282 1291 1302 1315 1318 1323 1333 1338 1347 1350 1356 1360\n",
            " 1361 1362 1366 1385 1393 1400 1407 1413 1425 1427 1431 1440 1448 1480\n",
            " 1492 1501 1504 1512 1543 1548 1549 1555 1557 1559 1568 1593 1597 1602\n",
            " 1651 1669 1675 1685 1706 1744 1749 1778 1781 1783 1784 1787 1798 1820\n",
            " 1825 1850 1853 1865 1875 1880 1886 1888 1899 1916 1927 1931 1942 1944\n",
            " 1951 1955 1978 1997 2012 2013 2030 2045 2048]\n",
            "app :  [   0    1    2 ... 2045 2046 2048]  test  [   7   30   64   71   72   77  106  130  132  133  138  140  162  164\n",
            "  166  178  180  192  219  220  255  258  263  265  273  288  294  298\n",
            "  304  313  314  316  345  347  365  367  375  380  396  409  410  412\n",
            "  421  428  461  473  481  485  492  493  503  521  525  530  532  571\n",
            "  590  592  603  610  615  627  657  665  672  683  685  691  697  704\n",
            "  715  718  748  763  793  813  822  843  849  862  866  869  873  875\n",
            "  886  895  898  899  904  914  950  951  971  979  980  986  998 1007\n",
            " 1030 1035 1065 1068 1073 1092 1095 1097 1102 1105 1121 1128 1133 1139\n",
            " 1162 1191 1195 1200 1207 1225 1234 1238 1255 1258 1260 1261 1273 1292\n",
            " 1295 1299 1305 1313 1316 1321 1326 1341 1355 1372 1379 1384 1386 1397\n",
            " 1417 1447 1464 1469 1472 1477 1489 1493 1496 1510 1515 1518 1527 1547\n",
            " 1554 1562 1567 1577 1588 1592 1621 1622 1624 1625 1668 1690 1696 1703\n",
            " 1704 1705 1707 1721 1747 1750 1782 1828 1831 1839 1849 1869 1884 1889\n",
            " 1907 1912 1934 1935 1943 1948 1950 1953 1954 1956 1957 1966 1980 1986\n",
            " 1990 1995 2002 2017 2024 2028 2029 2034 2047]\n",
            "app :  [   0    1    2 ... 2046 2047 2048]  test  [   6   18   20   39   42   60   73   75   80   93   94   96  102  112\n",
            "  115  131  134  142  150  151  167  170  184  188  214  223  229  245\n",
            "  261  266  268  274  285  292  320  340  342  355  357  378  385  404\n",
            "  407  411  415  419  424  437  448  457  463  478  496  500  523  524\n",
            "  527  528  551  556  557  577  591  614  622  624  638  660  684  686\n",
            "  689  694  709  765  769  771  794  803  810  832  852  856  874  882\n",
            "  897  917  918  920  923  930  932  941  945  949  975  981  991  997\n",
            " 1002 1018 1026 1029 1042 1045 1048 1052 1057 1059 1061 1067 1077 1080\n",
            " 1085 1090 1098 1119 1126 1130 1140 1147 1181 1189 1208 1214 1218 1222\n",
            " 1224 1231 1249 1265 1274 1276 1288 1290 1293 1306 1307 1332 1352 1353\n",
            " 1359 1365 1370 1371 1373 1380 1381 1388 1395 1404 1437 1446 1461 1462\n",
            " 1485 1488 1519 1520 1535 1536 1552 1591 1594 1608 1612 1619 1639 1646\n",
            " 1663 1670 1673 1681 1689 1711 1712 1718 1735 1748 1752 1756 1774 1788\n",
            " 1790 1803 1809 1819 1822 1823 1827 1829 1841 1845 1854 1855 1876 1909\n",
            " 1915 1928 1968 1983 2004 2015 2025 2027 2044]\n",
            "app :  [   0    1    2 ... 2046 2047 2048]  test  [  16   19   29   34   45   46   50   85   89  100  108  121  157  165\n",
            "  171  172  175  176  185  187  197  218  224  228  239  257  289  293\n",
            "  307  381  389  397  402  405  406  408  422  444  451  467  475  480\n",
            "  486  504  517  533  536  563  572  574  578  594  602  608  613  630\n",
            "  639  644  645  668  676  681  705  711  712  720  742  745  753  755\n",
            "  756  762  778  782  784  826  836  850  857  884  902  908  910  911\n",
            "  926  935  955  969  992  995  999 1006 1009 1020 1022 1024 1041 1046\n",
            " 1062 1066 1070 1072 1078 1081 1124 1127 1134 1138 1148 1150 1154 1166\n",
            " 1171 1175 1192 1198 1209 1216 1232 1243 1244 1245 1251 1267 1287 1300\n",
            " 1301 1319 1330 1339 1343 1346 1351 1357 1374 1378 1408 1419 1426 1432\n",
            " 1436 1442 1468 1481 1503 1505 1525 1531 1541 1544 1561 1564 1571 1576\n",
            " 1595 1618 1631 1640 1644 1652 1657 1682 1692 1698 1702 1708 1709 1710\n",
            " 1714 1722 1731 1738 1741 1761 1762 1779 1791 1794 1795 1810 1811 1817\n",
            " 1832 1838 1840 1844 1885 1890 1892 1895 1910 1917 1918 1920 1932 1945\n",
            " 1972 1977 1999 2001 2011 2016 2018 2022 2043]\n",
            "app :  [   0    1    2 ... 2046 2047 2048]  test  [   4   49   67   84  110  122  124  127  129  139  145  147  154  161\n",
            "  190  193  202  217  242  260  275  283  296  297  312  317  331  333\n",
            "  336  338  348  353  360  371  372  384  386  388  392  401  416  417\n",
            "  425  430  433  438  449  450  456  464  466  476  487  488  507  511\n",
            "  587  593  596  599  605  609  611  626  632  641  661  693  696  700\n",
            "  707  719  721  725  728  729  732  733  734  737  740  747  754  757\n",
            "  761  768  770  789  802  804  812  829  831  844  877  890  921  927\n",
            "  942  961  963  968  972  974  977  987  993 1005 1025 1028 1032 1036\n",
            " 1050 1051 1053 1058 1089 1093 1101 1107 1112 1116 1129 1155 1185 1205\n",
            " 1215 1230 1240 1248 1256 1263 1268 1271 1278 1279 1286 1297 1303 1309\n",
            " 1314 1336 1358 1368 1377 1389 1433 1449 1451 1452 1455 1456 1459 1466\n",
            " 1470 1475 1478 1497 1500 1513 1538 1550 1558 1565 1579 1582 1587 1589\n",
            " 1590 1599 1600 1601 1665 1674 1687 1688 1693 1700 1717 1725 1739 1758\n",
            " 1775 1789 1796 1804 1805 1812 1816 1821 1826 1833 1835 1836 1852 1859\n",
            " 1863 1864 1868 1871 1904 1946 1965 1967 2000]\n",
            "app :  [   1    2    3 ... 2046 2047 2048]  test  [   0   10   26   27   55   68   92  113  143  148  158  168  174  179\n",
            "  182  183  186  196  201  210  221  225  233  248  262  264  267  270\n",
            "  284  291  301  306  310  335  346  349  354  363  395  414  427  431\n",
            "  434  446  452  465  471  474  508  509  515  516  522  534  541  547\n",
            "  555  562  576  582  585  597  636  651  654  658  659  663  666  669\n",
            "  675  690  710  716  746  767  780  781  785  786  795  805  807  809\n",
            "  815  817  820  839  841  863  864  870  880  894  906  928  934  936\n",
            "  970  994 1000 1001 1012 1013 1015 1016 1017 1056 1074 1076 1079 1082\n",
            " 1086 1099 1103 1108 1163 1168 1184 1202 1212 1220 1227 1228 1239 1250\n",
            " 1253 1281 1310 1311 1312 1327 1331 1340 1354 1363 1367 1382 1387 1391\n",
            " 1392 1405 1430 1434 1435 1450 1463 1465 1482 1494 1522 1523 1530 1532\n",
            " 1537 1539 1542 1580 1596 1606 1614 1615 1629 1636 1656 1659 1678 1679\n",
            " 1683 1765 1770 1771 1780 1801 1802 1814 1818 1834 1843 1851 1862 1873\n",
            " 1883 1891 1894 1900 1902 1906 1913 1939 1940 1959 1960 1962 1963 1964\n",
            " 1971 1975 1996 2003 2006 2020 2032 2036 2042]\n",
            "app :  [   0    2    3 ... 2046 2047 2048]  test  [   1    8   24   66   87   98  101  114  117  123  126  135  141  159\n",
            "  189  191  205  206  207  238  246  253  254  269  290  299  305  308\n",
            "  318  324  334  339  356  359  366  370  373  374  382  387  391  393\n",
            "  400  435  443  445  460  462  479  494  499  538  539  544  546  566\n",
            "  568  583  589  601  617  621  623  640  642  646  647  655  673  677\n",
            "  678  679  698  713  726  731  735  738  741  743  751  759  760  766\n",
            "  774  783  787  808  824  827  842  859  876  883  889  907  912  913\n",
            "  915  931  943  964  966  982  988 1010 1011 1021 1039 1071 1104 1123\n",
            " 1131 1141 1157 1158 1159 1160 1167 1190 1219 1235 1236 1272 1289 1298\n",
            " 1308 1322 1325 1334 1337 1342 1348 1349 1369 1410 1418 1428 1441 1444\n",
            " 1454 1458 1479 1490 1495 1511 1524 1526 1529 1551 1566 1573 1574 1586\n",
            " 1605 1609 1613 1635 1637 1642 1643 1648 1649 1650 1664 1671 1676 1697\n",
            " 1699 1727 1732 1733 1754 1757 1759 1764 1769 1785 1792 1799 1800 1807\n",
            " 1824 1837 1846 1872 1882 1887 1905 1908 1919 1925 1929 1930 1933 1969\n",
            " 1979 1992 1994 1998 2014 2019 2035 2039]\n"
          ],
          "name": "stdout"
        }
      ]
    },
    {
      "cell_type": "markdown",
      "metadata": {
        "id": "SWBCcFpYyo7E"
      },
      "source": [
        "La boucle si dessus permet de donner les indice des element dans l'ensemble d'apprentissage et de test. Ici on crée 10 séparation de donnée differente"
      ]
    },
    {
      "cell_type": "code",
      "metadata": {
        "colab": {
          "base_uri": "https://localhost:8080/"
        },
        "id": "ssuYL08w05hs",
        "outputId": "aceee845-89b6-47bb-fa5d-b66870f6f217"
      },
      "source": [
        "from sklearn.model_selection import KFold\n",
        "kf=KFold(n_splits=10,shuffle=False)\n",
        "for learn,test in kf.split(X):\n",
        "        print(\"app : \",learn,\" test \",test)"
      ],
      "execution_count": 21,
      "outputs": [
        {
          "output_type": "stream",
          "text": [
            "app :  [ 205  206  207 ... 2046 2047 2048]  test  [  0   1   2   3   4   5   6   7   8   9  10  11  12  13  14  15  16  17\n",
            "  18  19  20  21  22  23  24  25  26  27  28  29  30  31  32  33  34  35\n",
            "  36  37  38  39  40  41  42  43  44  45  46  47  48  49  50  51  52  53\n",
            "  54  55  56  57  58  59  60  61  62  63  64  65  66  67  68  69  70  71\n",
            "  72  73  74  75  76  77  78  79  80  81  82  83  84  85  86  87  88  89\n",
            "  90  91  92  93  94  95  96  97  98  99 100 101 102 103 104 105 106 107\n",
            " 108 109 110 111 112 113 114 115 116 117 118 119 120 121 122 123 124 125\n",
            " 126 127 128 129 130 131 132 133 134 135 136 137 138 139 140 141 142 143\n",
            " 144 145 146 147 148 149 150 151 152 153 154 155 156 157 158 159 160 161\n",
            " 162 163 164 165 166 167 168 169 170 171 172 173 174 175 176 177 178 179\n",
            " 180 181 182 183 184 185 186 187 188 189 190 191 192 193 194 195 196 197\n",
            " 198 199 200 201 202 203 204]\n",
            "app :  [   0    1    2 ... 2046 2047 2048]  test  [205 206 207 208 209 210 211 212 213 214 215 216 217 218 219 220 221 222\n",
            " 223 224 225 226 227 228 229 230 231 232 233 234 235 236 237 238 239 240\n",
            " 241 242 243 244 245 246 247 248 249 250 251 252 253 254 255 256 257 258\n",
            " 259 260 261 262 263 264 265 266 267 268 269 270 271 272 273 274 275 276\n",
            " 277 278 279 280 281 282 283 284 285 286 287 288 289 290 291 292 293 294\n",
            " 295 296 297 298 299 300 301 302 303 304 305 306 307 308 309 310 311 312\n",
            " 313 314 315 316 317 318 319 320 321 322 323 324 325 326 327 328 329 330\n",
            " 331 332 333 334 335 336 337 338 339 340 341 342 343 344 345 346 347 348\n",
            " 349 350 351 352 353 354 355 356 357 358 359 360 361 362 363 364 365 366\n",
            " 367 368 369 370 371 372 373 374 375 376 377 378 379 380 381 382 383 384\n",
            " 385 386 387 388 389 390 391 392 393 394 395 396 397 398 399 400 401 402\n",
            " 403 404 405 406 407 408 409]\n",
            "app :  [   0    1    2 ... 2046 2047 2048]  test  [410 411 412 413 414 415 416 417 418 419 420 421 422 423 424 425 426 427\n",
            " 428 429 430 431 432 433 434 435 436 437 438 439 440 441 442 443 444 445\n",
            " 446 447 448 449 450 451 452 453 454 455 456 457 458 459 460 461 462 463\n",
            " 464 465 466 467 468 469 470 471 472 473 474 475 476 477 478 479 480 481\n",
            " 482 483 484 485 486 487 488 489 490 491 492 493 494 495 496 497 498 499\n",
            " 500 501 502 503 504 505 506 507 508 509 510 511 512 513 514 515 516 517\n",
            " 518 519 520 521 522 523 524 525 526 527 528 529 530 531 532 533 534 535\n",
            " 536 537 538 539 540 541 542 543 544 545 546 547 548 549 550 551 552 553\n",
            " 554 555 556 557 558 559 560 561 562 563 564 565 566 567 568 569 570 571\n",
            " 572 573 574 575 576 577 578 579 580 581 582 583 584 585 586 587 588 589\n",
            " 590 591 592 593 594 595 596 597 598 599 600 601 602 603 604 605 606 607\n",
            " 608 609 610 611 612 613 614]\n",
            "app :  [   0    1    2 ... 2046 2047 2048]  test  [615 616 617 618 619 620 621 622 623 624 625 626 627 628 629 630 631 632\n",
            " 633 634 635 636 637 638 639 640 641 642 643 644 645 646 647 648 649 650\n",
            " 651 652 653 654 655 656 657 658 659 660 661 662 663 664 665 666 667 668\n",
            " 669 670 671 672 673 674 675 676 677 678 679 680 681 682 683 684 685 686\n",
            " 687 688 689 690 691 692 693 694 695 696 697 698 699 700 701 702 703 704\n",
            " 705 706 707 708 709 710 711 712 713 714 715 716 717 718 719 720 721 722\n",
            " 723 724 725 726 727 728 729 730 731 732 733 734 735 736 737 738 739 740\n",
            " 741 742 743 744 745 746 747 748 749 750 751 752 753 754 755 756 757 758\n",
            " 759 760 761 762 763 764 765 766 767 768 769 770 771 772 773 774 775 776\n",
            " 777 778 779 780 781 782 783 784 785 786 787 788 789 790 791 792 793 794\n",
            " 795 796 797 798 799 800 801 802 803 804 805 806 807 808 809 810 811 812\n",
            " 813 814 815 816 817 818 819]\n",
            "app :  [   0    1    2 ... 2046 2047 2048]  test  [ 820  821  822  823  824  825  826  827  828  829  830  831  832  833\n",
            "  834  835  836  837  838  839  840  841  842  843  844  845  846  847\n",
            "  848  849  850  851  852  853  854  855  856  857  858  859  860  861\n",
            "  862  863  864  865  866  867  868  869  870  871  872  873  874  875\n",
            "  876  877  878  879  880  881  882  883  884  885  886  887  888  889\n",
            "  890  891  892  893  894  895  896  897  898  899  900  901  902  903\n",
            "  904  905  906  907  908  909  910  911  912  913  914  915  916  917\n",
            "  918  919  920  921  922  923  924  925  926  927  928  929  930  931\n",
            "  932  933  934  935  936  937  938  939  940  941  942  943  944  945\n",
            "  946  947  948  949  950  951  952  953  954  955  956  957  958  959\n",
            "  960  961  962  963  964  965  966  967  968  969  970  971  972  973\n",
            "  974  975  976  977  978  979  980  981  982  983  984  985  986  987\n",
            "  988  989  990  991  992  993  994  995  996  997  998  999 1000 1001\n",
            " 1002 1003 1004 1005 1006 1007 1008 1009 1010 1011 1012 1013 1014 1015\n",
            " 1016 1017 1018 1019 1020 1021 1022 1023 1024]\n",
            "app :  [   0    1    2 ... 2046 2047 2048]  test  [1025 1026 1027 1028 1029 1030 1031 1032 1033 1034 1035 1036 1037 1038\n",
            " 1039 1040 1041 1042 1043 1044 1045 1046 1047 1048 1049 1050 1051 1052\n",
            " 1053 1054 1055 1056 1057 1058 1059 1060 1061 1062 1063 1064 1065 1066\n",
            " 1067 1068 1069 1070 1071 1072 1073 1074 1075 1076 1077 1078 1079 1080\n",
            " 1081 1082 1083 1084 1085 1086 1087 1088 1089 1090 1091 1092 1093 1094\n",
            " 1095 1096 1097 1098 1099 1100 1101 1102 1103 1104 1105 1106 1107 1108\n",
            " 1109 1110 1111 1112 1113 1114 1115 1116 1117 1118 1119 1120 1121 1122\n",
            " 1123 1124 1125 1126 1127 1128 1129 1130 1131 1132 1133 1134 1135 1136\n",
            " 1137 1138 1139 1140 1141 1142 1143 1144 1145 1146 1147 1148 1149 1150\n",
            " 1151 1152 1153 1154 1155 1156 1157 1158 1159 1160 1161 1162 1163 1164\n",
            " 1165 1166 1167 1168 1169 1170 1171 1172 1173 1174 1175 1176 1177 1178\n",
            " 1179 1180 1181 1182 1183 1184 1185 1186 1187 1188 1189 1190 1191 1192\n",
            " 1193 1194 1195 1196 1197 1198 1199 1200 1201 1202 1203 1204 1205 1206\n",
            " 1207 1208 1209 1210 1211 1212 1213 1214 1215 1216 1217 1218 1219 1220\n",
            " 1221 1222 1223 1224 1225 1226 1227 1228 1229]\n",
            "app :  [   0    1    2 ... 2046 2047 2048]  test  [1230 1231 1232 1233 1234 1235 1236 1237 1238 1239 1240 1241 1242 1243\n",
            " 1244 1245 1246 1247 1248 1249 1250 1251 1252 1253 1254 1255 1256 1257\n",
            " 1258 1259 1260 1261 1262 1263 1264 1265 1266 1267 1268 1269 1270 1271\n",
            " 1272 1273 1274 1275 1276 1277 1278 1279 1280 1281 1282 1283 1284 1285\n",
            " 1286 1287 1288 1289 1290 1291 1292 1293 1294 1295 1296 1297 1298 1299\n",
            " 1300 1301 1302 1303 1304 1305 1306 1307 1308 1309 1310 1311 1312 1313\n",
            " 1314 1315 1316 1317 1318 1319 1320 1321 1322 1323 1324 1325 1326 1327\n",
            " 1328 1329 1330 1331 1332 1333 1334 1335 1336 1337 1338 1339 1340 1341\n",
            " 1342 1343 1344 1345 1346 1347 1348 1349 1350 1351 1352 1353 1354 1355\n",
            " 1356 1357 1358 1359 1360 1361 1362 1363 1364 1365 1366 1367 1368 1369\n",
            " 1370 1371 1372 1373 1374 1375 1376 1377 1378 1379 1380 1381 1382 1383\n",
            " 1384 1385 1386 1387 1388 1389 1390 1391 1392 1393 1394 1395 1396 1397\n",
            " 1398 1399 1400 1401 1402 1403 1404 1405 1406 1407 1408 1409 1410 1411\n",
            " 1412 1413 1414 1415 1416 1417 1418 1419 1420 1421 1422 1423 1424 1425\n",
            " 1426 1427 1428 1429 1430 1431 1432 1433 1434]\n",
            "app :  [   0    1    2 ... 2046 2047 2048]  test  [1435 1436 1437 1438 1439 1440 1441 1442 1443 1444 1445 1446 1447 1448\n",
            " 1449 1450 1451 1452 1453 1454 1455 1456 1457 1458 1459 1460 1461 1462\n",
            " 1463 1464 1465 1466 1467 1468 1469 1470 1471 1472 1473 1474 1475 1476\n",
            " 1477 1478 1479 1480 1481 1482 1483 1484 1485 1486 1487 1488 1489 1490\n",
            " 1491 1492 1493 1494 1495 1496 1497 1498 1499 1500 1501 1502 1503 1504\n",
            " 1505 1506 1507 1508 1509 1510 1511 1512 1513 1514 1515 1516 1517 1518\n",
            " 1519 1520 1521 1522 1523 1524 1525 1526 1527 1528 1529 1530 1531 1532\n",
            " 1533 1534 1535 1536 1537 1538 1539 1540 1541 1542 1543 1544 1545 1546\n",
            " 1547 1548 1549 1550 1551 1552 1553 1554 1555 1556 1557 1558 1559 1560\n",
            " 1561 1562 1563 1564 1565 1566 1567 1568 1569 1570 1571 1572 1573 1574\n",
            " 1575 1576 1577 1578 1579 1580 1581 1582 1583 1584 1585 1586 1587 1588\n",
            " 1589 1590 1591 1592 1593 1594 1595 1596 1597 1598 1599 1600 1601 1602\n",
            " 1603 1604 1605 1606 1607 1608 1609 1610 1611 1612 1613 1614 1615 1616\n",
            " 1617 1618 1619 1620 1621 1622 1623 1624 1625 1626 1627 1628 1629 1630\n",
            " 1631 1632 1633 1634 1635 1636 1637 1638 1639]\n",
            "app :  [   0    1    2 ... 2046 2047 2048]  test  [1640 1641 1642 1643 1644 1645 1646 1647 1648 1649 1650 1651 1652 1653\n",
            " 1654 1655 1656 1657 1658 1659 1660 1661 1662 1663 1664 1665 1666 1667\n",
            " 1668 1669 1670 1671 1672 1673 1674 1675 1676 1677 1678 1679 1680 1681\n",
            " 1682 1683 1684 1685 1686 1687 1688 1689 1690 1691 1692 1693 1694 1695\n",
            " 1696 1697 1698 1699 1700 1701 1702 1703 1704 1705 1706 1707 1708 1709\n",
            " 1710 1711 1712 1713 1714 1715 1716 1717 1718 1719 1720 1721 1722 1723\n",
            " 1724 1725 1726 1727 1728 1729 1730 1731 1732 1733 1734 1735 1736 1737\n",
            " 1738 1739 1740 1741 1742 1743 1744 1745 1746 1747 1748 1749 1750 1751\n",
            " 1752 1753 1754 1755 1756 1757 1758 1759 1760 1761 1762 1763 1764 1765\n",
            " 1766 1767 1768 1769 1770 1771 1772 1773 1774 1775 1776 1777 1778 1779\n",
            " 1780 1781 1782 1783 1784 1785 1786 1787 1788 1789 1790 1791 1792 1793\n",
            " 1794 1795 1796 1797 1798 1799 1800 1801 1802 1803 1804 1805 1806 1807\n",
            " 1808 1809 1810 1811 1812 1813 1814 1815 1816 1817 1818 1819 1820 1821\n",
            " 1822 1823 1824 1825 1826 1827 1828 1829 1830 1831 1832 1833 1834 1835\n",
            " 1836 1837 1838 1839 1840 1841 1842 1843 1844]\n",
            "app :  [   0    1    2 ... 1842 1843 1844]  test  [1845 1846 1847 1848 1849 1850 1851 1852 1853 1854 1855 1856 1857 1858\n",
            " 1859 1860 1861 1862 1863 1864 1865 1866 1867 1868 1869 1870 1871 1872\n",
            " 1873 1874 1875 1876 1877 1878 1879 1880 1881 1882 1883 1884 1885 1886\n",
            " 1887 1888 1889 1890 1891 1892 1893 1894 1895 1896 1897 1898 1899 1900\n",
            " 1901 1902 1903 1904 1905 1906 1907 1908 1909 1910 1911 1912 1913 1914\n",
            " 1915 1916 1917 1918 1919 1920 1921 1922 1923 1924 1925 1926 1927 1928\n",
            " 1929 1930 1931 1932 1933 1934 1935 1936 1937 1938 1939 1940 1941 1942\n",
            " 1943 1944 1945 1946 1947 1948 1949 1950 1951 1952 1953 1954 1955 1956\n",
            " 1957 1958 1959 1960 1961 1962 1963 1964 1965 1966 1967 1968 1969 1970\n",
            " 1971 1972 1973 1974 1975 1976 1977 1978 1979 1980 1981 1982 1983 1984\n",
            " 1985 1986 1987 1988 1989 1990 1991 1992 1993 1994 1995 1996 1997 1998\n",
            " 1999 2000 2001 2002 2003 2004 2005 2006 2007 2008 2009 2010 2011 2012\n",
            " 2013 2014 2015 2016 2017 2018 2019 2020 2021 2022 2023 2024 2025 2026\n",
            " 2027 2028 2029 2030 2031 2032 2033 2034 2035 2036 2037 2038 2039 2040\n",
            " 2041 2042 2043 2044 2045 2046 2047 2048]\n"
          ],
          "name": "stdout"
        }
      ]
    },
    {
      "cell_type": "markdown",
      "metadata": {
        "id": "tCZpgkd5qRmY"
      },
      "source": [
        "Mettre Shuffle a False permet de ne pas mélanger les données, Nous avons donc les indices trier par ordre croissant. Dans nos donnée il vaut mieux les mélanger pour avoir plus de diversité entre les ensembles."
      ]
    },
    {
      "cell_type": "code",
      "metadata": {
        "colab": {
          "base_uri": "https://localhost:8080/",
          "height": 296
        },
        "id": "70Lm2NrFnW6k",
        "outputId": "4838b977-3841-4eb9-dfe8-36dff3c9a8ea"
      },
      "source": [
        "# TP3prog2.py\n",
        " \n",
        "import pandas as pd\n",
        "from matplotlib import pyplot as plt\n",
        " \n",
        "data = pd.read_csv(\"/content/drive/MyDrive/Université/M1/S8/IA/TP3/full_dataset.csv\")\n",
        " \n",
        "features_cols = [\"my_health\", \"opponent_health\", \"my_hand\", \"opponent_hand\", \"my_board_nb_creatures\",\n",
        "     \"my_board_total_health\", \"my_board_total_attack\", \"opponent_board_nb_creatures\",\n",
        "     \"opponent_board_total_health\", \"opponent_board_total_attack\", \"me_playing\"]\n",
        "pred_col = \"result\"\n",
        " \n",
        "turns_before_end = 4\n",
        "turn_df = data[data[\"turns_to_end\"] == turns_before_end]\n",
        "X = turn_df[features_cols]\n",
        "Y = turn_df[pred_col]\n",
        " \n",
        "from sklearn import neighbors\n",
        "from sklearn.model_selection import KFold\n",
        "kf=KFold(n_splits=10,shuffle=True)\n",
        "scores=[]\n",
        "k_values = range(1,100,1)\n",
        "for k in k_values:\n",
        "    print(\"Computing... %d %%\"%(int(100*(k-k_values[0])/k_values[-1])), end='\\r')\n",
        "    score=0\n",
        "    clf = neighbors.KNeighborsClassifier(k)\n",
        "    for learn,test in kf.split(X):\n",
        "        X_train=X.iloc[learn]\n",
        "        Y_train=Y.iloc[learn]\n",
        "        clf.fit(X_train, Y_train)\n",
        "        X_test=X.iloc[test]\n",
        "        Y_test=Y.iloc[test]\n",
        "        score += clf.score(X_test,Y_test) / kf.n_splits\n",
        "    scores.append(score)\n",
        "\n",
        "best_score, best_k = max([(v, k_values[i]) for (i,v) in enumerate(scores)])\n",
        "print(\"best k:\",best_k, \" score=\",best_score)\n",
        "plt.plot(k_values, scores)\n",
        "plt.xlabel(\"k\") \n",
        "plt.ylabel(\"score\")\n",
        "plt.plot(best_k, best_score, 'or')\n",
        "plt.plot([0,best_k,best_k], [best_score,best_score,min(scores)], ':r')\n",
        "plt.show()"
      ],
      "execution_count": 22,
      "outputs": [
        {
          "output_type": "stream",
          "text": [
            "best k: 48  score= 0.781857962697274\n"
          ],
          "name": "stdout"
        },
        {
          "output_type": "display_data",
          "data": {
            "image/png": "[encoded data removed]",
            "text/plain": [
              "<Figure size 432x288 with 1 Axes>"
            ]
          },
          "metadata": {
            "tags": [],
            "needs_background": "light"
          }
        }
      ]
    },
    {
      "cell_type": "markdown",
      "metadata": {
        "id": "GYaBehuR5pwL"
      },
      "source": [
        "Le code suivant affiche le graffe des score de précision moyenne des résultat. Le diagramme montre pour quel k le score est le plus élever.\n",
        "Ici , le score le plus elever est généralement contenu entre 30 a 50 k."
      ]
    },
    {
      "cell_type": "code",
      "metadata": {
        "colab": {
          "base_uri": "https://localhost:8080/",
          "height": 296
        },
        "id": "FJBbQH1z2Ehc",
        "outputId": "be250f7c-f070-4302-da23-5e4b44fc8c5d"
      },
      "source": [
        "import pandas as pd\n",
        "from matplotlib import pyplot as plt\n",
        " \n",
        "data = pd.read_csv(\"/content/drive/MyDrive/Université/M1/S8/IA/TP3/full_dataset.csv\")\n",
        " \n",
        "features_cols = [\"my_health\", \"opponent_health\", \"my_hand\", \"opponent_hand\", \"my_board_nb_creatures\",\n",
        "     \"my_board_total_health\", \"my_board_total_attack\", \"opponent_board_nb_creatures\",\n",
        "     \"opponent_board_total_health\", \"opponent_board_total_attack\", \"me_playing\"]\n",
        "pred_col = \"result\"\n",
        " \n",
        "turns_before_end = 4\n",
        "turn_df = data[data[\"turns_to_end\"] == turns_before_end]\n",
        "X = turn_df[features_cols]\n",
        "Y = turn_df[pred_col]\n",
        " \n",
        "from sklearn import neighbors\n",
        "from sklearn.model_selection import KFold\n",
        "kf=KFold(n_splits=10,shuffle=True)\n",
        "scores=[]\n",
        "k_values = range(1,1800,100)\n",
        "for k in k_values:\n",
        "    print(\"Computing... %d %%\"%(int(100*(k-k_values[0])/k_values[-1])), end='\\r')\n",
        "    score=0\n",
        "    clf = neighbors.KNeighborsClassifier(k)\n",
        "    for learn,test in kf.split(X):\n",
        "        X_train=X.iloc[learn]\n",
        "        Y_train=Y.iloc[learn]\n",
        "        clf.fit(X_train, Y_train)\n",
        "        X_test=X.iloc[test]\n",
        "        Y_test=Y.iloc[test]\n",
        "        score += clf.score(X_test,Y_test) / kf.n_splits\n",
        "    scores.append(score)\n",
        "\n",
        "best_score, best_k = max([(v, k_values[i]) for (i,v) in enumerate(scores)])\n",
        "print(\"best k:\",best_k, \" score=\",best_score)\n",
        "plt.plot(k_values, scores)\n",
        "plt.xlabel(\"k\") \n",
        "plt.ylabel(\"score\")\n",
        "plt.plot(best_k, best_score, 'or')\n",
        "plt.plot([0,best_k,best_k], [best_score,best_score,min(scores)], ':r')\n",
        "plt.show()"
      ],
      "execution_count": 23,
      "outputs": [
        {
          "output_type": "stream",
          "text": [
            "best k: 201  score= 0.7779316116690577\n"
          ],
          "name": "stdout"
        },
        {
          "output_type": "display_data",
          "data": {
            "image/png": "[encoded data removed]",
            "text/plain": [
              "<Figure size 432x288 with 1 Axes>"
            ]
          },
          "metadata": {
            "tags": [],
            "needs_background": "light"
          }
        }
      ]
    },
    {
      "cell_type": "markdown",
      "metadata": {
        "id": "wdgaD3YX7ZMe"
      },
      "source": [
        "On modifie l'espace des k pour la recherche, en l'élargissant jusqu'au 1800 k. le meilleur est ici situer entre 100 et 200 k. La courbe est décroissante quand on tend vers 1800 car comme nous avons pus le voir dans la premiere partie, quand un ensemble devient trop grand la précision est impacter. Donc il est normal que dans les grand ensemble de k a 1600-1800 la présision soit très basse."
      ]
    },
    {
      "cell_type": "markdown",
      "metadata": {
        "id": "Jf1Aa6O_SR7l"
      },
      "source": [
        "## Exercice 3 : Régression linéaire\n",
        "Dans cette  derniere partie le but n'est plus de prédire a 4 tour avant la fin si c'est une victoire au non, mais prédire le nombre de tours restants avant la fin d’une partie d’Hearthstone. On ce place cette fois au 10ème tours de la partie avant de faire nos prédiction."
      ]
    },
    {
      "cell_type": "code",
      "metadata": {
        "colab": {
          "base_uri": "https://localhost:8080/"
        },
        "id": "cNqZK3Fnn6bJ",
        "outputId": "861daecb-f574-446f-c8c3-e99d7f1ead22"
      },
      "source": [
        "import pandas as pd\n",
        " \n",
        "data = pd.read_csv(\"/content/drive/MyDrive/Université/M1/S8/IA/TP3/full_dataset.csv\")\n",
        " \n",
        "features_cols = [\"my_health\", \"opponent_health\", \"my_hand\", \"opponent_hand\", \"my_board_nb_creatures\",\n",
        "     \"my_board_total_health\", \"my_board_total_attack\", \"opponent_board_nb_creatures\",\n",
        "     \"opponent_board_total_health\", \"opponent_board_total_attack\"]\n",
        " \n",
        "pred_col = \"turns_to_end\"\n",
        " \n",
        "current_turn = 10\n",
        " \n",
        "turn_df = data[data[\"turn_id\"] == current_turn]\n",
        "X = turn_df[features_cols]\n",
        "Y = turn_df[pred_col]\n",
        "\n",
        "print(len(X))"
      ],
      "execution_count": 24,
      "outputs": [
        {
          "output_type": "stream",
          "text": [
            "1909\n"
          ],
          "name": "stdout"
        }
      ]
    },
    {
      "cell_type": "markdown",
      "metadata": {
        "id": "Ex_9mA9o-GHa"
      },
      "source": [
        "Ce code simple permet de récupere les lignes ou le nombre de tour est de 10."
      ]
    },
    {
      "cell_type": "markdown",
      "metadata": {
        "id": "GWOmTqeWoN1H"
      },
      "source": [
        "### 1 - Séparation des donnée de jeu"
      ]
    },
    {
      "cell_type": "code",
      "metadata": {
        "colab": {
          "base_uri": "https://localhost:8080/"
        },
        "id": "yB_1kIQGowqZ",
        "outputId": "7b8dc62f-1bc1-4fda-87b9-b9c4a16a3de1"
      },
      "source": [
        "data = pd.read_csv(\"/content/drive/MyDrive/Université/M1/S8/IA/TP3/full_dataset.csv\")\n",
        " \n",
        "features_cols = [\"my_health\", \"opponent_health\", \"my_hand\", \"opponent_hand\", \"my_board_nb_creatures\",\n",
        "     \"my_board_total_health\", \"my_board_total_attack\", \"opponent_board_nb_creatures\",\n",
        "     \"opponent_board_total_health\", \"opponent_board_total_attack\"]\n",
        " \n",
        "\n",
        "pred_col = \"turns_to_end\"\n",
        " \n",
        "current_turn = 10\n",
        " \n",
        "turn_df = data[data[\"turn_id\"] == current_turn]\n",
        "X = turn_df[features_cols]\n",
        "Y = turn_df[pred_col]\n",
        "print(\"Taille des donnée : \")\n",
        "print(len(X))\n",
        "print()\n",
        "X_train,X_test,Y_train,Y_test=train_test_split(X,Y,test_size=0.3) \n",
        "print(\"Taille des donnée séparer, d'entrainement et de test :\")\n",
        "print(len(X_train))\n",
        "print(len(X_test))\n"
      ],
      "execution_count": 25,
      "outputs": [
        {
          "output_type": "stream",
          "text": [
            "Taille des donnée : \n",
            "1909\n",
            "\n",
            "Taille des donnée séparer, d'entrainement et de test :\n",
            "1336\n",
            "573\n"
          ],
          "name": "stdout"
        }
      ]
    },
    {
      "cell_type": "markdown",
      "metadata": {
        "id": "w3l5Xc0w-G-i"
      },
      "source": [
        "Comme dans la partie précédante nous utilisons train_test_split pour séparer les données en données d'entrainement et de test. ici on sépare de cette maniere:\n",
        "-70% des données pour l'entrainement \n",
        "-30% des données pour le test"
      ]
    },
    {
      "cell_type": "markdown",
      "metadata": {
        "id": "x8fExqqapL-H"
      },
      "source": [
        "###2 - Implémentation de la régression linéaire"
      ]
    },
    {
      "cell_type": "code",
      "metadata": {
        "id": "gnnDOm07pjIM",
        "colab": {
          "base_uri": "https://localhost:8080/"
        },
        "outputId": "7f2bfb14-209b-44eb-8059-caaea2ba4898"
      },
      "source": [
        "from sklearn import linear_model \n",
        "lr = linear_model.LinearRegression()\n",
        "lr.fit(X_train, Y_train)\n"
      ],
      "execution_count": 26,
      "outputs": [
        {
          "output_type": "execute_result",
          "data": {
            "text/plain": [
              "LinearRegression(copy_X=True, fit_intercept=True, n_jobs=None, normalize=False)"
            ]
          },
          "metadata": {
            "tags": []
          },
          "execution_count": 26
        }
      ]
    },
    {
      "cell_type": "markdown",
      "metadata": {
        "id": "cl0O1Av0-ITp"
      },
      "source": [
        "LinearRegression permet d'avoir les paramettres du model de la regression linéaire:\n",
        "\n",
        "-Copy: indique si X est copier ou écraser, ici il est copier\n",
        "\n",
        "-fit_intercept: indique si on calcul l'intersection du model. Ici on ne s'attend pas a ce que les donnée soit centrer.\n",
        "\n",
        "-n_jobs : indique le nombre de jobs a utiliser pour le calcu, none signifie qu'un seul.\n",
        "\n",
        "-normalize: Paramettre qui indique si la regression est normaliser ou non. Ici ce n'est pas le cas.\n",
        "\n",
        "Tout les paramettres données ici sont les paramettres par défault."
      ]
    },
    {
      "cell_type": "markdown",
      "metadata": {
        "id": "P8oZWTIUpjZx"
      },
      "source": [
        "###3 - Evaluation du modèle sur le jeu de test\n"
      ]
    },
    {
      "cell_type": "code",
      "metadata": {
        "id": "292Ws2D0p49U",
        "colab": {
          "base_uri": "https://localhost:8080/"
        },
        "outputId": "537249bc-1486-485a-8fa9-46d7a0bbb5a7"
      },
      "source": [
        "from sklearn.metrics import mean_squared_error\n",
        "Y_pred = lr.predict(X_train)\n",
        "error = mean_squared_error(Y_train, Y_pred)\n",
        "print(error)\n",
        "\n",
        "from sklearn.metrics import mean_absolute_error\n",
        "absoError = mean_absolute_error(Y_train, Y_pred)\n",
        "print(absoError)\n",
        "\n",
        "from sklearn.metrics import median_absolute_error\n",
        "medAbsoError = median_absolute_error(Y_train, Y_pred)\n",
        "print(medAbsoError)"
      ],
      "execution_count": 44,
      "outputs": [
        {
          "output_type": "stream",
          "text": [
            "36.965874095397616\n",
            "4.3270780835854605\n",
            "3.289961615105115\n"
          ],
          "name": "stdout"
        }
      ]
    },
    {
      "cell_type": "markdown",
      "metadata": {
        "id": "leVJLrcmaJY8"
      },
      "source": [
        "MSE ou mean squared error est une statistique qui donne l'erreur quadratique moyenne. C'est une indication sur la précision sur cette estimateur.\n",
        "\n",
        "On affiche aussi d'autre métrique tel que l'erreur absolue moyenne qui est de 4.3270780835854605.\n",
        "puis on affiche aussi l'erreur absolue médiane qui est de 3.289961615105115."
      ]
    },
    {
      "cell_type": "markdown",
      "metadata": {
        "id": "VVU-UPQlp5Tc"
      },
      "source": [
        "###4 - Visualiser l’erreur de prédiction"
      ]
    },
    {
      "cell_type": "code",
      "metadata": {
        "id": "yX44N97Pp-yG",
        "colab": {
          "base_uri": "https://localhost:8080/",
          "height": 296
        },
        "outputId": "55c506b5-094d-4ecb-dc61-d399d6393fe1"
      },
      "source": [
        "from numpy.random import random\n",
        "from matplotlib import pyplot as plt\n",
        "\n",
        "plt.scatter(Y_test + 0.5*(random(len(Y_test))-0.5), lr.predict(X_test), color='black', s=1)\n",
        "\n",
        "plt.plot([0,20], [0,20])\n",
        "plt.xlabel(\"True Y\") \n",
        "plt.ylabel(\"Prediction\")"
      ],
      "execution_count": 45,
      "outputs": [
        {
          "output_type": "execute_result",
          "data": {
            "text/plain": [
              "Text(0, 0.5, 'Prediction')"
            ]
          },
          "metadata": {
            "tags": []
          },
          "execution_count": 45
        },
        {
          "output_type": "display_data",
          "data": {
            "image/png": "[encoded data removed]",
            "text/plain": [
              "<Figure size 432x288 with 1 Axes>"
            ]
          },
          "metadata": {
            "tags": [],
            "needs_background": "light"
          }
        }
      ]
    },
    {
      "cell_type": "markdown",
      "metadata": {
        "id": "cIC3egB9-NFP"
      },
      "source": [
        "Avec le code ci-dessus, nous pouvons visuliser l'erreur de prédiction, Avec plt.scatter nous ajoutons les differents point au graphique.\n",
        "Par la suite, on ajoute les deux label X et Y ainsi qu'une droite qui suit la masse de point."
      ]
    },
    {
      "cell_type": "markdown",
      "metadata": {
        "id": "Y0bFT12ap94p"
      },
      "source": [
        "###5 - Fichier TP3prog3.py complet et Question\n",
        "\n",
        "Voici le contenu final du fichier TP3prog3.py :"
      ]
    },
    {
      "cell_type": "code",
      "metadata": {
        "colab": {
          "base_uri": "https://localhost:8080/",
          "height": 296
        },
        "id": "e9jWl9aeH-Ig",
        "outputId": "055822b8-d15b-4316-94b5-defdb08d4e2f"
      },
      "source": [
        "#Séparation\n",
        "data = pd.read_csv(\"/content/drive/MyDrive/Université/M1/S8/IA/TP3/full_dataset.csv\")\n",
        "features_cols = [\"my_health\", \"opponent_health\", \"my_hand\", \"opponent_hand\", \"my_board_nb_creatures\",\n",
        "     \"my_board_total_health\", \"my_board_total_attack\", \"opponent_board_nb_creatures\",\n",
        "     \"opponent_board_total_health\", \"opponent_board_total_attack\"]\n",
        "pred_col = \"turns_to_end\"\n",
        "current_turn = 10\n",
        "turn_df = data[data[\"turn_id\"] == current_turn]\n",
        "X = turn_df[features_cols]\n",
        "Y = turn_df[pred_col]\n",
        "X_train,X_test,Y_train,Y_test=train_test_split(X,Y,test_size=0.3) \n",
        "\n",
        "\n",
        "#Régression linéaire\n",
        "from sklearn import linear_model \n",
        "lr = linear_model.LinearRegression()\n",
        "lr.fit(X_train, Y_train)\n",
        "\n",
        "\n",
        "from sklearn.metrics import mean_squared_error\n",
        "\n",
        "\n",
        "#Visualisation\n",
        "from numpy.random import random\n",
        "from matplotlib import pyplot as plt\n",
        "\n",
        "plt.scatter(Y_test + 0.5*(random(len(Y_test))-0.5), lr.predict(X_test), color='black', s=1)\n",
        "\n",
        "plt.plot([0,20], [0,20])\n",
        "plt.xlabel(\"True Y\") \n",
        "plt.ylabel(\"Prediction\")"
      ],
      "execution_count": null,
      "outputs": [
        {
          "output_type": "execute_result",
          "data": {
            "text/plain": [
              "Text(0, 0.5, 'Prediction')"
            ]
          },
          "metadata": {
            "tags": []
          },
          "execution_count": 27
        },
        {
          "output_type": "display_data",
          "data": {
            "image/png": "[encoded data removed]",
            "text/plain": [
              "<Figure size 432x288 with 1 Axes>"
            ]
          },
          "metadata": {
            "tags": [],
            "needs_background": "light"
          }
        }
      ]
    },
    {
      "cell_type": "markdown",
      "metadata": {
        "id": "pZkjbw5NH-g5"
      },
      "source": [
        "Ce modèle de prédiction vous paraît-il performant ? \n",
        "\n",
        "Ce model de prédiction me parais correct mais pas forcement performent de part les nombreuses erreurs de prédiction que l'on peut voir.\n",
        "\n",
        "Quelles sont les raisons qui peuvent expliquer les erreurs de \n",
        "prédiction ?\n",
        "\n",
        "Les erreurs de prédiction peuvent etre expliquer par les donnée qui servent a la prédiction. en effet tout les predictions sont faite a partir de donnée beaucoup trop simple pour une partie de HeartsStone, car on se base sur la vie restante des deux joueur ainsi que du nombre de carte qu'il ont."
      ]
    }
  ]
}