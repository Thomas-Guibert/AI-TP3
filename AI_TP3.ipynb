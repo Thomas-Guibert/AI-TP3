{
  "nbformat": 4,
  "nbformat_minor": 0,
  "metadata": {
    "colab": {
      "name": "AI - TP3.ipynb",
      "provenance": [],
      "collapsed_sections": [],
      "toc_visible": true,
      "include_colab_link": true
    },
    "kernelspec": {
      "name": "python3",
      "display_name": "Python 3"
    },
    "language_info": {
      "name": "python"
    }
  },
  "cells": [
    {
      "cell_type": "markdown",
      "metadata": {
        "id": "view-in-github",
        "colab_type": "text"
      },
      "source": [
        "<a href=\"https://colab.research.google.com/github/Thomas-Guibert/AI-TP3/blob/main/AI_TP3.ipynb\" target=\"_parent\"><img src=\"https://colab.research.google.com/assets/colab-badge.svg\" alt=\"Open In Colab\"/></a>"
      ]
    },
    {
      "cell_type": "markdown",
      "metadata": {
        "id": "6xz5twyhwjiJ"
      },
      "source": [
        "# TP Machine Learning avec Scikit Learn\n",
        "\n"
      ]
    },
    {
      "cell_type": "markdown",
      "metadata": {
        "id": "HcqD9PRiSLNx"
      },
      "source": [
        "## Exercice 1: Échauffement avec le dataset Hearthstone\n"
      ]
    },
    {
      "cell_type": "markdown",
      "metadata": {
        "id": "6ubD7R9xSHKn"
      },
      "source": [
        "### A - Les données\n"
      ]
    },
    {
      "cell_type": "markdown",
      "metadata": {
        "id": "q0H6g2GE8xc9"
      },
      "source": [
        "L'objectif de cette premiere partie est de prendre en main le traitement des données ainsi que la prise en main de colab.\n",
        "Pour ce faire nous allons utiliser des dataset de partie de Heartstone bien plus complete que celle utiliser pour le TP précédent."
      ]
    },
    {
      "cell_type": "code",
      "metadata": {
        "colab": {
          "base_uri": "https://localhost:8080/"
        },
        "id": "90McDWpgz67S",
        "outputId": "d7adad98-4e1a-49e7-d9f2-4d3a5ee9a302"
      },
      "source": [
        "from google.colab import drive\n",
        "drive.mount('/content/drive')"
      ],
      "execution_count": 2,
      "outputs": [
        {
          "output_type": "stream",
          "text": [
            "Mounted at /content/drive\n"
          ],
          "name": "stdout"
        }
      ]
    },
    {
      "cell_type": "markdown",
      "metadata": {
        "id": "R2nVs16n0_QT"
      },
      "source": [
        "C'est premiere ligne servent uniquement a colab pour aller chercher les ressource presnte dans le drive."
      ]
    },
    {
      "cell_type": "code",
      "metadata": {
        "colab": {
          "base_uri": "https://localhost:8080/"
        },
        "id": "gOn2Zv3-0WW3",
        "outputId": "18d7a580-45e4-438f-ea6a-ef7322e20854"
      },
      "source": [
        "import pandas as pd  # charge le module pandas et le renomme pd\n",
        "data = pd.read_csv(\"/content/drive/MyDrive/Université/M1/S8/IA/TP3/full_dataset.csv\")\n",
        "\n",
        "#Affichage des attribut\n",
        "print(data.columns)\n",
        "print(\"\")\n",
        "#Resumer des donnée\n",
        "print(data)\n",
        "\n",
        "print(\"\")\n",
        "help(len)"
      ],
      "execution_count": 4,
      "outputs": [
        {
          "output_type": "stream",
          "text": [
            "Index(['game_id', 'me_playing', 'my_board_nb_creatures',\n",
            "       'my_board_total_attack', 'my_board_total_health', 'my_class', 'my_hand',\n",
            "       'my_health', 'opponent_board_nb_creatures',\n",
            "       'opponent_board_total_attack', 'opponent_board_total_health',\n",
            "       'opponent_class', 'opponent_hand', 'opponent_health', 'result',\n",
            "       'turn_id', 'turns_to_end'],\n",
            "      dtype='object')\n",
            "\n",
            "       game_id  me_playing  ...  turn_id  turns_to_end\n",
            "0          434       False  ...        1            10\n",
            "1          434        True  ...        2             9\n",
            "2          434       False  ...        3             8\n",
            "3          434        True  ...        4             7\n",
            "4          434       False  ...        5             6\n",
            "...        ...         ...  ...      ...           ...\n",
            "36143      728       False  ...       17             4\n",
            "36144      728        True  ...       18             3\n",
            "36145      728       False  ...       19             2\n",
            "36146      728        True  ...       20             1\n",
            "36147      728       False  ...       21             0\n",
            "\n",
            "[36148 rows x 17 columns]\n",
            "\n",
            "Help on built-in function len in module builtins:\n",
            "\n",
            "len(obj, /)\n",
            "    Return the number of items in a container.\n",
            "\n"
          ],
          "name": "stdout"
        }
      ]
    },
    {
      "cell_type": "markdown",
      "metadata": {
        "id": "clqDfFq883nA"
      },
      "source": [
        "L'objet data permet d'avoir accès a l'objet full_dataset.csv qui contient nos donnée. Grace a lui nous ponvons accéder facilement au donnée et attribut qu'elle contient.\n",
        "Nous allons voir plusieurs façon de recolter ces attribut.\n",
        "\n",
        "premierement pour avoir la liste des attribut de data il suffit de faire data.columns, a ou un simpl data suffit pour recupere un resumer des données (Pour chaque ligne récupérer les valeur de tout les attribut, soit 36148 ligne pour 17 columns).\n",
        "\n",
        "On peut noté la presence de la commande spécial help qui permet d'avoir la documentation de la fonction donnée, dans notre exemple il s'agit de la fonction len."
      ]
    },
    {
      "cell_type": "code",
      "metadata": {
        "colab": {
          "base_uri": "https://localhost:8080/"
        },
        "id": "Kwme0JO73C7Y",
        "outputId": "70ca56f8-ee84-4916-e440-90f6ac4e8a57"
      },
      "source": [
        "print(\"taille des donnée, nombre de ligne\")\n",
        "print(len(data))\n",
        "print(\"\")\n",
        "print(\"\")\n",
        "print(\"taille des donnée, nombre de ligne\")\n",
        "print(\"premier attribut des données\")\n",
        "print(\"    \"+data.columns[0])\n",
        "print(\"troisième attribut des données\")\n",
        "print(\"    \"+data.columns[2])\n",
        "print(\"derniere attribut des données\")\n",
        "print(\"    \"+data.columns[-1]) \n",
        "print(\"\")\n",
        "print(\"\")\n",
        "print(\"Nombre de ligne et nombre de colone\")\n",
        "print(data.shape) \n",
        "print(\"\")\n",
        "print(\"\")\n",
        "print(\"Recuperation de la valeur de tout les attribut du premier element\")\n",
        "print(data.iloc[0])\n",
        "print(\"\")\n",
        "print(\"\")\n",
        "print(\"Recuperation de la valeur de tout les attributs des 5 premiere ligne\")\n",
        "print(data[0:5])\n",
        "print(\"\")\n",
        "print(\"Recuperation de la valeur de tout les attributs des 5 derniere ligne\")\n",
        "print(data[-5:-1])\n",
        "print(\"\")\n",
        "print(\"Recuperation de la valeur de tout les attributs qui sont des multiple de trois et inferieur a 10\")\n",
        "print(data[0:10:3])\n",
        "\n",
        "print(\"\")\n",
        "print(\"\")\n",
        "print(\"Affiche l'attribut de la santé de toutes les lignes\")\n",
        "print(data[\"my_health\"])\n",
        "print(\"\")\n",
        "print(\"\")\n",
        "print(\"Affiche les attribut my_health et my_hand des ligne 0 a 5\")\n",
        "print(data[[\"my_health\",\"my_hand\"]][0:5])"
      ],
      "execution_count": 6,
      "outputs": [
        {
          "output_type": "stream",
          "text": [
            "taille des donnée, nombre de ligne\n",
            "36148\n",
            "\n",
            "\n",
            "taille des donnée, nombre de ligne\n",
            "premier attribut des données\n",
            "    game_id\n",
            "troisième attribut des données\n",
            "    my_board_nb_creatures\n",
            "derniere attribut des données\n",
            "    turns_to_end\n",
            "\n",
            "\n",
            "Nombre de ligne et nombre de colone\n",
            "(36148, 17)\n",
            "\n",
            "\n",
            "Recuperation de la valeur de tout les attribut du premier element\n",
            "game_id                            434\n",
            "me_playing                       False\n",
            "my_board_nb_creatures                0\n",
            "my_board_total_attack                0\n",
            "my_board_total_health                0\n",
            "my_class                          Mage\n",
            "my_hand                              5\n",
            "my_health                           30\n",
            "opponent_board_nb_creatures          2\n",
            "opponent_board_total_attack          6\n",
            "opponent_board_total_health          3\n",
            "opponent_class                 Warlock\n",
            "opponent_hand                        3\n",
            "opponent_health                     27\n",
            "result                               0\n",
            "turn_id                              1\n",
            "turns_to_end                        10\n",
            "Name: 0, dtype: object\n",
            "\n",
            "\n",
            "Recuperation de la valeur de tout les attributs des 5 premiere ligne\n",
            "   game_id  me_playing  my_board_nb_creatures  ...  result  turn_id turns_to_end\n",
            "0      434       False                      0  ...       0        1           10\n",
            "1      434        True                      2  ...       0        2            9\n",
            "2      434       False                      0  ...       0        3            8\n",
            "3      434        True                      1  ...       0        4            7\n",
            "4      434       False                      0  ...       0        5            6\n",
            "\n",
            "[5 rows x 17 columns]\n",
            "\n",
            "Recuperation de la valeur de tout les attributs des 5 derniere ligne\n",
            "       game_id  me_playing  ...  turn_id  turns_to_end\n",
            "36143      728       False  ...       17             4\n",
            "36144      728        True  ...       18             3\n",
            "36145      728       False  ...       19             2\n",
            "36146      728        True  ...       20             1\n",
            "\n",
            "[4 rows x 17 columns]\n",
            "\n",
            "Recuperation de la valeur de tout les attributs qui sont des multiple de trois et inferieur a 10\n",
            "   game_id  me_playing  my_board_nb_creatures  ...  result  turn_id turns_to_end\n",
            "0      434       False                      0  ...       0        1           10\n",
            "3      434        True                      1  ...       0        4            7\n",
            "6      434       False                      0  ...       0        7            4\n",
            "9      434        True                      2  ...       0       10            1\n",
            "\n",
            "[4 rows x 17 columns]\n",
            "\n",
            "\n",
            "Affiche l'attribut de la santé de toutes les lignes\n",
            "0        30\n",
            "1        30\n",
            "2        29\n",
            "3        29\n",
            "4        29\n",
            "         ..\n",
            "36143    14\n",
            "36144    16\n",
            "36145    16\n",
            "36146    20\n",
            "36147    20\n",
            "Name: my_health, Length: 36148, dtype: int64\n",
            "\n",
            "\n",
            "Affiche les attribut my_health et my_hand des ligne 0 a 5\n",
            "   my_health  my_hand\n",
            "0         30        5\n",
            "1         30        3\n",
            "2         29        3\n",
            "3         29        3\n",
            "4         29        3\n"
          ],
          "name": "stdout"
        }
      ]
    },
    {
      "cell_type": "markdown",
      "metadata": {
        "id": "xHLl7NWt_W6f"
      },
      "source": [
        "Comme le dit la commande help len sert a obtenir la taille des donnée, c'est a dire le nombres de ligne soit 36148.\n",
        "\n",
        "Pour avoir l'attribut corespondant a une colone, on peut faire data.columns[nb de la colone].\n",
        "On peut aussi recupere le nombre de columne et de ligne avec data.shape\n",
        "\n",
        "Avec data.iloc[nb] on peut recupere la valeur de tout les attributs de la ligne donnée.\n",
        "\n",
        "Grace a data[0:5] on peut faire comme iloc mais ici on recupere tout les attribut des ligne compris dans l'interval donnée. Les nombre négatif permet d'aler recupere les derniere lignes.\n",
        "Il existe la variante data[0:10:3] qui fait exactement la meme chose mais cette fois elle prendre les ligne mulitple du troisième nombre rentrer dans l'intervalle former avec les deux premiers chiffre rentrer.\n",
        "\n",
        "Les derniere commande permetais de recupere des lignes, avec data[attribut] on recupèr l'entièreter des valeur que l'attribut a pour chaqu'un des lignes.\n",
        "\n",
        "On peut aussi combiner plusieurs commande et avoir ce genre de chose : (data[[\"my_health\",\"my_hand\"]][0:5]) :\n",
        "Cela permet de recupere la valeu des deux attribut renseigner pour les ligne de l'intervale donnée.\n"
      ]
    },
    {
      "cell_type": "code",
      "metadata": {
        "colab": {
          "base_uri": "https://localhost:8080/"
        },
        "id": "vs479Nm-9O_A",
        "outputId": "a18742c9-284b-4bb7-fd75-52756345f36d"
      },
      "source": [
        "turns_before_end = 4   # 4 tours avant la fin\n",
        "\n",
        "print(\"nombre de ligne ou est egal a 4\")\n",
        "turn_df = data[data[\"turns_to_end\"]==turns_before_end]\n",
        "print(len(turn_df))"
      ],
      "execution_count": 7,
      "outputs": [
        {
          "output_type": "stream",
          "text": [
            "nombre de ligne ou est egal a 4\n",
            "2049\n"
          ],
          "name": "stdout"
        }
      ]
    },
    {
      "cell_type": "markdown",
      "metadata": {
        "id": "tp6C7YcKRXCn"
      },
      "source": [
        "Dans notre étude nous allons analyser les partie ou il ne reste que 4 tours a joué avant la fin de la partie. Il nous faut donc faire un tri sur les données, la ligne suivant : data[data[\"turns_to_end\"]==turns_before_end] , permet de recupere les ligne pour lesquels l'attribut \"turns_before_end\" est égale à 4.\n",
        "\n",
        "En combinant cela avec len on recupere le nombre de ligne ou il ne reste que 4 tour avant la fin de la partie."
      ]
    },
    {
      "cell_type": "code",
      "metadata": {
        "colab": {
          "base_uri": "https://localhost:8080/"
        },
        "id": "1j1CNcgX9mau",
        "outputId": "3cab6e0c-cee8-4138-b7f5-209626e01a05"
      },
      "source": [
        "features_cols = [\"my_health\", \"opponent_health\", \"my_hand\", \"opponent_hand\", \"my_board_nb_creatures\",\n",
        "     \"my_board_total_health\", \"my_board_total_attack\", \"opponent_board_nb_creatures\",\n",
        "     \"opponent_board_total_health\", \"opponent_board_total_attack\", \"me_playing\"]\n",
        " \n",
        "pred_col = \"result\"\n",
        " \n",
        "X = turn_df[features_cols]\n",
        "Y = turn_df[pred_col]\n",
        "#Description des ligne ou il n'y a plus que 4 tour avant la fin\n",
        "print(X)\n",
        "#Affichage d'uniquement le resultat pour chacune\n",
        "print(Y)"
      ],
      "execution_count": 8,
      "outputs": [
        {
          "output_type": "stream",
          "text": [
            "       my_health  opponent_health  ...  opponent_board_total_attack  me_playing\n",
            "6             23               27  ...                         11.0       False\n",
            "13            27               30  ...                          6.0        True\n",
            "28             8               28  ...                         13.0       False\n",
            "45            24                9  ...                          4.0        True\n",
            "65            18               20  ...                         17.0       False\n",
            "...          ...              ...  ...                          ...         ...\n",
            "36086         22               23  ...                          0.0       False\n",
            "36096         26               28  ...                          5.0        True\n",
            "36108         23               15  ...                          3.0       False\n",
            "36122         30               30  ...                          6.0        True\n",
            "36143         14               23  ...                          6.0       False\n",
            "\n",
            "[2049 rows x 11 columns]\n",
            "6        0\n",
            "13       0\n",
            "28       0\n",
            "45       1\n",
            "65       0\n",
            "        ..\n",
            "36086    1\n",
            "36096    1\n",
            "36108    1\n",
            "36122    1\n",
            "36143    0\n",
            "Name: result, Length: 2049, dtype: int64\n"
          ],
          "name": "stdout"
        }
      ]
    },
    {
      "cell_type": "markdown",
      "metadata": {
        "id": "Ds8D9pePb0-H"
      },
      "source": [
        "Les ligne au dessus permet d'afficher le contenu des ligne ou il ne reste que 4 tour avant la fin de la partie. \n",
        "avec turn_df[\"result\"] on affiche le resultat de victoire ou non de la partie."
      ]
    },
    {
      "cell_type": "markdown",
      "metadata": {
        "id": "h4e5ZesTDJJU"
      },
      "source": [
        "### B - Affichage"
      ]
    },
    {
      "cell_type": "markdown",
      "metadata": {
        "id": "nxlj-XaMf0ZK"
      },
      "source": [
        "Pour afficher les donnée de maniere a bien les visualiser, nous utiliserons matplotlib.pyplot."
      ]
    },
    {
      "cell_type": "code",
      "metadata": {
        "colab": {
          "base_uri": "https://localhost:8080/",
          "height": 296
        },
        "id": "8MQGZdxzDgBg",
        "outputId": "b2628afc-e3c3-4187-d241-2a4c730d1abf"
      },
      "source": [
        "from matplotlib import pyplot as plt # alias the name \"pyplot\" by \"plt\" \n",
        " \n",
        "x_col=\"my_health\"\n",
        "y_col=\"opponent_health\"\n",
        " \n",
        "plt.xlabel(x_col) # all the functions defined in a given library should be prefixed by the name of the library\n",
        "plt.ylabel(y_col)\n",
        "plt.title(\"Hearthstone data: health\")\n",
        "\n",
        "plt.scatter(X[x_col], X[y_col],c=Y)\n",
        "plt.show() "
      ],
      "execution_count": 9,
      "outputs": [
        {
          "output_type": "display_data",
          "data": {
            "image/png": "[encoded data removed]",
            "text/plain": [
              "<Figure size 432x288 with 1 Axes>"
            ]
          },
          "metadata": {
            "tags": [],
            "needs_background": "light"
          }
        }
      ]
    },
    {
      "cell_type": "markdown",
      "metadata": {
        "id": "cYIZCzyirZVs"
      },
      "source": [
        "Ici on peut visualiser le nombre de vie de chaqu'un des joueur au moment ou il n'y a plus que 4 tour a jouer, et on voit si la partie a ete gagner ou pas."
      ]
    },
    {
      "cell_type": "code",
      "metadata": {
        "colab": {
          "base_uri": "https://localhost:8080/",
          "height": 702
        },
        "id": "0KaNeHJgZ_Jv",
        "outputId": "be24fa16-468a-4e2d-937b-beef32b2f057"
      },
      "source": [
        "#Remplace les 0 et 1 des resultat par True et False\n",
        "print(Y==0)\n",
        "#fait la meme chose mais en affichant tout les autre attribut\n",
        "print(X[Y==0])\n",
        "\n",
        "plt.scatter(X[Y==0][x_col], X[Y==0][y_col], color=\"red\",label=\"lose\")\n",
        "plt.scatter(X[Y==1][x_col], X[Y==1][y_col], color=\"green\",label=\"win\") \n",
        "\n",
        "plt.legend()\n",
        "plt.show()"
      ],
      "execution_count": 10,
      "outputs": [
        {
          "output_type": "stream",
          "text": [
            "6         True\n",
            "13        True\n",
            "28        True\n",
            "45       False\n",
            "65        True\n",
            "         ...  \n",
            "36086    False\n",
            "36096    False\n",
            "36108    False\n",
            "36122    False\n",
            "36143     True\n",
            "Name: result, Length: 2049, dtype: bool\n",
            "       my_health  opponent_health  ...  opponent_board_total_attack  me_playing\n",
            "6             23               27  ...                         11.0       False\n",
            "13            27               30  ...                          6.0        True\n",
            "28             8               28  ...                         13.0       False\n",
            "65            18               20  ...                         17.0       False\n",
            "79            26               26  ...                          7.0        True\n",
            "...          ...              ...  ...                          ...         ...\n",
            "35913         28               18  ...                         13.0       False\n",
            "35932         13               30  ...                         11.0       False\n",
            "35962         13               14  ...                          0.0        True\n",
            "36034          9               15  ...                          6.0       False\n",
            "36143         14               23  ...                          6.0       False\n",
            "\n",
            "[920 rows x 11 columns]\n"
          ],
          "name": "stdout"
        },
        {
          "output_type": "display_data",
          "data": {
            "image/png": "[encoded data removed]",
            "text/plain": [
              "<Figure size 432x288 with 1 Axes>"
            ]
          },
          "metadata": {
            "tags": [],
            "needs_background": "light"
          }
        }
      ]
    },
    {
      "cell_type": "markdown",
      "metadata": {
        "id": "qB7_X-kZvSI_"
      },
      "source": [
        "Grace a Y==0 on peut remplacer les 0 et les 1 de resultat par un boolean\n",
        "En appliquans cela a X on remplace les nombres de la colomns Resultat par des boolean en gardant toutes les autre colomnes intacte\n",
        "\n",
        "En passant a des boolean,nous pouvons indiquer la couleur et le label associer au element respectant la condition donnée qui est que le resultat soit faux pour rouge et vrai pour vert.\n",
        "Une fois les regle de traitement de donnée mis en place, il suffit d'affiche la legend et le diagramme avec les deux derniere ligne du code ci-dessus pour avoir les resultat avec un code couleur plus parlant"
      ]
    },
    {
      "cell_type": "code",
      "metadata": {
        "colab": {
          "base_uri": "https://localhost:8080/",
          "height": 296
        },
        "id": "QamGOgpqumI8",
        "outputId": "62b71165-a807-4302-f19c-462a45624a68"
      },
      "source": [
        "# TP3prog1.py\n",
        " \n",
        "import pandas as pd\n",
        "from matplotlib import pyplot as plt\n",
        "from numpy.random import random\n",
        " \n",
        "data = pd.read_csv(\"/content/drive/MyDrive/Université/M1/S8/IA/TP3/full_dataset.csv\")\n",
        " \n",
        "features_cols = [\"my_health\", \"opponent_health\", \"my_hand\", \"opponent_hand\", \"my_board_nb_creatures\",\n",
        "     \"my_board_total_health\", \"my_board_total_attack\", \"opponent_board_nb_creatures\",\n",
        "     \"opponent_board_total_health\", \"opponent_board_total_attack\", \"me_playing\"]\n",
        " \n",
        "pred_col = \"result\"\n",
        " \n",
        "turns_before_end = 4\n",
        " \n",
        "turn_df = data[data[\"turns_to_end\"] == turns_before_end]\n",
        "X = turn_df[features_cols]\n",
        "Y = turn_df[pred_col]\n",
        " \n",
        "x_col=\"my_health\"\n",
        "y_col=\"opponent_health\"\n",
        " \n",
        "colors=[\"red\", \"green\"]\n",
        "labels=[\"loose\", \"win\"]\n",
        "for i in range(2):\n",
        "    indices = Y==i\n",
        "    nb_rows = sum(indices)\n",
        "    plt.scatter(X[indices][x_col] + 0.5*(random(nb_rows)-0.5),\n",
        "                X[indices][y_col] + 0.5*(random(nb_rows)-0.5),\n",
        "                color=colors[i],label=labels[i],s=2)\n",
        "plt.legend()\n",
        "plt.xlabel(x_col) \n",
        "plt.ylabel(y_col)\n",
        "plt.title(\"Hearthstone data: health\") \n",
        "plt.show()"
      ],
      "execution_count": 39,
      "outputs": [
        {
          "output_type": "display_data",
          "data": {
            "image/png": "[encoded data removed]",
            "text/plain": [
              "<Figure size 432x288 with 1 Axes>"
            ]
          },
          "metadata": {
            "tags": [],
            "needs_background": "light"
          }
        }
      ]
    },
    {
      "cell_type": "markdown",
      "metadata": {
        "id": "cTPXzidc5Uv0"
      },
      "source": [
        "Le diagramme ci-dessus est gener par l'execution du code de TP3prog1.py.\n",
        "\n",
        "À quoi sert le nombre aléatoire ajouté avec random ?\n",
        "\n",
        "A REPONDRE\n",
        "\n",
        "Cette visualisation est-elle plus informative que la précédente ?\n",
        "\n",
        "A REPONDRE"
      ]
    },
    {
      "cell_type": "markdown",
      "metadata": {
        "id": "F8uv9AHoSYL8"
      },
      "source": [
        "## Exercice 2 : Classification KNN sur Hearthstone\n"
      ]
    },
    {
      "cell_type": "markdown",
      "metadata": {
        "id": "zL4uyfUT5jmy"
      },
      "source": [
        "Dans cette partie nous allons utiliser la classificateur des \"k plus proche voisin\" utilisable abec l'import neighbors.\n",
        "Cette import donne un certaine nombre de commande permet d'avoir des information precise sur notre classification, tel que classifier des exemple, definir la probabilite de la classification ou encore le score globale du classificateur."
      ]
    },
    {
      "cell_type": "code",
      "metadata": {
        "colab": {
          "base_uri": "https://localhost:8080/"
        },
        "id": "SYcsIyEl5iRQ",
        "outputId": "de9f1394-d1b5-4b56-c18f-b56809a37f13"
      },
      "source": [
        "from sklearn import neighbors\n",
        "nb_neighb = 45\n",
        "\n",
        "# pour de l’aide taper: help(neighbors.KNeighborsClassifier)\n",
        "clf = neighbors.KNeighborsClassifier(nb_neighb)\n",
        "\n",
        "# pour de l’aide taper: help(clf.fit)\n",
        "clf.fit(X, Y) #on suppose de X et Y sont définis comme dans la partie précédente\n",
        "\n",
        "# pour de l’aide taper: help(clf.predict) \n",
        "print(clf.predict(X[0:5])) \n",
        "\n",
        "print(clf.predict_proba(X[0:5])) \n",
        "print(clf.score(X,Y)) "
      ],
      "execution_count": 27,
      "outputs": [
        {
          "output_type": "stream",
          "text": [
            "[0 0 0 1 0]\n",
            "Help on method score in module sklearn.base:\n",
            "\n",
            "score(X, y, sample_weight=None) method of sklearn.neighbors._classification.KNeighborsClassifier instance\n",
            "    Return the mean accuracy on the given test data and labels.\n",
            "    \n",
            "    In multi-label classification, this is the subset accuracy\n",
            "    which is a harsh metric since you require for each sample that\n",
            "    each label set be correctly predicted.\n",
            "    \n",
            "    Parameters\n",
            "    ----------\n",
            "    X : array-like of shape (n_samples, n_features)\n",
            "        Test samples.\n",
            "    \n",
            "    y : array-like of shape (n_samples,) or (n_samples, n_outputs)\n",
            "        True labels for X.\n",
            "    \n",
            "    sample_weight : array-like of shape (n_samples,), default=None\n",
            "        Sample weights.\n",
            "    \n",
            "    Returns\n",
            "    -------\n",
            "    score : float\n",
            "        Mean accuracy of self.predict(X) wrt. y.\n",
            "\n",
            "[[0.93333333 0.06666667]\n",
            " [0.68888889 0.31111111]\n",
            " [0.95555556 0.04444444]\n",
            " [0.17777778 0.82222222]\n",
            " [0.82222222 0.17777778]]\n",
            "0.7837969741337237\n"
          ],
          "name": "stdout"
        }
      ]
    },
    {
      "cell_type": "markdown",
      "metadata": {
        "id": "Wwu7-9-QRxYA"
      },
      "source": [
        "La premiere ligne \"neighbors.KNeighborsClassifier(nb_neighb)\" permet de faire une classification des K plus proche voisin, on donne en paramettre le nombre de voisin a prendre en compte.\n",
        "\n",
        "Avec clf.fit(X, Y), on défini les donnée d'entrainement ainsi que les valeur cible. Ici les donnée d'entrainement sont les donnée de notre partie de Heartstone quand il ne reste que 4 tour avant la fin de la partie. Pour les donnée cible on prend la valeur qui indique si la partie est gagner ou non.\n",
        "\n",
        "Une fois cela mis en place ou peut utiliser predicte pour avoir un certaine nombre de valeur :\n",
        "\n",
        "-Avec clf.predict(X[0:5]) on optient l'etiquete majoritaire. Ici pour les resultat l'etiquette \"0\" qui correspond a perdu est majoritaire pour presque tout les donnée rentrer, seul la 4eme valeur indique que l'on gagne.\n",
        "\n",
        "-clf.predict_proba(X[0:5]) va plus loin en donnant directement la probabilité, par exemple dans la premiere partie au 4eme tour avant la fin, le joueur adverse avait 93.33% de chance de gagner contre 06.66% pour l'autre. Alors que pour la partie 4 le joueur adverse avait 17.77% de chance de gagner contre 82.22% pour l'autre joueur.\n",
        "\n",
        "-Enfin clf.score(X,Y) donne la précision moyenne des résultat obtenu a partir des donnée test et des étiquettes données.\n",
        "\n",
        "\n",
        "Esseyons maintenant avec K = 1 et K = 1000\n",
        "\n",
        "###- K = 1\n"
      ]
    },
    {
      "cell_type": "code",
      "metadata": {
        "colab": {
          "base_uri": "https://localhost:8080/"
        },
        "id": "JNaZ5pBvbrrW",
        "outputId": "aabd46f6-bb5f-4cf2-bbe5-8a28b46c5c5b"
      },
      "source": [
        "nb_neighb = 1\n",
        "\n",
        "# pour de l’aide taper: help(neighbors.KNeighborsClassifier)\n",
        "clf = neighbors.KNeighborsClassifier(nb_neighb)\n",
        "\n",
        "# pour de l’aide taper: help(clf.fit)\n",
        "clf.fit(X, Y) #on suppose de X et Y sont définis comme dans la partie précédente\n",
        "\n",
        "# pour de l’aide taper: help(clf.predict) \n",
        "print(clf.predict(X[0:5])) \n",
        "\n",
        "print(clf.predict_proba(X[0:5])) \n",
        "print(clf.score(X,Y)) "
      ],
      "execution_count": 28,
      "outputs": [
        {
          "output_type": "stream",
          "text": [
            "[0 0 0 1 0]\n",
            "[[1. 0.]\n",
            " [1. 0.]\n",
            " [1. 0.]\n",
            " [0. 1.]\n",
            " [1. 0.]]\n",
            "1.0\n"
          ],
          "name": "stdout"
        }
      ]
    },
    {
      "cell_type": "markdown",
      "metadata": {
        "id": "KEe9efvdbufN"
      },
      "source": [
        "Sans surprise avec K=1 on ne regarde qu'un seul voisin donc les prediction ne donne que du 0% ou du 100% de chance de gagner. La précision est aussi toucher , elle est de 100% avec cette technique.\n",
        "\n",
        "###- K=1000"
      ]
    },
    {
      "cell_type": "code",
      "metadata": {
        "colab": {
          "base_uri": "https://localhost:8080/"
        },
        "id": "meWWmTKZcMNL",
        "outputId": "3e04f538-2e82-4d5e-8a24-1165d7b8fa20"
      },
      "source": [
        "nb_neighb = 1000\n",
        "\n",
        "# pour de l’aide taper: help(neighbors.KNeighborsClassifier)\n",
        "clf = neighbors.KNeighborsClassifier(nb_neighb)\n",
        "\n",
        "# pour de l’aide taper: help(clf.fit)\n",
        "clf.fit(X, Y) #on suppose de X et Y sont définis comme dans la partie précédente\n",
        "\n",
        "# pour de l’aide taper: help(clf.predict) \n",
        "print(clf.predict(X[0:5])) \n",
        "\n",
        "print(clf.predict_proba(X[0:5])) \n",
        "print(clf.score(X,Y)) "
      ],
      "execution_count": 29,
      "outputs": [
        {
          "output_type": "stream",
          "text": [
            "[0 1 0 1 0]\n",
            "[[0.633 0.367]\n",
            " [0.461 0.539]\n",
            " [0.674 0.326]\n",
            " [0.29  0.71 ]\n",
            " [0.635 0.365]]\n",
            "0.7510980966325037\n"
          ],
          "name": "stdout"
        }
      ]
    },
    {
      "cell_type": "markdown",
      "metadata": {
        "id": "goed-Y7WcWDK"
      },
      "source": [
        "Avec k=1000 on remarque un changement sur la seconde partie, il y a plus de partie perdante pour l'adverser dans les 1000 voisin les plus proche. Les pourcentage passe alors a 46.10% pour l'adverse. On remarque aussi que les pourcentage sont de maniere general plus proche du 50% que avec k=45.\n",
        "Prendre un tels nombre de voisin fait aussi légerement baisser la précision, ce qui est normal.\n",
        "\n",
        "\n",
        "\n",
        "\n",
        "On veux maintenant separer le jeux de donnée en deux pour avoir des donnée d'entrenement et des donnée de test indépandante l'une de l'autre. Cependant, il faut un certain nombre de donnée pour les tests car comme nous avons peu le voir pour K=1 précédement, trop peut de donnée ne peut pas donnée des tests convenable.\n",
        "Le module \"model_selection.train_test_split\" va nous permetre ici de séparer les donnée."
      ]
    },
    {
      "cell_type": "code",
      "metadata": {
        "colab": {
          "base_uri": "https://localhost:8080/"
        },
        "id": "y5BH2vvTfsXG",
        "outputId": "0a14ca7d-37d9-4b0e-adf8-88f9a0db0d75"
      },
      "source": [
        "from sklearn.model_selection import train_test_split \n",
        "# pour de l’aide taper: help(train_test_split)\n",
        "X_train,X_test,Y_train,Y_test=train_test_split(X,Y,test_size=0.3) \n",
        "\n",
        "print(len(X_train))\n",
        "print(len(X_test))\n",
        "print(len(X_train[Y_train==0]))\n",
        "print(len(X_train[Y_train==1]))\n",
        "print()\n",
        "\n",
        "nb_neighb = 45\n",
        "clf = neighbors.KNeighborsClassifier(nb_neighb)\n",
        "clf.fit(X_train, Y_train)\n",
        " \n",
        "Y_pred = clf.predict(X_test) \n",
        " \n",
        "from sklearn.metrics import confusion_matrix\n",
        "cm = confusion_matrix(Y_test, Y_pred)\n",
        "help(confusion_matrix)\n",
        "print(cm)"
      ],
      "execution_count": 38,
      "outputs": [
        {
          "output_type": "stream",
          "text": [
            "1434\n",
            "615\n",
            "665\n",
            "769\n",
            "\n",
            "Help on function confusion_matrix in module sklearn.metrics._classification:\n",
            "\n",
            "confusion_matrix(y_true, y_pred, labels=None, sample_weight=None, normalize=None)\n",
            "    Compute confusion matrix to evaluate the accuracy of a classification.\n",
            "    \n",
            "    By definition a confusion matrix :math:`C` is such that :math:`C_{i, j}`\n",
            "    is equal to the number of observations known to be in group :math:`i` and\n",
            "    predicted to be in group :math:`j`.\n",
            "    \n",
            "    Thus in binary classification, the count of true negatives is\n",
            "    :math:`C_{0,0}`, false negatives is :math:`C_{1,0}`, true positives is\n",
            "    :math:`C_{1,1}` and false positives is :math:`C_{0,1}`.\n",
            "    \n",
            "    Read more in the :ref:`User Guide <confusion_matrix>`.\n",
            "    \n",
            "    Parameters\n",
            "    ----------\n",
            "    y_true : array-like of shape (n_samples,)\n",
            "        Ground truth (correct) target values.\n",
            "    \n",
            "    y_pred : array-like of shape (n_samples,)\n",
            "        Estimated targets as returned by a classifier.\n",
            "    \n",
            "    labels : array-like of shape (n_classes), default=None\n",
            "        List of labels to index the matrix. This may be used to reorder\n",
            "        or select a subset of labels.\n",
            "        If ``None`` is given, those that appear at least once\n",
            "        in ``y_true`` or ``y_pred`` are used in sorted order.\n",
            "    \n",
            "    sample_weight : array-like of shape (n_samples,), default=None\n",
            "        Sample weights.\n",
            "    \n",
            "    normalize : {'true', 'pred', 'all'}, default=None\n",
            "        Normalizes confusion matrix over the true (rows), predicted (columns)\n",
            "        conditions or all the population. If None, confusion matrix will not be\n",
            "        normalized.\n",
            "    \n",
            "    Returns\n",
            "    -------\n",
            "    C : ndarray of shape (n_classes, n_classes)\n",
            "        Confusion matrix.\n",
            "    \n",
            "    References\n",
            "    ----------\n",
            "    .. [1] `Wikipedia entry for the Confusion matrix\n",
            "           <https://en.wikipedia.org/wiki/Confusion_matrix>`_\n",
            "           (Wikipedia and other references may use a different\n",
            "           convention for axes)\n",
            "    \n",
            "    Examples\n",
            "    --------\n",
            "    >>> from sklearn.metrics import confusion_matrix\n",
            "    >>> y_true = [2, 0, 2, 2, 0, 1]\n",
            "    >>> y_pred = [0, 0, 2, 2, 0, 2]\n",
            "    >>> confusion_matrix(y_true, y_pred)\n",
            "    array([[2, 0, 0],\n",
            "           [0, 0, 1],\n",
            "           [1, 0, 2]])\n",
            "    \n",
            "    >>> y_true = [\"cat\", \"ant\", \"cat\", \"cat\", \"ant\", \"bird\"]\n",
            "    >>> y_pred = [\"ant\", \"ant\", \"cat\", \"cat\", \"ant\", \"cat\"]\n",
            "    >>> confusion_matrix(y_true, y_pred, labels=[\"ant\", \"bird\", \"cat\"])\n",
            "    array([[2, 0, 0],\n",
            "           [0, 0, 1],\n",
            "           [1, 0, 2]])\n",
            "    \n",
            "    In the binary case, we can extract true positives, etc as follows:\n",
            "    \n",
            "    >>> tn, fp, fn, tp = confusion_matrix([0, 1, 0, 1], [1, 1, 1, 0]).ravel()\n",
            "    >>> (tn, fp, fn, tp)\n",
            "    (0, 2, 1, 1)\n",
            "\n",
            "[[188  67]\n",
            " [ 62 298]]\n"
          ],
          "name": "stdout"
        }
      ]
    },
    {
      "cell_type": "markdown",
      "metadata": {
        "id": "AVvp-e7Sg_oK"
      },
      "source": [
        "Encore une fois nous avons nos donnée X et Y. Grace a \"train_test_split(X,Y,test_size=0.3)\" on sépare les donnée X et Y en deux, On précise 0.3 pour séparer les données de cette manière : 70% train et 30% test.\n",
        "\n",
        "-len(X_train) donne la taille des donnée d'entrainement pour X\n",
        "\n",
        "-len(X_test) donne la taille des donnée des test pour X\n",
        "\n",
        "-len(X_train[Y_train==0]) donne le nombre de partie perdante dans les donnée d'entrainement de X.\n",
        "\n",
        "-et enfin len(X_train[Y_train==1]) le nombre de partie gagnante dans les donnée d'entrainement de X.\n",
        "\n",
        "\n",
        "Par la suite nous faisons exactement la meme chose que précédament, c'est a dire faire une classification mais cette fois sur les donnée d'entrainement X et Y.\n"
      ]
    },
    {
      "cell_type": "code",
      "metadata": {
        "colab": {
          "base_uri": "https://localhost:8080/"
        },
        "id": "IeMtbspHmJEU",
        "outputId": "3cda0da4-9cd9-4ac7-a4cf-6e6ac565040d"
      },
      "source": [
        "from sklearn.model_selection import KFold\n",
        "kf=KFold(n_splits=10,shuffle=True)\n",
        "for learn,test in kf.split(X):\n",
        "        print(\"app : \",learn,\" test \",test)"
      ],
      "execution_count": 43,
      "outputs": [
        {
          "output_type": "stream",
          "text": [
            "app :  [   0    1    2 ... 2046 2047 2048]  test  [   5   24   27   45   46   54   58   59   66   79   85  105  127  136\n",
            "  171  178  180  193  221  228  245  251  253  260  261  266  284  294\n",
            "  299  321  341  345  357  373  379  415  418  430  433  447  459  465\n",
            "  471  475  477  484  503  504  505  510  519  527  537  544  548  566\n",
            "  567  575  576  581  582  597  663  686  694  713  731  733  749  759\n",
            "  786  795  799  811  825  837  843  851  852  862  879  890  902  906\n",
            "  909  921  933  959  985  991 1009 1014 1032 1045 1046 1050 1051 1066\n",
            " 1076 1099 1103 1106 1127 1133 1141 1151 1164 1191 1203 1205 1208 1212\n",
            " 1221 1230 1231 1239 1243 1250 1255 1263 1270 1272 1284 1290 1307 1310\n",
            " 1318 1321 1323 1325 1332 1340 1350 1352 1362 1369 1388 1412 1413 1425\n",
            " 1436 1442 1448 1452 1459 1468 1497 1501 1507 1510 1511 1519 1534 1536\n",
            " 1541 1545 1546 1550 1554 1568 1578 1589 1608 1631 1659 1660 1662 1669\n",
            " 1675 1697 1704 1713 1716 1744 1764 1772 1778 1793 1825 1834 1855 1856\n",
            " 1861 1865 1874 1880 1888 1889 1903 1909 1927 1948 1961 1965 1966 1986\n",
            " 1988 1992 2011 2015 2021 2025 2027 2036 2044]\n",
            "app :  [   0    1    4 ... 2046 2047 2048]  test  [   2    3   11   12   14   16   17   19   72   74   88   90   92  102\n",
            "  110  114  115  125  134  146  148  157  162  174  182  185  189  199\n",
            "  204  216  227  240  252  285  298  304  327  336  340  343  347  349\n",
            "  364  365  377  387  388  391  394  399  412  413  416  417  421  423\n",
            "  435  441  442  444  467  494  507  511  512  528  551  555  568  586\n",
            "  593  619  640  645  647  648  657  660  662  671  679  680  687  689\n",
            "  718  732  752  765  772  784  787  788  807  816  819  834  841  870\n",
            "  873  877  887  895  920  922  925  940  945  947  954  958  964  966\n",
            "  967  998 1013 1021 1027 1040 1058 1061 1062 1068 1087 1110 1117 1129\n",
            " 1134 1146 1147 1168 1174 1210 1213 1215 1254 1262 1293 1296 1328 1338\n",
            " 1339 1346 1363 1380 1385 1389 1394 1396 1410 1428 1429 1443 1451 1458\n",
            " 1460 1471 1500 1504 1518 1529 1565 1588 1590 1591 1598 1607 1617 1619\n",
            " 1620 1626 1637 1648 1658 1663 1681 1688 1698 1718 1724 1738 1763 1768\n",
            " 1774 1799 1808 1809 1864 1868 1878 1890 1897 1899 1900 1910 1919 1933\n",
            " 1946 1953 1964 1970 1972 2010 2029 2032 2039]\n",
            "app :  [   0    1    2 ... 2046 2047 2048]  test  [   4   13   43   47   48   57   62   64   68   69   81   86   95  100\n",
            "  129  132  133  135  149  150  156  168  169  205  211  218  239  259\n",
            "  272  281  282  290  291  300  303  308  315  320  367  392  401  403\n",
            "  414  429  439  454  460  468  482  483  493  495  496  509  515  525\n",
            "  532  534  541  545  554  580  587  598  618  625  639  643  649  655\n",
            "  683  696  705  714  717  722  727  751  757  771  773  777  779  781\n",
            "  790  793  801  803  804  842  848  878  885  886  901  905  929  931\n",
            "  939  941  949  951  955  965  981  984  986  992 1022 1028 1041 1044\n",
            " 1047 1063 1077 1089 1102 1105 1120 1131 1156 1175 1188 1199 1211 1232\n",
            " 1233 1241 1258 1259 1269 1282 1297 1309 1356 1359 1364 1370 1391 1393\n",
            " 1403 1406 1408 1421 1437 1453 1457 1467 1479 1486 1498 1513 1532 1542\n",
            " 1549 1557 1562 1567 1575 1579 1597 1600 1615 1623 1628 1633 1647 1653\n",
            " 1671 1673 1693 1701 1721 1725 1728 1752 1756 1775 1792 1812 1816 1830\n",
            " 1840 1843 1848 1852 1870 1873 1877 1879 1885 1898 1913 1925 1934 1944\n",
            " 1962 1963 1969 1993 1994 1995 1996 2006 2043]\n",
            "app :  [   0    1    2 ... 2044 2047 2048]  test  [  23   32   49   55   73   75   98   99  111  126  139  144  155  158\n",
            "  160  161  164  166  177  179  188  192  197  206  208  222  242  250\n",
            "  280  288  289  307  311  319  326  328  337  348  351  363  370  374\n",
            "  376  383  389  390  395  398  402  406  445  453  456  458  476  485\n",
            "  498  517  521  529  535  550  569  574  609  622  631  635  644  682\n",
            "  709  721  724  738  742  743  744  746  766  775  778  783  785  792\n",
            "  810  814  817  826  831  840  845  846  880  881  903  917  928  946\n",
            "  948  950  960  970  987  995 1006 1007 1031 1038 1049 1079 1093 1096\n",
            " 1100 1108 1118 1140 1143 1186 1187 1193 1236 1238 1279 1283 1357 1382\n",
            " 1384 1390 1397 1398 1399 1401 1405 1407 1416 1419 1432 1434 1435 1440\n",
            " 1449 1456 1462 1469 1483 1512 1514 1528 1533 1564 1566 1569 1581 1599\n",
            " 1611 1614 1618 1624 1634 1636 1639 1655 1670 1703 1706 1708 1710 1722\n",
            " 1726 1754 1759 1765 1766 1767 1770 1784 1785 1797 1798 1800 1803 1807\n",
            " 1818 1828 1833 1845 1857 1867 1915 1922 1931 1935 1941 1950 1951 1977\n",
            " 1991 2003 2009 2016 2026 2034 2040 2045 2046]\n",
            "app :  [   1    2    3 ... 2046 2047 2048]  test  [   0   15   28   29   42   50  123  143  147  152  163  170  190  196\n",
            "  202  207  264  274  275  283  293  295  305  331  335  338  344  346\n",
            "  353  360  368  375  393  405  410  411  424  426  438  455  461  462\n",
            "  486  490  499  520  531  539  553  557  571  605  612  614  627  628\n",
            "  632  637  651  658  664  669  674  688  690  697  703  715  730  735\n",
            "  737  774  782  806  824  835  839  847  854  864  865  882  884  888\n",
            "  894  914  918  930  935  938  953  957  968  983  996 1001 1004 1012\n",
            " 1023 1034 1035 1052 1097 1111 1112 1121 1125 1145 1166 1180 1183 1184\n",
            " 1185 1189 1202 1206 1244 1248 1276 1281 1285 1291 1292 1295 1299 1301\n",
            " 1303 1305 1316 1317 1319 1324 1333 1336 1343 1347 1348 1354 1400 1415\n",
            " 1417 1424 1427 1433 1444 1446 1450 1472 1473 1476 1491 1493 1496 1515\n",
            " 1525 1540 1543 1547 1570 1571 1572 1580 1584 1593 1603 1605 1606 1612\n",
            " 1644 1652 1656 1666 1667 1668 1683 1687 1692 1695 1737 1740 1741 1742\n",
            " 1749 1751 1757 1777 1810 1817 1839 1847 1896 1914 1917 1937 1942 1945\n",
            " 1952 1954 1957 1973 1982 1987 1999 2008 2012]\n",
            "app :  [   0    1    2 ... 2046 2047 2048]  test  [   8   18   26   33   52   71   78   87   91   94  103  107  120  130\n",
            "  141  145  165  172  183  187  194  217  224  231  234  241  246  265\n",
            "  286  292  323  350  358  372  400  407  422  434  446  450  451  463\n",
            "  466  470  474  480  487  491  497  508  513  526  543  562  578  579\n",
            "  584  590  601  604  611  613  617  623  626  642  650  659  666  675\n",
            "  693  699  707  711  716  728  740  754  768  791  794  802  812  815\n",
            "  822  850  853  856  858  875  883  892  907  910  934  944  972  980\n",
            "  993  994  999 1005 1018 1020 1036 1048 1072 1073 1074 1085 1098 1104\n",
            " 1113 1114 1124 1126 1152 1160 1167 1169 1172 1173 1176 1177 1182 1190\n",
            " 1207 1209 1216 1223 1228 1229 1237 1249 1252 1261 1266 1268 1320 1327\n",
            " 1361 1366 1368 1371 1381 1383 1386 1387 1402 1409 1418 1420 1430 1470\n",
            " 1480 1516 1524 1531 1552 1596 1632 1635 1638 1651 1654 1678 1680 1682\n",
            " 1709 1715 1719 1720 1730 1731 1734 1739 1745 1746 1747 1755 1769 1771\n",
            " 1788 1804 1811 1831 1854 1863 1869 1881 1882 1892 1906 1923 1936 1943\n",
            " 1958 1959 1968 1976 2001 2005 2007 2020 2041]\n",
            "app :  [   0    1    2 ... 2045 2046 2047]  test  [  30   36   39   41   60   63   76   96  104  109  118  128  137  142\n",
            "  151  154  173  175  195  201  203  212  214  230  263  269  270  273\n",
            "  277  297  301  310  313  322  325  329  352  359  362  369  371  378\n",
            "  419  420  479  488  489  500  518  524  540  559  565  577  594  596\n",
            "  599  603  615  620  624  634  646  653  654  656  661  670  672  692\n",
            "  695  698  708  719  723  729  736  739  745  761  769  789  796  798\n",
            "  820  838  849  859  860  871  897  898  899  904  911  912  915  924\n",
            "  926  943  973  975  982 1017 1033 1042 1064 1069 1070 1078 1083 1086\n",
            " 1088 1101 1128 1132 1136 1142 1148 1154 1157 1195 1197 1200 1204 1217\n",
            " 1225 1242 1247 1256 1264 1274 1275 1288 1311 1345 1349 1367 1375 1411\n",
            " 1438 1454 1455 1465 1478 1484 1485 1494 1499 1503 1508 1521 1523 1551\n",
            " 1553 1555 1560 1573 1576 1592 1594 1610 1616 1621 1625 1642 1649 1672\n",
            " 1674 1677 1684 1685 1690 1712 1717 1732 1750 1762 1773 1783 1787 1819\n",
            " 1824 1826 1827 1842 1844 1849 1850 1860 1862 1876 1894 1895 1911 1921\n",
            " 1939 1955 1967 1997 2014 2018 2031 2038 2048]\n",
            "app :  [   0    2    3 ... 2046 2047 2048]  test  [   1    6    7   10   20   25   31   37   44   51   53   61   65   67\n",
            "   82   83   89  106  119  122  159  181  186  198  210  213  220  229\n",
            "  233  237  238  243  247  248  262  267  287  302  316  330  366  380\n",
            "  396  397  408  409  428  432  452  464  469  473  502  514  530  546\n",
            "  547  558  564  570  589  600  621  636  677  678  684  701  712  725\n",
            "  726  734  747  756  767  797  809  828  830  833  836  861  863  869\n",
            "  872  874  876  889  891  893  927  952  956  997 1010 1011 1015 1029\n",
            " 1043 1060 1075 1115 1123 1155 1162 1165 1214 1222 1226 1227 1235 1240\n",
            " 1245 1246 1251 1257 1260 1265 1271 1277 1287 1294 1300 1302 1304 1313\n",
            " 1329 1331 1344 1355 1358 1360 1373 1376 1378 1395 1414 1431 1445 1464\n",
            " 1466 1474 1481 1487 1488 1489 1490 1506 1509 1559 1561 1574 1585 1587\n",
            " 1601 1602 1604 1609 1613 1629 1630 1641 1643 1645 1650 1661 1664 1665\n",
            " 1686 1691 1696 1707 1729 1733 1760 1761 1776 1780 1790 1791 1813 1815\n",
            " 1820 1829 1841 1853 1866 1891 1901 1904 1916 1926 1929 1932 1949 1960\n",
            " 1975 1981 1985 1989 1998 2004 2024 2030 2033]\n",
            "app :  [   0    1    2 ... 2045 2046 2048]  test  [   9   21   34   35   40   70   77   84  101  108  113  117  124  131\n",
            "  138  140  167  176  184  191  209  215  219  223  225  235  236  244\n",
            "  254  257  258  276  279  296  312  314  317  354  355  356  361  382\n",
            "  404  427  437  449  478  492  506  533  536  538  542  583  585  588\n",
            "  591  595  602  606  608  610  630  633  638  676  681  685  691  700\n",
            "  702  704  706  710  720  750  758  762  763  770  780  800  808  813\n",
            "  821  829  832  857  866  868  896  900  908  919  961  962  971  974\n",
            "  977  978  989 1003 1016 1026 1037 1054 1055 1059 1065 1067 1080 1081\n",
            " 1091 1107 1122 1130 1135 1137 1144 1149 1158 1163 1170 1178 1179 1192\n",
            " 1196 1201 1218 1220 1224 1253 1267 1273 1280 1312 1326 1330 1335 1342\n",
            " 1353 1372 1377 1379 1422 1423 1439 1447 1461 1463 1475 1505 1522 1535\n",
            " 1537 1538 1539 1544 1556 1558 1577 1583 1622 1627 1640 1657 1676 1700\n",
            " 1702 1711 1714 1736 1753 1779 1782 1789 1801 1802 1822 1823 1832 1837\n",
            " 1838 1858 1871 1872 1875 1883 1884 1905 1908 1912 1918 1924 1930 1940\n",
            " 1971 1974 1978 1984 2017 2028 2035 2037 2047]\n",
            "app :  [   0    1    2 ... 2046 2047 2048]  test  [  22   38   56   80   93   97  112  116  121  153  200  226  232  249\n",
            "  255  256  268  271  278  306  309  318  324  332  333  334  339  342\n",
            "  381  384  385  386  425  431  436  440  443  448  457  472  481  501\n",
            "  516  522  523  549  552  556  560  561  563  572  573  592  607  616\n",
            "  629  641  652  665  667  668  673  741  748  753  755  760  764  776\n",
            "  805  818  823  827  844  855  867  913  916  923  932  936  937  942\n",
            "  963  969  976  979  988  990 1000 1002 1008 1019 1024 1025 1030 1039\n",
            " 1053 1056 1057 1071 1082 1084 1090 1092 1094 1095 1109 1116 1119 1138\n",
            " 1139 1150 1153 1159 1161 1171 1181 1194 1198 1219 1234 1278 1286 1289\n",
            " 1298 1306 1308 1314 1315 1322 1334 1337 1341 1351 1365 1374 1392 1404\n",
            " 1426 1441 1477 1482 1492 1495 1502 1517 1520 1526 1527 1530 1548 1563\n",
            " 1582 1586 1595 1646 1679 1689 1694 1699 1705 1723 1727 1735 1743 1748\n",
            " 1758 1781 1786 1794 1795 1796 1805 1806 1814 1821 1835 1836 1846 1851\n",
            " 1859 1886 1887 1893 1902 1907 1920 1928 1938 1947 1956 1979 1980 1983\n",
            " 1990 2000 2002 2013 2019 2022 2023 2042]\n"
          ],
          "name": "stdout"
        }
      ]
    },
    {
      "cell_type": "code",
      "metadata": {
        "colab": {
          "base_uri": "https://localhost:8080/",
          "height": 296
        },
        "id": "70Lm2NrFnW6k",
        "outputId": "29f74ad4-7b84-4726-8fea-ad4c01db62f2"
      },
      "source": [
        "# TP3prog2.py\n",
        " \n",
        "import pandas as pd\n",
        "from matplotlib import pyplot as plt\n",
        " \n",
        "data = pd.read_csv(\"/content/drive/MyDrive/Université/M1/S8/IA/TP3/full_dataset.csv\")\n",
        " \n",
        "features_cols = [\"my_health\", \"opponent_health\", \"my_hand\", \"opponent_hand\", \"my_board_nb_creatures\",\n",
        "     \"my_board_total_health\", \"my_board_total_attack\", \"opponent_board_nb_creatures\",\n",
        "     \"opponent_board_total_health\", \"opponent_board_total_attack\", \"me_playing\"]\n",
        "pred_col = \"result\"\n",
        " \n",
        "turns_before_end = 4\n",
        "turn_df = data[data[\"turns_to_end\"] == turns_before_end]\n",
        "X = turn_df[features_cols]\n",
        "Y = turn_df[pred_col]\n",
        " \n",
        "from sklearn import neighbors\n",
        "from sklearn.model_selection import KFold\n",
        "kf=KFold(n_splits=10,shuffle=True)\n",
        "scores=[]\n",
        "k_values = range(1,100,1)\n",
        "for k in k_values:\n",
        "    print(\"Computing... %d %%\"%(int(100*(k-k_values[0])/k_values[-1])), end='\\r')\n",
        "    score=0\n",
        "    clf = neighbors.KNeighborsClassifier(k)\n",
        "    for learn,test in kf.split(X):\n",
        "        X_train=X.iloc[learn]\n",
        "        Y_train=Y.iloc[learn]\n",
        "        clf.fit(X_train, Y_train)\n",
        "        X_test=X.iloc[test]\n",
        "        Y_test=Y.iloc[test]\n",
        "        score += clf.score(X_test,Y_test) / kf.n_splits\n",
        "    scores.append(score)\n",
        "\n",
        "best_score, best_k = max([(v, k_values[i]) for (i,v) in enumerate(scores)])\n",
        "print(\"best k:\",best_k, \" score=\",best_score)\n",
        "plt.plot(k_values, scores)\n",
        "plt.xlabel(\"k\") \n",
        "plt.ylabel(\"score\")\n",
        "plt.plot(best_k, best_score, 'or')\n",
        "plt.plot([0,best_k,best_k], [best_score,best_score,min(scores)], ':r')\n",
        "plt.show()"
      ],
      "execution_count": 45,
      "outputs": [
        {
          "output_type": "stream",
          "text": [
            "best k: 55  score= 0.7823218555714968\n"
          ],
          "name": "stdout"
        },
        {
          "output_type": "display_data",
          "data": {
            "image/png": "[encoded data removed]",
            "text/plain": [
              "<Figure size 432x288 with 1 Axes>"
            ]
          },
          "metadata": {
            "tags": [],
            "needs_background": "light"
          }
        }
      ]
    },
    {
      "cell_type": "markdown",
      "metadata": {
        "id": "Jf1Aa6O_SR7l"
      },
      "source": [
        "## Exercice 3 : Régression linéaire\n"
      ]
    },
    {
      "cell_type": "code",
      "metadata": {
        "colab": {
          "base_uri": "https://localhost:8080/"
        },
        "id": "cNqZK3Fnn6bJ",
        "outputId": "7398dd93-9fb9-4ee2-9c84-1ec7cb3668b0"
      },
      "source": [
        "import pandas as pd\n",
        " \n",
        "data = pd.read_csv(\"/content/drive/MyDrive/Université/M1/S8/IA/TP3/full_dataset.csv\")\n",
        " \n",
        "features_cols = [\"my_health\", \"opponent_health\", \"my_hand\", \"opponent_hand\", \"my_board_nb_creatures\",\n",
        "     \"my_board_total_health\", \"my_board_total_attack\", \"opponent_board_nb_creatures\",\n",
        "     \"opponent_board_total_health\", \"opponent_board_total_attack\"]\n",
        " \n",
        "pred_col = \"turns_to_end\"\n",
        " \n",
        "current_turn = 10\n",
        " \n",
        "turn_df = data[data[\"turn_id\"] == current_turn]\n",
        "X = turn_df[features_cols]\n",
        "Y = turn_df[pred_col]\n",
        "\n",
        "print(len(X))"
      ],
      "execution_count": 47,
      "outputs": [
        {
          "output_type": "stream",
          "text": [
            "1909\n"
          ],
          "name": "stdout"
        }
      ]
    },
    {
      "cell_type": "markdown",
      "metadata": {
        "id": "GWOmTqeWoN1H"
      },
      "source": [
        "### 1 - Séparation des donnée de jeu"
      ]
    },
    {
      "cell_type": "code",
      "metadata": {
        "colab": {
          "base_uri": "https://localhost:8080/"
        },
        "id": "yB_1kIQGowqZ",
        "outputId": "71201009-de70-4af4-fd05-34a4cf87e321"
      },
      "source": [
        "data = pd.read_csv(\"/content/drive/MyDrive/Université/M1/S8/IA/TP3/full_dataset.csv\")\n",
        " \n",
        "features_cols = [\"my_health\", \"opponent_health\", \"my_hand\", \"opponent_hand\", \"my_board_nb_creatures\",\n",
        "     \"my_board_total_health\", \"my_board_total_attack\", \"opponent_board_nb_creatures\",\n",
        "     \"opponent_board_total_health\", \"opponent_board_total_attack\"]\n",
        " \n",
        "\n",
        "X_train,X_test,Y_train,Y_test=train_test_split(X,Y,test_size=0.3) \n",
        "nb_neighb = 45\n",
        "clf = neighbors.KNeighborsClassifier(nb_neighb)\n",
        "clf.fit(X_train, Y_train)\n",
        "\n",
        "pred_col = \"turns_to_end\"\n",
        " \n",
        "current_turn = 10\n",
        " \n",
        "turn_df = data[data[\"turn_id\"] == current_turn]\n",
        "X = turn_df[features_cols]\n",
        "Y = turn_df[pred_col]\n",
        "\n",
        "print(len(X))"
      ],
      "execution_count": 48,
      "outputs": [
        {
          "output_type": "stream",
          "text": [
            "1909\n"
          ],
          "name": "stdout"
        }
      ]
    },
    {
      "cell_type": "markdown",
      "metadata": {
        "id": "x8fExqqapL-H"
      },
      "source": [
        "###2 - Implémentation de la régression linéaire"
      ]
    },
    {
      "cell_type": "code",
      "metadata": {
        "id": "gnnDOm07pjIM"
      },
      "source": [
        ""
      ],
      "execution_count": null,
      "outputs": []
    },
    {
      "cell_type": "markdown",
      "metadata": {
        "id": "P8oZWTIUpjZx"
      },
      "source": [
        "###3 - Evaluation du modèle sur le jeu de test\n"
      ]
    },
    {
      "cell_type": "code",
      "metadata": {
        "id": "292Ws2D0p49U"
      },
      "source": [
        ""
      ],
      "execution_count": null,
      "outputs": []
    },
    {
      "cell_type": "markdown",
      "metadata": {
        "id": "VVU-UPQlp5Tc"
      },
      "source": [
        "###4 - Visualiser l’erreur de prédiction"
      ]
    },
    {
      "cell_type": "code",
      "metadata": {
        "id": "yX44N97Pp-yG"
      },
      "source": [
        ""
      ],
      "execution_count": null,
      "outputs": []
    },
    {
      "cell_type": "markdown",
      "metadata": {
        "id": "Y0bFT12ap94p"
      },
      "source": [
        "###5 - Question\n",
        "Ce modèle de prédiction vous paraît-il performant ? \n",
        "\n",
        "...\n",
        "\n",
        "Quelles sont les raisons qui peuvent expliquer les erreurs de \n",
        "prédiction ?\n",
        "\n",
        "..."
      ]
    }
  ]
}